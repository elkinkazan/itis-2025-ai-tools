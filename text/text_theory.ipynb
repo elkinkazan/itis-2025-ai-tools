{
 "cells": [
  {
   "cell_type": "markdown",
   "id": "344a8747",
   "metadata": {
    "colab_type": "text",
    "id": "view-in-github"
   },
   "source": [
    "<a href=\"https://colab.research.google.com/github/alexander-toschev/ai-tools/blob/main/text/text_theory.ipynb\" target=\"_parent\"><img src=\"https://colab.research.google.com/assets/colab-badge.svg\" alt=\"Open In Colab\"/></a>"
   ]
  },
  {
   "cell_type": "markdown",
   "id": "6451dcc1",
   "metadata": {
    "id": "6451dcc1"
   },
   "source": [
    "# 🧠 Лекция: Обработка текстов в Python\n",
    "Цель — познакомиться с основами обработки текстовых данных, включая очистку, векторизацию и классификацию.\n"
   ]
  },
  {
   "cell_type": "markdown",
   "id": "9059fdd2",
   "metadata": {
    "id": "9059fdd2"
   },
   "source": [
    "## 📘 Что такое текстовые данные\n",
    "- Неструктурированные: отзывы, чаты, документы\n",
    "- Полу-структурированные: HTML, XML, JSON\n",
    "- Структурированные: датафреймы с колонкой `text`\n"
   ]
  },
  {
   "cell_type": "markdown",
   "id": "b887ac90",
   "metadata": {
    "id": "b887ac90"
   },
   "source": [
    "## 🛠 Библиотеки Python для NLP\n",
    "- `nltk` — базовая обработка (токенизация, стемминг)\n",
    "- `spaCy` — быстрый и мощный анализ: POS-теги, сущности\n",
    "- `re` — регулярные выражения\n",
    "- `scikit-learn` — векторизация текста (TF-IDF)\n",
    "- `transformers` — предобученные модели BERT, GPT и др."
   ]
  },
  {
   "cell_type": "markdown",
   "id": "49c6dbad",
   "metadata": {
    "id": "49c6dbad"
   },
   "source": [
    "## 🔧 Очистка текста\n",
    "- Приведение к нижнему регистру\n",
    "- Удаление пунктуации, HTML-тегов\n",
    "- Удаление стоп-слов\n",
    "- Лемматизация и/или стемминг"
   ]
  },
  {
   "cell_type": "markdown",
   "id": "be3a6b31",
   "metadata": {
    "id": "be3a6b31"
   },
   "source": [
    "## 📚 Что такое лемматизация?\n",
    "**Лемматизация** — это процесс приведения слова к его базовой словарной форме.\n",
    "\n",
    "**Примеры:**\n",
    "- `running`, `ran`, `runs` → `run`\n",
    "- `was`, `were` → `be`\n",
    "- `better` → `good`\n",
    "\n",
    "Цель — привести все формы одного слова к одной базе, чтобы улучшить анализ.\n"
   ]
  },
  {
   "cell_type": "code",
   "execution_count": null,
   "id": "932de9ce",
   "metadata": {
    "id": "932de9ce"
   },
   "outputs": [],
   "source": [
    "import nltk\n",
    "nltk.download('wordnet')\n",
    "from nltk.stem import WordNetLemmatizer\n",
    "\n",
    "lemmatizer = WordNetLemmatizer()\n",
    "\n",
    "print(lemmatizer.lemmatize(\"running\"))        # ➜ run\n",
    "print(lemmatizer.lemmatize(\"better\", pos='a')) # ➜ good\n",
    "print(lemmatizer.lemmatize(\"feet\"))           # ➜ foot"
   ]
  },
  {
   "cell_type": "markdown",
   "id": "4e8c8112",
   "metadata": {
    "id": "4e8c8112"
   },
   "source": [
    "### 📊 Лемматизация vs Стемминг\n",
    "- **Стемминг** — обрезает окончания слов, быстрый, но грубый.\n",
    "- **Лемматизация** — учитывает грамматику и использует словари.\n",
    "\n",
    "|     | Стемминг | Лемматизация |\n",
    "|-----|----------|---------------|\n",
    "| Скорость | Быстрее | Медленнее |\n",
    "| Точность | Ниже | Выше |\n",
    "| Основа | Обрезка | Словари + грамматика |\n"
   ]
  },
  {
   "cell_type": "markdown",
   "id": "1c550f55",
   "metadata": {
    "id": "1c550f55"
   },
   "source": [
    "## 🔠 Векторизация текста\n",
    "- **Bag of Words**: частоты слов\n",
    "- **TF-IDF**: частота с учетом важности\n",
    "- **Word2Vec / BERT**: контекстные эмбеддинги\n"
   ]
  },
  {
   "cell_type": "code",
   "execution_count": 1,
   "id": "77363b16",
   "metadata": {
    "colab": {
     "base_uri": "https://localhost:8080/"
    },
    "id": "77363b16",
    "outputId": "162be882-7c84-4765-9234-7a8f28a2f4b3"
   },
   "outputs": [
    {
     "name": "stdout",
     "output_type": "stream",
     "text": [
      "[[0.         0.57735027 0.57735027 0.57735027]\n",
      " [0.63009934 0.44832087 0.44832087 0.44832087]]\n"
     ]
    }
   ],
   "source": [
    "from sklearn.feature_extraction.text import TfidfVectorizer\n",
    "corpus = [\"this is a text\", \"this is another text\"]\n",
    "vectorizer = TfidfVectorizer()\n",
    "X = vectorizer.fit_transform(corpus)\n",
    "print(X.toarray())"
   ]
  },
  {
   "cell_type": "markdown",
   "id": "aa6ce2c8",
   "metadata": {
    "id": "aa6ce2c8"
   },
   "source": [
    "## 🧠 Пример: Классификация текстов (20 newsgroups)\n",
    "- Классы: спорт, медицина, компьютеры и т.д.\n",
    "- Модель: `TfidfVectorizer` + `Naive Bayes`"
   ]
  },
  {
   "cell_type": "code",
   "execution_count": 5,
   "id": "138967e1",
   "metadata": {
    "colab": {
     "base_uri": "https://localhost:8080/"
    },
    "id": "138967e1",
    "outputId": "e9b865dc-8c53-4b70-8bee-d3e5156ceb77"
   },
   "outputs": [
    {
     "name": "stdout",
     "output_type": "stream",
     "text": [
      "Text: 'This is a bad example'\n",
      "Predicted Category: sci.med\n"
     ]
    }
   ],
   "source": [
    "from sklearn.datasets import fetch_20newsgroups\n",
    "from sklearn.naive_bayes import MultinomialNB\n",
    "from sklearn.pipeline import make_pipeline\n",
    "from sklearn.feature_extraction.text import TfidfVectorizer\n",
    "\n",
    "# Load dataset\n",
    "data = fetch_20newsgroups(subset='train', categories=['sci.med', 'rec.sport.baseball'])\n",
    "\n",
    "# Create and train the model\n",
    "model = make_pipeline(TfidfVectorizer(), MultinomialNB())\n",
    "model.fit(data.data, data.target)\n",
    "\n",
    "# Predict category\n",
    "text = \"This is a bad example\"\n",
    "predicted_index = model.predict([text])[0]\n",
    "predicted_category = data.target_names[predicted_index]\n",
    "\n",
    "print(f\"Text: '{text}'\\nPredicted Category: {predicted_category}\")"
   ]
  },
  {
   "cell_type": "markdown",
   "id": "c4c451f0",
   "metadata": {
    "id": "c4c451f0"
   },
   "source": [
    "## 📌 Вывод\n",
    "- Текст нужно очищать и нормализовать\n",
    "- Лемматизация помогает сократить словарь и повысить качество\n",
    "- TF-IDF — хороший базовый способ векторизации\n",
    "- Для сложных задач используют предобученные модели (BERT, GPT и др.)"
   ]
  },
  {
   "cell_type": "markdown",
   "id": "163e9569",
   "metadata": {
    "id": "163e9569"
   },
   "source": [
    "## 🤖 Что такое BERT\n",
    "**BERT (Bidirectional Encoder Representations from Transformers)** — это предобученная языковая модель от Google, которая понимает контекст слов в обе стороны — и слева, и справа.\n",
    "\n",
    "Например, слово `bank` в двух разных предложениях:\n",
    "- \"He went to the **bank** to deposit money\" → банк\n",
    "- \"She sat by the **bank** of the river\" → берег\n",
    "\n",
    "**BERT** понимает разницу и создает разные векторные представления.\n",
    "\n",
    "Он используется для:\n",
    "- Классификации текста\n",
    "- Распознавания сущностей\n",
    "- Вопрос-ответ систем\n",
    "- Суммаризации"
   ]
  },
  {
   "cell_type": "code",
   "execution_count": 10,
   "id": "a488d3ac",
   "metadata": {
    "colab": {
     "base_uri": "https://localhost:8080/"
    },
    "id": "a488d3ac",
    "outputId": "9a31d258-e458-4f2e-a6ed-e1f7fdf14657"
   },
   "outputs": [
    {
     "name": "stderr",
     "output_type": "stream",
     "text": [
      "No model was supplied, defaulted to distilbert/distilbert-base-uncased-finetuned-sst-2-english and revision 714eb0f (https://huggingface.co/distilbert/distilbert-base-uncased-finetuned-sst-2-english).\n",
      "Using a pipeline without specifying a model name and revision in production is not recommended.\n",
      "Device set to use cpu\n"
     ]
    },
    {
     "name": "stdout",
     "output_type": "stream",
     "text": [
      "[{'label': 'NEGATIVE', 'score': 0.9997377991676331}]\n"
     ]
    }
   ],
   "source": [
    "from transformers import pipeline\n",
    "classifier = pipeline('sentiment-analysis')\n",
    "print(classifier('It more or less bad'))"
   ]
  },
  {
   "cell_type": "markdown",
   "id": "61f98a34",
   "metadata": {
    "id": "61f98a34"
   },
   "source": [
    "## 🔢 Сравнение методов векторизации текста\n"
   ]
  },
  {
   "cell_type": "markdown",
   "id": "7721e2be",
   "metadata": {
    "id": "7721e2be"
   },
   "source": [
    "### 1. Bag of Words (BoW)\n",
    "Превращает текст в вектор частот слов.\n",
    "- Не учитывает порядок и контекст\n",
    "- Прост в реализации\n",
    "\n",
    "**Пример:**\n",
    "```python\n",
    "from sklearn.feature_extraction.text import CountVectorizer\n",
    "vec = CountVectorizer()\n",
    "X = vec.fit_transform([\"I love NLP\", \"NLP is fun\"])\n",
    "print(X.toarray())\n",
    "```"
   ]
  },
  {
   "cell_type": "code",
   "execution_count": 11,
   "id": "HFrCsAOP3SO2",
   "metadata": {
    "colab": {
     "base_uri": "https://localhost:8080/"
    },
    "id": "HFrCsAOP3SO2",
    "outputId": "fa50c099-3e9d-4b11-c43a-77d0b8098a62"
   },
   "outputs": [
    {
     "name": "stdout",
     "output_type": "stream",
     "text": [
      "[[0 0 1 1]\n",
      " [1 1 0 1]]\n"
     ]
    }
   ],
   "source": [
    "from sklearn.feature_extraction.text import CountVectorizer\n",
    "vec = CountVectorizer()\n",
    "X = vec.fit_transform([\"I love NLP\", \"NLP is fun\"])\n",
    "print(X.toarray())"
   ]
  },
  {
   "cell_type": "markdown",
   "id": "f61331c6",
   "metadata": {
    "id": "f61331c6"
   },
   "source": [
    "### 2. TF-IDF (Term Frequency-Inverse Document Frequency)\n",
    "Вектор, учитывающий частоту слова в документе и его редкость в коллекции.\n",
    "- Снижает вес часто встречающихся слов (например, \"the\")\n",
    "- Подходит для классификации\n",
    "\n",
    "**Пример:**\n",
    "```python\n",
    "from sklearn.feature_extraction.text import TfidfVectorizer\n",
    "vec = TfidfVectorizer()\n",
    "X = vec.fit_transform([\"this is a text\", \"this is another text\"])\n",
    "print(X.toarray())\n",
    "```"
   ]
  },
  {
   "cell_type": "code",
   "execution_count": 12,
   "id": "qRPoOfdl3YIv",
   "metadata": {
    "colab": {
     "base_uri": "https://localhost:8080/"
    },
    "id": "qRPoOfdl3YIv",
    "outputId": "0fab0a26-0824-4c37-dcf6-7499ad63ee19"
   },
   "outputs": [
    {
     "name": "stdout",
     "output_type": "stream",
     "text": [
      "[[0.         0.57735027 0.57735027 0.57735027]\n",
      " [0.63009934 0.44832087 0.44832087 0.44832087]]\n"
     ]
    }
   ],
   "source": [
    "from sklearn.feature_extraction.text import TfidfVectorizer\n",
    "vec = TfidfVectorizer()\n",
    "X = vec.fit_transform([\"this is a text\", \"this is another text\"])\n",
    "print(X.toarray())"
   ]
  },
  {
   "cell_type": "markdown",
   "id": "59eb4165",
   "metadata": {
    "id": "59eb4165"
   },
   "source": [
    "### 3. Word2Vec / GloVe\n",
    "- Каждое слово представляется как плотный вектор (обычно длины 300)\n",
    "- Похожее значение → похожий вектор\n",
    "- Требует предварительного обучения или использования готовых весов\n",
    "\n",
    "**Пример (gensim Word2Vec):**\n",
    "```python\n",
    "from gensim.models import Word2Vec\n",
    "sentences = [[\"cat\", \"sits\", \"on\", \"the\", \"mat\"]]\n",
    "model = Word2Vec(sentences, vector_size=50, min_count=1)\n",
    "print(model.wv['cat'])\n",
    "```"
   ]
  },
  {
   "cell_type": "code",
   "execution_count": 1,
   "id": "-EuA_db-3fzd",
   "metadata": {
    "colab": {
     "base_uri": "https://localhost:8080/"
    },
    "id": "-EuA_db-3fzd",
    "outputId": "8761190f-5819-4a58-90db-59baba7bf385"
   },
   "outputs": [
    {
     "name": "stdout",
     "output_type": "stream",
     "text": [
      "Collecting gensim\n",
      "  Downloading gensim-4.3.3-cp39-cp39-macosx_11_0_arm64.whl.metadata (8.3 kB)\n",
      "Requirement already satisfied: numpy<2.0,>=1.18.5 in /Users/alex/miniforge3/envs/macml/lib/python3.9/site-packages (from gensim) (1.24.3)\n",
      "Requirement already satisfied: scipy<1.14.0,>=1.7.0 in /Users/alex/miniforge3/envs/macml/lib/python3.9/site-packages (from gensim) (1.13.1)\n",
      "Collecting smart-open>=1.8.1 (from gensim)\n",
      "  Downloading smart_open-7.1.0-py3-none-any.whl.metadata (24 kB)\n",
      "Requirement already satisfied: wrapt in /Users/alex/miniforge3/envs/macml/lib/python3.9/site-packages (from smart-open>=1.8.1->gensim) (1.14.1)\n",
      "Downloading gensim-4.3.3-cp39-cp39-macosx_11_0_arm64.whl (24.0 MB)\n",
      "\u001b[2K   \u001b[90m━━━━━━━━━━━━━━━━━━━━━━━━━━━━━━━━━━━━━━━━\u001b[0m \u001b[32m24.0/24.0 MB\u001b[0m \u001b[31m5.7 MB/s\u001b[0m eta \u001b[36m0:00:00\u001b[0m00:01\u001b[0m00:01\u001b[0m\n",
      "\u001b[?25hDownloading smart_open-7.1.0-py3-none-any.whl (61 kB)\n",
      "Installing collected packages: smart-open, gensim\n",
      "Successfully installed gensim-4.3.3 smart-open-7.1.0\n"
     ]
    }
   ],
   "source": [
    "!pip install gensim"
   ]
  },
  {
   "cell_type": "code",
   "execution_count": 2,
   "id": "PbZHBM9M3bkb",
   "metadata": {
    "colab": {
     "base_uri": "https://localhost:8080/",
     "height": 252
    },
    "id": "PbZHBM9M3bkb",
    "outputId": "76dc5bd0-ad89-4f87-f7a4-9915c0765ba9"
   },
   "outputs": [
    {
     "name": "stdout",
     "output_type": "stream",
     "text": [
      "[ 0.00018913  0.00615464 -0.01362529 -0.00275093  0.01533716  0.01469282\n",
      " -0.00734659  0.0052854  -0.01663426  0.01241097 -0.00927464 -0.00632821\n",
      "  0.01862271  0.00174677  0.01498141 -0.01214813  0.01032101  0.01984565\n",
      " -0.01691478 -0.01027138 -0.01412967 -0.0097253  -0.00755713 -0.0170724\n",
      "  0.01591121 -0.00968788  0.01684723  0.01052514 -0.01310005  0.00791574\n",
      "  0.0109403  -0.01485307 -0.01481144 -0.00495046 -0.01725145 -0.00316314\n",
      " -0.00080687  0.00659937  0.00288376 -0.00176284 -0.01118812  0.00346073\n",
      " -0.00179474  0.01358738  0.00794718  0.00905894  0.00286861 -0.00539971\n",
      " -0.00873363 -0.00206415]\n"
     ]
    }
   ],
   "source": [
    "from gensim.models import Word2Vec\n",
    "sentences = [[\"cat\", \"sits\", \"on\", \"the\", \"mat\"]]\n",
    "model = Word2Vec(sentences, vector_size=50, min_count=1)\n",
    "print(model.wv['cat'])"
   ]
  },
  {
   "cell_type": "code",
   "execution_count": 3,
   "id": "jxkVX5YH4J_B",
   "metadata": {
    "colab": {
     "base_uri": "https://localhost:8080/",
     "height": 217
    },
    "id": "jxkVX5YH4J_B",
    "outputId": "441737b5-2666-4096-8b6c-b63650785771"
   },
   "outputs": [
    {
     "name": "stdout",
     "output_type": "stream",
     "text": [
      "4.3.3\n"
     ]
    }
   ],
   "source": [
    "import gensim\n",
    "print(gensim.__version__)"
   ]
  },
  {
   "cell_type": "markdown",
   "id": "7466972a",
   "metadata": {
    "id": "7466972a"
   },
   "source": [
    "### 4. BERT / Sentence-BERT\n",
    "- Векторизует слова или целые предложения\n",
    "- Учитывает порядок, контекст, грамматику\n",
    "- Универсален для любых NLP задач\n",
    "\n",
    "**Пример:**\n",
    "```python\n",
    "from sentence_transformers import SentenceTransformer\n",
    "model = SentenceTransformer('all-MiniLM-L6-v2')\n",
    "embedding = model.encode(\"Natural Language Processing is cool\")\n",
    "print(embedding.shape)  # ➜ (384,)\n",
    "```"
   ]
  },
  {
   "cell_type": "code",
   "execution_count": 17,
   "id": "5ODT42Er3tAb",
   "metadata": {
    "colab": {
     "base_uri": "https://localhost:8080/"
    },
    "id": "5ODT42Er3tAb",
    "outputId": "e5425882-96d1-475f-f247-dae9f66e1dc1"
   },
   "outputs": [
    {
     "name": "stdout",
     "output_type": "stream",
     "text": [
      "(384,)\n",
      "[-1.89818591e-02 -5.96635938e-02  4.80235033e-02 -2.05745585e-02\n",
      "  2.42722854e-02 -7.97964782e-02  2.66040955e-02 -1.70274898e-02\n",
      "  4.15130518e-02  5.52435070e-02  4.61376682e-02 -3.16511118e-03\n",
      "  4.52745333e-02  1.72013566e-02  1.01983259e-02  7.87022486e-02\n",
      "  2.16608848e-02  5.29048778e-02 -1.02077059e-01 -1.07588083e-01\n",
      " -6.50576726e-02  7.96919093e-02 -4.26407158e-02 -5.94089068e-02\n",
      "  2.59572975e-02  7.81594664e-02 -5.58298230e-02 -5.00910804e-02\n",
      "  9.91702899e-02 -4.15725354e-03 -1.29467361e-02  6.03717156e-02\n",
      "  2.21197605e-02  8.94275829e-02 -2.30027288e-02 -3.41766328e-02\n",
      "  2.61088517e-02  5.54244742e-02 -2.12720726e-02  3.26759042e-03\n",
      " -9.39921588e-02 -2.69461628e-02  3.32310959e-03  4.28451551e-03\n",
      "  1.24104291e-01  3.18499319e-02 -7.43955970e-02 -1.36972603e-03\n",
      "  3.79725471e-02  3.21679078e-02 -9.83800068e-02 -4.29900326e-02\n",
      "  7.89796526e-04  1.10257976e-01 -7.02990443e-02  8.25974643e-02\n",
      " -4.00876366e-02 -6.72073886e-02 -5.30215502e-02 -2.86133550e-02\n",
      " -2.99126990e-02 -3.41228172e-02 -9.25811231e-02  2.75428779e-03\n",
      "  4.93393764e-02  2.17782948e-02 -2.77561117e-02 -1.67539041e-03\n",
      "  4.86821588e-03 -1.18303550e-02 -3.41139883e-02  1.20104380e-01\n",
      "  9.08932183e-03  1.16422825e-01 -1.93098038e-02  6.14790060e-02\n",
      " -5.36900982e-02 -5.23090661e-02  3.28811444e-02 -2.00723000e-02\n",
      "  7.82818943e-02 -5.52217662e-02  5.09360395e-02  1.86055582e-02\n",
      "  9.25811008e-02 -7.37718642e-02  4.11238149e-03  7.03168381e-03\n",
      " -8.60396326e-02  5.35716861e-02  1.68481981e-03 -3.92870605e-02\n",
      "  1.23137303e-01 -2.75094341e-02 -2.73193214e-02  1.92426909e-02\n",
      " -2.54888050e-02 -3.70953865e-02 -6.69940514e-03  1.09950446e-01\n",
      " -4.00827900e-02  9.16321948e-03  1.79687999e-02 -7.14141056e-02\n",
      " -4.10716683e-02  3.18274908e-02  2.45696697e-02  6.47033565e-03\n",
      "  4.54629771e-02 -7.94245899e-02 -5.93301188e-03  1.60332788e-02\n",
      " -2.19371747e-02 -2.29364689e-02  5.33960313e-02 -1.39471348e-02\n",
      "  5.17302155e-02  4.21124510e-02  8.24645162e-02 -1.09554995e-02\n",
      " -2.42390875e-02  7.87766650e-02 -8.97283629e-02  6.69961125e-02\n",
      "  2.92718336e-02 -7.69443810e-02  5.77906035e-02 -1.14215586e-33\n",
      "  7.99221098e-02  3.11345309e-02 -3.89369316e-02 -1.69198848e-02\n",
      "  3.68589796e-02 -1.98316593e-02 -1.13708721e-02  1.61901640e-03\n",
      " -5.29070273e-02  9.94399562e-03  5.27198054e-02  3.26615898e-03\n",
      " -3.42036523e-02  5.21076936e-03  5.85282557e-02 -7.72936046e-02\n",
      " -4.61705000e-04  7.99881294e-02 -4.65247314e-03 -1.13813886e-02\n",
      " -4.98099215e-02  7.65829608e-02  1.36180660e-02  5.92388809e-02\n",
      " -3.17848064e-02  6.32765144e-02  3.52484062e-02 -9.14298669e-02\n",
      "  5.91074266e-02  2.04404518e-02 -4.73710783e-02 -2.93504931e-02\n",
      " -5.92376105e-02 -3.90615012e-03 -3.15141841e-03 -7.65664354e-02\n",
      " -6.52559614e-03 -2.01673117e-02  2.25681458e-02 -4.45011146e-02\n",
      " -3.52775790e-02  3.06986971e-03  3.90161574e-02 -8.26826843e-04\n",
      "  8.69469531e-03  3.28783691e-02 -3.69347446e-02  6.12181844e-03\n",
      "  4.99582253e-02 -3.64348441e-02  2.77328920e-02 -5.82589284e-02\n",
      "  2.00203769e-02  7.24815130e-02  8.54998529e-02  2.79577691e-02\n",
      "  3.31038646e-02  4.89412360e-02  7.15596648e-03 -6.89907139e-03\n",
      "  1.17520466e-02  4.46815118e-02  2.02025054e-03 -2.03971881e-02\n",
      " -3.39243524e-02  7.71880522e-03 -3.66924368e-02  1.12053333e-02\n",
      "  3.62149887e-02  3.25176790e-02 -7.45659694e-02  6.98855966e-02\n",
      " -4.04209830e-03 -2.61828918e-02  1.29134273e-02  2.90611610e-02\n",
      "  5.84749356e-02 -9.74259377e-02 -1.03749916e-01  3.53921056e-02\n",
      " -5.36270775e-02 -8.46588016e-02  6.67060241e-02 -3.31844240e-02\n",
      " -1.74816384e-03 -8.08290169e-02  2.48020869e-02 -3.23332436e-02\n",
      "  4.72415574e-02 -2.23173406e-02 -3.81305516e-02 -2.87756678e-02\n",
      " -3.46321613e-02  5.23854904e-02 -4.54937518e-02  2.98710563e-33\n",
      " -4.45015579e-02 -4.47235592e-02 -7.40345791e-02  8.47963840e-02\n",
      " -4.83469889e-02 -7.65813366e-02 -9.90989269e-04  2.48469394e-02\n",
      "  2.61797756e-02 -2.30415240e-02 -2.10897122e-02 -4.62415116e-03\n",
      "  5.25410399e-02 -5.27949119e-03  1.00594603e-01 -6.37806905e-03\n",
      "  6.09674230e-02  3.98047231e-02 -2.08855998e-02  1.11366853e-01\n",
      " -4.00881991e-02  1.42565429e-01 -1.03332065e-01  1.28866788e-02\n",
      "  4.84670810e-02  1.09211877e-02 -5.48248850e-02 -9.00509581e-03\n",
      " -3.23407799e-02  9.73501895e-03 -3.64713222e-02  1.43330367e-02\n",
      " -3.56876515e-02 -5.20296022e-02 -3.38527299e-02 -5.94203994e-02\n",
      " -2.13645324e-02 -1.64922476e-02  3.71552296e-02  1.29226630e-03\n",
      "  5.20412363e-02  4.16895561e-02 -4.22442220e-02 -4.19168064e-04\n",
      " -4.84673865e-02 -3.21505629e-02 -5.02596200e-02  5.34130586e-03\n",
      " -1.91256031e-02  3.90181579e-02 -5.47426660e-03 -2.35911720e-02\n",
      " -2.93949507e-02 -3.57662663e-02  4.45854142e-02 -5.43188453e-02\n",
      "  6.57210723e-02 -7.03565553e-02 -5.46616279e-02 -4.31275778e-02\n",
      " -6.57149032e-02  5.32761738e-02  6.91148192e-02 -5.49796112e-02\n",
      "  6.39539436e-02 -7.19054788e-02 -6.71642274e-02  2.47432776e-02\n",
      " -3.72949429e-02 -5.91512844e-02  8.17216188e-02  4.53143716e-02\n",
      " -1.38841003e-01  3.15362327e-02 -3.31808329e-02 -1.00554237e-02\n",
      "  4.74872142e-02 -2.38233972e-02 -6.89271018e-02  3.22691053e-02\n",
      "  4.38253907e-03 -2.41973088e-03  4.95939814e-02  6.88423589e-02\n",
      "  5.34425862e-02  9.18952823e-02  2.69944835e-02  1.92095079e-02\n",
      "  1.55192036e-02  1.10371457e-02 -4.42204736e-02  2.49665305e-02\n",
      "  2.13013291e-02  1.34910658e-01 -4.04252224e-02 -1.28573667e-08\n",
      " -6.69709593e-02 -8.61010328e-03 -3.80082689e-02  1.72227975e-02\n",
      "  2.81153265e-02 -3.75640057e-02 -5.99374296e-03  3.41100171e-02\n",
      " -9.23643187e-02 -6.14734702e-02  4.61777076e-02 -1.17840257e-03\n",
      " -5.86122647e-02  2.93720085e-02  2.67913919e-02  5.16517758e-02\n",
      "  9.88628063e-03 -1.21553112e-02 -2.18626577e-02  2.00044941e-02\n",
      "  1.06974550e-01  8.76880661e-02 -4.22892570e-02  8.65923092e-02\n",
      " -4.36443426e-02  1.59554593e-02 -3.80300172e-03 -5.78777120e-03\n",
      "  9.26905274e-02 -4.49615978e-02  3.50053199e-02  4.68436554e-02\n",
      "  2.16609961e-03  1.70714632e-02  1.22051403e-01  3.80474213e-03\n",
      "  2.95197330e-02 -5.54863140e-02 -4.08598743e-02 -6.10503256e-02\n",
      "  6.56683519e-02  5.25572188e-02 -1.00583866e-01  3.33930254e-02\n",
      "  3.88009497e-03 -4.91153598e-02  4.17176411e-02 -1.23249315e-01\n",
      "  8.38295463e-03  3.97172719e-02 -1.66584854e-03 -3.40532400e-02\n",
      " -2.69868155e-03  1.39015438e-02  8.71601999e-02  5.46203461e-03\n",
      " -3.08092032e-03  3.07655009e-03 -1.54600497e-02  5.72527312e-02\n",
      "  1.63687859e-02  1.21118374e-01  7.99699745e-04  3.77660827e-03]\n"
     ]
    }
   ],
   "source": [
    "from sentence_transformers import SentenceTransformer\n",
    "model = SentenceTransformer('all-MiniLM-L6-v2')\n",
    "embedding = model.encode(\"Natural Language Processing is cool\")\n",
    "print(embedding.shape)  # ➜ (384,)\n",
    "print(embedding)"
   ]
  },
  {
   "cell_type": "markdown",
   "id": "e8bce77c",
   "metadata": {
    "id": "e8bce77c"
   },
   "source": [
    "### 📊 Сравнение методов\n",
    "| Метод      | Учитывает порядок? | Контекст? | Тип выхода | Размерность |\n",
    "|------------|--------------------|-----------|------------|-------------|\n",
    "| BoW        | ❌                 | ❌        | Документ   | #слов       |\n",
    "| TF-IDF     | ❌                 | ❌        | Документ   | #слов       |\n",
    "| Word2Vec   | ❌                 | ✅ частично | Слово      | ~300        |\n",
    "| BERT       | ✅                 | ✅        | Слово/фраза| 768+        |"
   ]
  }
 ],
 "metadata": {
  "colab": {
   "include_colab_link": true,
   "provenance": []
  },
  "kernelspec": {
   "display_name": "Python 3 (ipykernel)",
   "language": "python",
   "name": "python3"
  },
  "language_info": {
   "codemirror_mode": {
    "name": "ipython",
    "version": 3
   },
   "file_extension": ".py",
   "mimetype": "text/x-python",
   "name": "python",
   "nbconvert_exporter": "python",
   "pygments_lexer": "ipython3",
   "version": "3.9.21"
  }
 },
 "nbformat": 4,
 "nbformat_minor": 5
}

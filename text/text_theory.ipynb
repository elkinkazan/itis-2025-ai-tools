{
  "cells": [
    {
      "cell_type": "markdown",
      "metadata": {
        "id": "view-in-github",
        "colab_type": "text"
      },
      "source": [
        "<a href=\"https://colab.research.google.com/github/alexander-toschev/ai-tools/blob/main/text/text_theory.ipynb\" target=\"_parent\"><img src=\"https://colab.research.google.com/assets/colab-badge.svg\" alt=\"Open In Colab\"/></a>"
      ]
    },
    {
      "cell_type": "markdown",
      "id": "6451dcc1",
      "metadata": {
        "id": "6451dcc1"
      },
      "source": [
        "# 🧠 Лекция: Обработка текстов в Python\n",
        "Цель — познакомиться с основами обработки текстовых данных, включая очистку, векторизацию и классификацию.\n"
      ]
    },
    {
      "cell_type": "markdown",
      "id": "9059fdd2",
      "metadata": {
        "id": "9059fdd2"
      },
      "source": [
        "## 📘 Что такое текстовые данные\n",
        "- Неструктурированные: отзывы, чаты, документы\n",
        "- Полу-структурированные: HTML, XML, JSON\n",
        "- Структурированные: датафреймы с колонкой `text`\n"
      ]
    },
    {
      "cell_type": "markdown",
      "id": "b887ac90",
      "metadata": {
        "id": "b887ac90"
      },
      "source": [
        "## 🛠 Библиотеки Python для NLP\n",
        "- `nltk` — базовая обработка (токенизация, стемминг)\n",
        "- `spaCy` — быстрый и мощный анализ: POS-теги, сущности\n",
        "- `re` — регулярные выражения\n",
        "- `scikit-learn` — векторизация текста (TF-IDF)\n",
        "- `transformers` — предобученные модели BERT, GPT и др."
      ]
    },
    {
      "cell_type": "markdown",
      "id": "49c6dbad",
      "metadata": {
        "id": "49c6dbad"
      },
      "source": [
        "## 🔧 Очистка текста\n",
        "- Приведение к нижнему регистру\n",
        "- Удаление пунктуации, HTML-тегов\n",
        "- Удаление стоп-слов\n",
        "- Лемматизация и/или стемминг"
      ]
    },
    {
      "cell_type": "markdown",
      "id": "be3a6b31",
      "metadata": {
        "id": "be3a6b31"
      },
      "source": [
        "## 📚 Что такое лемматизация?\n",
        "**Лемматизация** — это процесс приведения слова к его базовой словарной форме.\n",
        "\n",
        "**Примеры:**\n",
        "- `running`, `ran`, `runs` → `run`\n",
        "- `was`, `were` → `be`\n",
        "- `better` → `good`\n",
        "\n",
        "Цель — привести все формы одного слова к одной базе, чтобы улучшить анализ.\n"
      ]
    },
    {
      "cell_type": "code",
      "execution_count": null,
      "id": "932de9ce",
      "metadata": {
        "id": "932de9ce"
      },
      "outputs": [],
      "source": [
        "import nltk\n",
        "nltk.download('wordnet')\n",
        "from nltk.stem import WordNetLemmatizer\n",
        "\n",
        "lemmatizer = WordNetLemmatizer()\n",
        "\n",
        "print(lemmatizer.lemmatize(\"running\"))        # ➜ run\n",
        "print(lemmatizer.lemmatize(\"better\", pos='a')) # ➜ good\n",
        "print(lemmatizer.lemmatize(\"feet\"))           # ➜ foot"
      ]
    },
    {
      "cell_type": "markdown",
      "id": "4e8c8112",
      "metadata": {
        "id": "4e8c8112"
      },
      "source": [
        "### 📊 Лемматизация vs Стемминг\n",
        "- **Стемминг** — обрезает окончания слов, быстрый, но грубый.\n",
        "- **Лемматизация** — учитывает грамматику и использует словари.\n",
        "\n",
        "|     | Стемминг | Лемматизация |\n",
        "|-----|----------|---------------|\n",
        "| Скорость | Быстрее | Медленнее |\n",
        "| Точность | Ниже | Выше |\n",
        "| Основа | Обрезка | Словари + грамматика |\n"
      ]
    },
    {
      "cell_type": "markdown",
      "id": "1c550f55",
      "metadata": {
        "id": "1c550f55"
      },
      "source": [
        "## 🔠 Векторизация текста\n",
        "- **Bag of Words**: частоты слов\n",
        "- **TF-IDF**: частота с учетом важности\n",
        "- **Word2Vec / BERT**: контекстные эмбеддинги\n"
      ]
    },
    {
      "cell_type": "code",
      "execution_count": null,
      "id": "77363b16",
      "metadata": {
        "id": "77363b16"
      },
      "outputs": [],
      "source": [
        "from sklearn.feature_extraction.text import TfidfVectorizer\n",
        "corpus = [\"this is a text\", \"this is another text\"]\n",
        "vectorizer = TfidfVectorizer()\n",
        "X = vectorizer.fit_transform(corpus)\n",
        "print(X.toarray())"
      ]
    },
    {
      "cell_type": "markdown",
      "id": "aa6ce2c8",
      "metadata": {
        "id": "aa6ce2c8"
      },
      "source": [
        "## 🧠 Пример: Классификация текстов (20 newsgroups)\n",
        "- Классы: спорт, медицина, компьютеры и т.д.\n",
        "- Модель: `TfidfVectorizer` + `Naive Bayes`"
      ]
    },
    {
      "cell_type": "code",
      "execution_count": null,
      "id": "138967e1",
      "metadata": {
        "id": "138967e1"
      },
      "outputs": [],
      "source": [
        "from sklearn.datasets import fetch_20newsgroups\n",
        "from sklearn.naive_bayes import MultinomialNB\n",
        "from sklearn.pipeline import make_pipeline\n",
        "\n",
        "data = fetch_20newsgroups(subset='train', categories=['sci.med', 'rec.sport.baseball'])\n",
        "model = make_pipeline(TfidfVectorizer(), MultinomialNB())\n",
        "model.fit(data.data, data.target)\n",
        "print(model.predict([\"The player hit a home run\"]))"
      ]
    },
    {
      "cell_type": "markdown",
      "id": "c4c451f0",
      "metadata": {
        "id": "c4c451f0"
      },
      "source": [
        "## 📌 Вывод\n",
        "- Текст нужно очищать и нормализовать\n",
        "- Лемматизация помогает сократить словарь и повысить качество\n",
        "- TF-IDF — хороший базовый способ векторизации\n",
        "- Для сложных задач используют предобученные модели (BERT, GPT и др.)"
      ]
    },
    {
      "cell_type": "markdown",
      "id": "163e9569",
      "metadata": {
        "id": "163e9569"
      },
      "source": [
        "## 🤖 Что такое BERT\n",
        "**BERT (Bidirectional Encoder Representations from Transformers)** — это предобученная языковая модель от Google, которая понимает контекст слов в обе стороны — и слева, и справа.\n",
        "\n",
        "Например, слово `bank` в двух разных предложениях:\n",
        "- \"He went to the **bank** to deposit money\" → банк\n",
        "- \"She sat by the **bank** of the river\" → берег\n",
        "\n",
        "**BERT** понимает разницу и создает разные векторные представления.\n",
        "\n",
        "Он используется для:\n",
        "- Классификации текста\n",
        "- Распознавания сущностей\n",
        "- Вопрос-ответ систем\n",
        "- Суммаризации"
      ]
    },
    {
      "cell_type": "code",
      "execution_count": null,
      "id": "a488d3ac",
      "metadata": {
        "id": "a488d3ac"
      },
      "outputs": [],
      "source": [
        "from transformers import pipeline\n",
        "classifier = pipeline('sentiment-analysis')\n",
        "print(classifier('I really enjoyed this lesson!'))"
      ]
    },
    {
      "cell_type": "markdown",
      "id": "61f98a34",
      "metadata": {
        "id": "61f98a34"
      },
      "source": [
        "## 🔢 Сравнение методов векторизации текста\n"
      ]
    },
    {
      "cell_type": "markdown",
      "id": "7721e2be",
      "metadata": {
        "id": "7721e2be"
      },
      "source": [
        "### 1. Bag of Words (BoW)\n",
        "Превращает текст в вектор частот слов.\n",
        "- Не учитывает порядок и контекст\n",
        "- Прост в реализации\n",
        "\n",
        "**Пример:**\n",
        "```python\n",
        "from sklearn.feature_extraction.text import CountVectorizer\n",
        "vec = CountVectorizer()\n",
        "X = vec.fit_transform([\"I love NLP\", \"NLP is fun\"])\n",
        "print(X.toarray())\n",
        "```"
      ]
    },
    {
      "cell_type": "markdown",
      "id": "f61331c6",
      "metadata": {
        "id": "f61331c6"
      },
      "source": [
        "### 2. TF-IDF (Term Frequency-Inverse Document Frequency)\n",
        "Вектор, учитывающий частоту слова в документе и его редкость в коллекции.\n",
        "- Снижает вес часто встречающихся слов (например, \"the\")\n",
        "- Подходит для классификации\n",
        "\n",
        "**Пример:**\n",
        "```python\n",
        "from sklearn.feature_extraction.text import TfidfVectorizer\n",
        "vec = TfidfVectorizer()\n",
        "X = vec.fit_transform([\"this is a text\", \"this is another text\"])\n",
        "print(X.toarray())\n",
        "```"
      ]
    },
    {
      "cell_type": "markdown",
      "id": "59eb4165",
      "metadata": {
        "id": "59eb4165"
      },
      "source": [
        "### 3. Word2Vec / GloVe\n",
        "- Каждое слово представляется как плотный вектор (обычно длины 300)\n",
        "- Похожее значение → похожий вектор\n",
        "- Требует предварительного обучения или использования готовых весов\n",
        "\n",
        "**Пример (gensim Word2Vec):**\n",
        "```python\n",
        "from gensim.models import Word2Vec\n",
        "sentences = [[\"cat\", \"sits\", \"on\", \"the\", \"mat\"]]\n",
        "model = Word2Vec(sentences, vector_size=50, min_count=1)\n",
        "print(model.wv['cat'])\n",
        "```"
      ]
    },
    {
      "cell_type": "markdown",
      "id": "7466972a",
      "metadata": {
        "id": "7466972a"
      },
      "source": [
        "### 4. BERT / Sentence-BERT\n",
        "- Векторизует слова или целые предложения\n",
        "- Учитывает порядок, контекст, грамматику\n",
        "- Универсален для любых NLP задач\n",
        "\n",
        "**Пример:**\n",
        "```python\n",
        "from sentence_transformers import SentenceTransformer\n",
        "model = SentenceTransformer('all-MiniLM-L6-v2')\n",
        "embedding = model.encode(\"Natural Language Processing is cool\")\n",
        "print(embedding.shape)  # ➜ (384,)\n",
        "```"
      ]
    },
    {
      "cell_type": "markdown",
      "id": "e8bce77c",
      "metadata": {
        "id": "e8bce77c"
      },
      "source": [
        "### 📊 Сравнение методов\n",
        "| Метод      | Учитывает порядок? | Контекст? | Тип выхода | Размерность |\n",
        "|------------|--------------------|-----------|------------|-------------|\n",
        "| BoW        | ❌                 | ❌        | Документ   | #слов       |\n",
        "| TF-IDF     | ❌                 | ❌        | Документ   | #слов       |\n",
        "| Word2Vec   | ❌                 | ✅ частично | Слово      | ~300        |\n",
        "| BERT       | ✅                 | ✅        | Слово/фраза| 768+        |"
      ]
    }
  ],
  "metadata": {
    "colab": {
      "provenance": [],
      "include_colab_link": true
    }
  },
  "nbformat": 4,
  "nbformat_minor": 5
}
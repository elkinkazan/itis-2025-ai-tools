# NeRF (Neural Radiance Fields)

## Установка tiny-NeRF
[Colab ссылка на NeRF tiny](https://colab.research.google.com/github/bmild/nerf/blob/master/tiny_nerf.ipynb)

## Альтернатива: Instant NGP (локально)
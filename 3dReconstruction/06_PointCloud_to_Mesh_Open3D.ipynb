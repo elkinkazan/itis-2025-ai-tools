# Open3D: Облако точек в Mesh

```python
import open3d as o3d
pcd = o3d.io.read_point_cloud("cloud.ply")
mesh, densities = o3d.geometry.TriangleMesh.create_from_point_cloud_poisson(pcd, depth=8)
o3d.visualization.draw_geometries([mesh])
```
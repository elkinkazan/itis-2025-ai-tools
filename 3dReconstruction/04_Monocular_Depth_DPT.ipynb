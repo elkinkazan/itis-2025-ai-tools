# Monocular Depth Estimation (MiDaS)

```python
!pip install timm transformers
from PIL import Image
import torch
from transformers import DPTFeatureExtractor, DPTForDepthEstimation

image = Image.open('image.jpg')
extractor = DPTFeatureExtractor.from_pretrained('Intel/dpt-large')
model = DPTForDepthEstimation.from_pretrained('Intel/dpt-large')
inputs = extractor(images=image, return_tensors="pt")
with torch.no_grad():
    outputs = model(**inputs)
depth = outputs.predicted_depth
```
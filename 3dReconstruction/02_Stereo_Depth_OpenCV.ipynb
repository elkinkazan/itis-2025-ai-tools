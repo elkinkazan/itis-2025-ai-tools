# Стереозрение с OpenCV

## Пример: StereoBM или StereoSGBM
```python
import cv2
import matplotlib.pyplot as plt
imgL = cv2.imread('left.jpg', 0)
imgR = cv2.imread('right.jpg', 0)
stereo = cv2.StereoSGBM_create(numDisparities=16*5, blockSize=5)
depth = stereo.compute(imgL, imgR)
plt.imshow(depth, cmap='plasma')
plt.show()
```
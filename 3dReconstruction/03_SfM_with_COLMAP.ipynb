# Structure from Motion с COLMAP

## Инструкция:
COLMAP должен быть установлен локально.
1. Соберите фото
2. Запустите COLMAP GUI или CLI
3. Получите sparse point cloud
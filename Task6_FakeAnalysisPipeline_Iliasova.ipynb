{
  "cells": [
    {
      "cell_type": "markdown",
      "metadata": {
        "id": "view-in-github",
        "colab_type": "text"
      },
      "source": [
        "<a href=\"https://colab.research.google.com/github/elkinkazan/itis-2025-ai-tools/blob/main/Task6_FakeAnalysisPipeline_Iliasova.ipynb\" target=\"_parent\"><img src=\"https://colab.research.google.com/assets/colab-badge.svg\" alt=\"Open In Colab\"/></a>"
      ]
    },
    {
      "cell_type": "code",
      "execution_count": null,
      "id": "U9ynQEDVRQgF",
      "metadata": {
        "id": "U9ynQEDVRQgF"
      },
      "outputs": [],
      "source": [
        "\n",
        "\n",
        "# DO NOT MODIFY  !!!\n",
        "# DO NOT EXECUTE !!!\n",
        "!pip install --upgrade gspread pandas google-auth\n",
        "import pandas as pd\n",
        "import gspread\n",
        "from google.colab import auth\n",
        "from google.auth import default\n",
        "from IPython.display import display\n",
        "import random\n",
        "# Authenticate and create the PyDrive client.\n",
        "auth.authenticate_user()\n",
        "creds, _ = default()\n",
        "gc = gspread.authorize(creds)"
      ]
    },
    {
      "cell_type": "code",
      "execution_count": 1,
      "id": "gjq46DWTRRll",
      "metadata": {
        "id": "gjq46DWTRRll"
      },
      "outputs": [],
      "source": [
        "# FILL THIS\n",
        "student_name = \"ELVIRA ILIASOVA\"\n",
        "group_id = \"11-451\""
      ]
    },
    {
      "cell_type": "code",
      "execution_count": null,
      "id": "9AT_A3Y_RT4e",
      "metadata": {
        "id": "9AT_A3Y_RT4e"
      },
      "outputs": [],
      "source": [
        "# DO NOT MODIFY  !!!\n",
        "# DO NOT EXECUTE !!!\n",
        "SPREADSHEET_URL = \"https://docs.google.com/spreadsheets/d/1Kfxj2eDFl7xQnXw7Fpb9bwghc65o8xf--VpNxrdWHaY/edit?gid=0#gid=0\"\n",
        "sh = gc.open_by_url(SPREADSHEET_URL)\n",
        "worksheet = sh.sheet1\n",
        "\n",
        "# Ensure header row exists\n",
        "if not worksheet.get_all_values():\n",
        "    worksheet.append_row([\"Student Name\", \"Group\",\"TaskID\", \"Score\"])\n",
        "\n",
        "\n",
        "# MAIN NOTEBOOK GOES HERE\n",
        "task_id = \"Task6_FakeAnalysisPipeline\"\n",
        "score = 0\n",
        "max_score = 25"
      ]
    },
    {
      "cell_type": "code",
      "execution_count": 2,
      "id": "bxfH9sqsPkm-",
      "metadata": {
        "id": "bxfH9sqsPkm-"
      },
      "outputs": [],
      "source": [
        "# 🎓 Домашнее задание: Проверка подлинности видео с использованием видео- и аудиопотока"
      ]
    },
    {
      "cell_type": "code",
      "execution_count": 3,
      "id": "wuvVOD77PoBa",
      "metadata": {
        "colab": {
          "base_uri": "https://localhost:8080/"
        },
        "id": "wuvVOD77PoBa",
        "outputId": "d2d02883-1b54-4515-95f7-fd41530a8a46"
      },
      "outputs": [
        {
          "output_type": "stream",
          "name": "stdout",
          "text": [
            "Requirement already satisfied: ffmpeg-python in /usr/local/lib/python3.11/dist-packages (0.2.0)\n",
            "Requirement already satisfied: resemblyzer in /usr/local/lib/python3.11/dist-packages (0.1.4)\n",
            "Requirement already satisfied: scikit-learn in /usr/local/lib/python3.11/dist-packages (1.6.1)\n",
            "Requirement already satisfied: tensorflow in /usr/local/lib/python3.11/dist-packages (2.18.0)\n",
            "Requirement already satisfied: matplotlib in /usr/local/lib/python3.11/dist-packages (3.10.0)\n",
            "Requirement already satisfied: tqdm in /usr/local/lib/python3.11/dist-packages (4.67.1)\n",
            "Requirement already satisfied: librosa in /usr/local/lib/python3.11/dist-packages (0.11.0)\n",
            "Requirement already satisfied: opencv-python-headless in /usr/local/lib/python3.11/dist-packages (4.11.0.86)\n",
            "Requirement already satisfied: future in /usr/local/lib/python3.11/dist-packages (from ffmpeg-python) (1.0.0)\n",
            "Requirement already satisfied: numpy>=1.20.0 in /usr/local/lib/python3.11/dist-packages (from resemblyzer) (1.26.4)\n",
            "Requirement already satisfied: webrtcvad>=2.0.10 in /usr/local/lib/python3.11/dist-packages (from resemblyzer) (2.0.10)\n",
            "Requirement already satisfied: torch>=1.0.1 in /usr/local/lib/python3.11/dist-packages (from resemblyzer) (2.6.0+cu124)\n",
            "Requirement already satisfied: scipy>=1.2.1 in /usr/local/lib/python3.11/dist-packages (from resemblyzer) (1.15.3)\n",
            "Requirement already satisfied: typing in /usr/local/lib/python3.11/dist-packages (from resemblyzer) (3.7.4.3)\n",
            "Requirement already satisfied: joblib>=1.2.0 in /usr/local/lib/python3.11/dist-packages (from scikit-learn) (1.5.0)\n",
            "Requirement already satisfied: threadpoolctl>=3.1.0 in /usr/local/lib/python3.11/dist-packages (from scikit-learn) (3.6.0)\n",
            "Requirement already satisfied: absl-py>=1.0.0 in /usr/local/lib/python3.11/dist-packages (from tensorflow) (1.4.0)\n",
            "Requirement already satisfied: astunparse>=1.6.0 in /usr/local/lib/python3.11/dist-packages (from tensorflow) (1.6.3)\n",
            "Requirement already satisfied: flatbuffers>=24.3.25 in /usr/local/lib/python3.11/dist-packages (from tensorflow) (25.2.10)\n",
            "Requirement already satisfied: gast!=0.5.0,!=0.5.1,!=0.5.2,>=0.2.1 in /usr/local/lib/python3.11/dist-packages (from tensorflow) (0.6.0)\n",
            "Requirement already satisfied: google-pasta>=0.1.1 in /usr/local/lib/python3.11/dist-packages (from tensorflow) (0.2.0)\n",
            "Requirement already satisfied: libclang>=13.0.0 in /usr/local/lib/python3.11/dist-packages (from tensorflow) (18.1.1)\n",
            "Requirement already satisfied: opt-einsum>=2.3.2 in /usr/local/lib/python3.11/dist-packages (from tensorflow) (3.4.0)\n",
            "Requirement already satisfied: packaging in /usr/local/lib/python3.11/dist-packages (from tensorflow) (24.2)\n",
            "Requirement already satisfied: protobuf!=4.21.0,!=4.21.1,!=4.21.2,!=4.21.3,!=4.21.4,!=4.21.5,<6.0.0dev,>=3.20.3 in /usr/local/lib/python3.11/dist-packages (from tensorflow) (3.20.3)\n",
            "Requirement already satisfied: requests<3,>=2.21.0 in /usr/local/lib/python3.11/dist-packages (from tensorflow) (2.32.3)\n",
            "Requirement already satisfied: setuptools in /usr/local/lib/python3.11/dist-packages (from tensorflow) (75.2.0)\n",
            "Requirement already satisfied: six>=1.12.0 in /usr/local/lib/python3.11/dist-packages (from tensorflow) (1.17.0)\n",
            "Requirement already satisfied: termcolor>=1.1.0 in /usr/local/lib/python3.11/dist-packages (from tensorflow) (3.1.0)\n",
            "Requirement already satisfied: typing-extensions>=3.6.6 in /usr/local/lib/python3.11/dist-packages (from tensorflow) (4.13.2)\n",
            "Requirement already satisfied: wrapt>=1.11.0 in /usr/local/lib/python3.11/dist-packages (from tensorflow) (1.17.2)\n",
            "Requirement already satisfied: grpcio<2.0,>=1.24.3 in /usr/local/lib/python3.11/dist-packages (from tensorflow) (1.71.0)\n",
            "Requirement already satisfied: tensorboard<2.19,>=2.18 in /usr/local/lib/python3.11/dist-packages (from tensorflow) (2.18.0)\n",
            "Requirement already satisfied: keras>=3.5.0 in /usr/local/lib/python3.11/dist-packages (from tensorflow) (3.8.0)\n",
            "Requirement already satisfied: h5py>=3.11.0 in /usr/local/lib/python3.11/dist-packages (from tensorflow) (3.13.0)\n",
            "Requirement already satisfied: ml-dtypes<0.5.0,>=0.4.0 in /usr/local/lib/python3.11/dist-packages (from tensorflow) (0.4.1)\n",
            "Requirement already satisfied: tensorflow-io-gcs-filesystem>=0.23.1 in /usr/local/lib/python3.11/dist-packages (from tensorflow) (0.37.1)\n",
            "Requirement already satisfied: contourpy>=1.0.1 in /usr/local/lib/python3.11/dist-packages (from matplotlib) (1.3.2)\n",
            "Requirement already satisfied: cycler>=0.10 in /usr/local/lib/python3.11/dist-packages (from matplotlib) (0.12.1)\n",
            "Requirement already satisfied: fonttools>=4.22.0 in /usr/local/lib/python3.11/dist-packages (from matplotlib) (4.58.0)\n",
            "Requirement already satisfied: kiwisolver>=1.3.1 in /usr/local/lib/python3.11/dist-packages (from matplotlib) (1.4.8)\n",
            "Requirement already satisfied: pillow>=8 in /usr/local/lib/python3.11/dist-packages (from matplotlib) (11.2.1)\n",
            "Requirement already satisfied: pyparsing>=2.3.1 in /usr/local/lib/python3.11/dist-packages (from matplotlib) (3.2.3)\n",
            "Requirement already satisfied: python-dateutil>=2.7 in /usr/local/lib/python3.11/dist-packages (from matplotlib) (2.9.0.post0)\n",
            "Requirement already satisfied: audioread>=2.1.9 in /usr/local/lib/python3.11/dist-packages (from librosa) (3.0.1)\n",
            "Requirement already satisfied: numba>=0.51.0 in /usr/local/lib/python3.11/dist-packages (from librosa) (0.60.0)\n",
            "Requirement already satisfied: decorator>=4.3.0 in /usr/local/lib/python3.11/dist-packages (from librosa) (4.4.2)\n",
            "Requirement already satisfied: soundfile>=0.12.1 in /usr/local/lib/python3.11/dist-packages (from librosa) (0.13.1)\n",
            "Requirement already satisfied: pooch>=1.1 in /usr/local/lib/python3.11/dist-packages (from librosa) (1.8.2)\n",
            "Requirement already satisfied: soxr>=0.3.2 in /usr/local/lib/python3.11/dist-packages (from librosa) (0.5.0.post1)\n",
            "Requirement already satisfied: lazy_loader>=0.1 in /usr/local/lib/python3.11/dist-packages (from librosa) (0.4)\n",
            "Requirement already satisfied: msgpack>=1.0 in /usr/local/lib/python3.11/dist-packages (from librosa) (1.1.0)\n",
            "Requirement already satisfied: wheel<1.0,>=0.23.0 in /usr/local/lib/python3.11/dist-packages (from astunparse>=1.6.0->tensorflow) (0.45.1)\n",
            "Requirement already satisfied: rich in /usr/local/lib/python3.11/dist-packages (from keras>=3.5.0->tensorflow) (13.9.4)\n",
            "Requirement already satisfied: namex in /usr/local/lib/python3.11/dist-packages (from keras>=3.5.0->tensorflow) (0.0.9)\n",
            "Requirement already satisfied: optree in /usr/local/lib/python3.11/dist-packages (from keras>=3.5.0->tensorflow) (0.15.0)\n",
            "Requirement already satisfied: llvmlite<0.44,>=0.43.0dev0 in /usr/local/lib/python3.11/dist-packages (from numba>=0.51.0->librosa) (0.43.0)\n",
            "Requirement already satisfied: platformdirs>=2.5.0 in /usr/local/lib/python3.11/dist-packages (from pooch>=1.1->librosa) (4.3.8)\n",
            "Requirement already satisfied: charset-normalizer<4,>=2 in /usr/local/lib/python3.11/dist-packages (from requests<3,>=2.21.0->tensorflow) (3.4.2)\n",
            "Requirement already satisfied: idna<4,>=2.5 in /usr/local/lib/python3.11/dist-packages (from requests<3,>=2.21.0->tensorflow) (3.10)\n",
            "Requirement already satisfied: urllib3<3,>=1.21.1 in /usr/local/lib/python3.11/dist-packages (from requests<3,>=2.21.0->tensorflow) (2.4.0)\n",
            "Requirement already satisfied: certifi>=2017.4.17 in /usr/local/lib/python3.11/dist-packages (from requests<3,>=2.21.0->tensorflow) (2025.4.26)\n",
            "Requirement already satisfied: cffi>=1.0 in /usr/local/lib/python3.11/dist-packages (from soundfile>=0.12.1->librosa) (1.17.1)\n",
            "Requirement already satisfied: markdown>=2.6.8 in /usr/local/lib/python3.11/dist-packages (from tensorboard<2.19,>=2.18->tensorflow) (3.8)\n",
            "Requirement already satisfied: tensorboard-data-server<0.8.0,>=0.7.0 in /usr/local/lib/python3.11/dist-packages (from tensorboard<2.19,>=2.18->tensorflow) (0.7.2)\n",
            "Requirement already satisfied: werkzeug>=1.0.1 in /usr/local/lib/python3.11/dist-packages (from tensorboard<2.19,>=2.18->tensorflow) (3.1.3)\n",
            "Requirement already satisfied: filelock in /usr/local/lib/python3.11/dist-packages (from torch>=1.0.1->resemblyzer) (3.18.0)\n",
            "Requirement already satisfied: networkx in /usr/local/lib/python3.11/dist-packages (from torch>=1.0.1->resemblyzer) (3.4.2)\n",
            "Requirement already satisfied: jinja2 in /usr/local/lib/python3.11/dist-packages (from torch>=1.0.1->resemblyzer) (3.1.6)\n",
            "Requirement already satisfied: fsspec in /usr/local/lib/python3.11/dist-packages (from torch>=1.0.1->resemblyzer) (2025.3.2)\n",
            "Requirement already satisfied: nvidia-cuda-nvrtc-cu12==12.4.127 in /usr/local/lib/python3.11/dist-packages (from torch>=1.0.1->resemblyzer) (12.4.127)\n",
            "Requirement already satisfied: nvidia-cuda-runtime-cu12==12.4.127 in /usr/local/lib/python3.11/dist-packages (from torch>=1.0.1->resemblyzer) (12.4.127)\n",
            "Requirement already satisfied: nvidia-cuda-cupti-cu12==12.4.127 in /usr/local/lib/python3.11/dist-packages (from torch>=1.0.1->resemblyzer) (12.4.127)\n",
            "Requirement already satisfied: nvidia-cudnn-cu12==9.1.0.70 in /usr/local/lib/python3.11/dist-packages (from torch>=1.0.1->resemblyzer) (9.1.0.70)\n",
            "Requirement already satisfied: nvidia-cublas-cu12==12.4.5.8 in /usr/local/lib/python3.11/dist-packages (from torch>=1.0.1->resemblyzer) (12.4.5.8)\n",
            "Requirement already satisfied: nvidia-cufft-cu12==11.2.1.3 in /usr/local/lib/python3.11/dist-packages (from torch>=1.0.1->resemblyzer) (11.2.1.3)\n",
            "Requirement already satisfied: nvidia-curand-cu12==10.3.5.147 in /usr/local/lib/python3.11/dist-packages (from torch>=1.0.1->resemblyzer) (10.3.5.147)\n",
            "Requirement already satisfied: nvidia-cusolver-cu12==11.6.1.9 in /usr/local/lib/python3.11/dist-packages (from torch>=1.0.1->resemblyzer) (11.6.1.9)\n",
            "Requirement already satisfied: nvidia-cusparse-cu12==12.3.1.170 in /usr/local/lib/python3.11/dist-packages (from torch>=1.0.1->resemblyzer) (12.3.1.170)\n",
            "Requirement already satisfied: nvidia-cusparselt-cu12==0.6.2 in /usr/local/lib/python3.11/dist-packages (from torch>=1.0.1->resemblyzer) (0.6.2)\n",
            "Requirement already satisfied: nvidia-nccl-cu12==2.21.5 in /usr/local/lib/python3.11/dist-packages (from torch>=1.0.1->resemblyzer) (2.21.5)\n",
            "Requirement already satisfied: nvidia-nvtx-cu12==12.4.127 in /usr/local/lib/python3.11/dist-packages (from torch>=1.0.1->resemblyzer) (12.4.127)\n",
            "Requirement already satisfied: nvidia-nvjitlink-cu12==12.4.127 in /usr/local/lib/python3.11/dist-packages (from torch>=1.0.1->resemblyzer) (12.4.127)\n",
            "Requirement already satisfied: triton==3.2.0 in /usr/local/lib/python3.11/dist-packages (from torch>=1.0.1->resemblyzer) (3.2.0)\n",
            "Requirement already satisfied: sympy==1.13.1 in /usr/local/lib/python3.11/dist-packages (from torch>=1.0.1->resemblyzer) (1.13.1)\n",
            "Requirement already satisfied: mpmath<1.4,>=1.1.0 in /usr/local/lib/python3.11/dist-packages (from sympy==1.13.1->torch>=1.0.1->resemblyzer) (1.3.0)\n",
            "Requirement already satisfied: pycparser in /usr/local/lib/python3.11/dist-packages (from cffi>=1.0->soundfile>=0.12.1->librosa) (2.22)\n",
            "Requirement already satisfied: MarkupSafe>=2.1.1 in /usr/local/lib/python3.11/dist-packages (from werkzeug>=1.0.1->tensorboard<2.19,>=2.18->tensorflow) (3.0.2)\n",
            "Requirement already satisfied: markdown-it-py>=2.2.0 in /usr/local/lib/python3.11/dist-packages (from rich->keras>=3.5.0->tensorflow) (3.0.0)\n",
            "Requirement already satisfied: pygments<3.0.0,>=2.13.0 in /usr/local/lib/python3.11/dist-packages (from rich->keras>=3.5.0->tensorflow) (2.19.1)\n",
            "Requirement already satisfied: mdurl~=0.1 in /usr/local/lib/python3.11/dist-packages (from markdown-it-py>=2.2.0->rich->keras>=3.5.0->tensorflow) (0.1.2)\n"
          ]
        }
      ],
      "source": [
        "# 0. Установка зависимостей\n",
        "!pip install ffmpeg-python resemblyzer scikit-learn tensorflow matplotlib tqdm librosa opencv-python-headless"
      ]
    },
    {
      "cell_type": "code",
      "execution_count": 4,
      "id": "xT6-AGOGsjl-",
      "metadata": {
        "colab": {
          "base_uri": "https://localhost:8080/"
        },
        "id": "xT6-AGOGsjl-",
        "outputId": "773d22e5-a7af-444b-b05d-4bd362c5f6d8"
      },
      "outputs": [
        {
          "output_type": "stream",
          "name": "stdout",
          "text": [
            "Requirement already satisfied: gdown in /usr/local/lib/python3.11/dist-packages (5.2.0)\n",
            "Requirement already satisfied: beautifulsoup4 in /usr/local/lib/python3.11/dist-packages (from gdown) (4.13.4)\n",
            "Requirement already satisfied: filelock in /usr/local/lib/python3.11/dist-packages (from gdown) (3.18.0)\n",
            "Requirement already satisfied: requests[socks] in /usr/local/lib/python3.11/dist-packages (from gdown) (2.32.3)\n",
            "Requirement already satisfied: tqdm in /usr/local/lib/python3.11/dist-packages (from gdown) (4.67.1)\n",
            "Requirement already satisfied: soupsieve>1.2 in /usr/local/lib/python3.11/dist-packages (from beautifulsoup4->gdown) (2.7)\n",
            "Requirement already satisfied: typing-extensions>=4.0.0 in /usr/local/lib/python3.11/dist-packages (from beautifulsoup4->gdown) (4.13.2)\n",
            "Requirement already satisfied: charset-normalizer<4,>=2 in /usr/local/lib/python3.11/dist-packages (from requests[socks]->gdown) (3.4.2)\n",
            "Requirement already satisfied: idna<4,>=2.5 in /usr/local/lib/python3.11/dist-packages (from requests[socks]->gdown) (3.10)\n",
            "Requirement already satisfied: urllib3<3,>=1.21.1 in /usr/local/lib/python3.11/dist-packages (from requests[socks]->gdown) (2.4.0)\n",
            "Requirement already satisfied: certifi>=2017.4.17 in /usr/local/lib/python3.11/dist-packages (from requests[socks]->gdown) (2025.4.26)\n",
            "Requirement already satisfied: PySocks!=1.5.7,>=1.5.6 in /usr/local/lib/python3.11/dist-packages (from requests[socks]->gdown) (1.7.1)\n",
            "Retrieving folder contents\n",
            "Processing file 1jGxkEO0Mo480qiEnXFca8UOEDq2it7Xl video1.mp4\n",
            "Processing file 1rpWIef8PeG_0gXF7UwqaedJ89pJJvAqg video2.mp4\n",
            "Processing file 1KMtcEUdokLJWfi9y0kL1Kap70SVqh56S video3.mp4\n",
            "Processing file 1Qb8yVwXWrCdjYOrmg0j97v86GSES7jLs video4.mp4\n",
            "Processing file 1C_Gqtj5Tt7LEjTXt7VTILQjOdFfPpoVa video5.mp4\n",
            "Processing file 1yXeRjPKMyMm8TAAtpH5CR2vp16Y1A_EZ video6.mp4\n",
            "Retrieving folder contents completed\n",
            "Building directory structure\n",
            "Building directory structure completed\n",
            "Downloading...\n",
            "From: https://drive.google.com/uc?id=1jGxkEO0Mo480qiEnXFca8UOEDq2it7Xl\n",
            "To: /content/video_hw/video1.mp4\n",
            "100% 1.64M/1.64M [00:00<00:00, 128MB/s]\n",
            "Downloading...\n",
            "From: https://drive.google.com/uc?id=1rpWIef8PeG_0gXF7UwqaedJ89pJJvAqg\n",
            "To: /content/video_hw/video2.mp4\n",
            "100% 31.3M/31.3M [00:00<00:00, 141MB/s]\n",
            "Downloading...\n",
            "From: https://drive.google.com/uc?id=1KMtcEUdokLJWfi9y0kL1Kap70SVqh56S\n",
            "To: /content/video_hw/video3.mp4\n",
            "100% 50.9M/50.9M [00:00<00:00, 76.7MB/s]\n",
            "Downloading...\n",
            "From: https://drive.google.com/uc?id=1Qb8yVwXWrCdjYOrmg0j97v86GSES7jLs\n",
            "To: /content/video_hw/video4.mp4\n",
            "100% 28.3M/28.3M [00:00<00:00, 52.6MB/s]\n",
            "Downloading...\n",
            "From: https://drive.google.com/uc?id=1C_Gqtj5Tt7LEjTXt7VTILQjOdFfPpoVa\n",
            "To: /content/video_hw/video5.mp4\n",
            "100% 43.3M/43.3M [00:00<00:00, 178MB/s]\n",
            "Downloading...\n",
            "From: https://drive.google.com/uc?id=1yXeRjPKMyMm8TAAtpH5CR2vp16Y1A_EZ\n",
            "To: /content/video_hw/video6.mp4\n",
            "100% 43.3M/43.3M [00:00<00:00, 61.2MB/s]\n",
            "Download completed\n",
            "Retrieving folder contents\n",
            "Processing file 1-GfEsOcNoouYv6T70KIRxxb8MDDP48zA audio_detection.keras\n",
            "Processing file 1kSmMGOX8K8Bogcf3rF6F6X5xMwUDVZE9 model_trained.keras\n",
            "Retrieving folder contents completed\n",
            "Building directory structure\n",
            "Building directory structure completed\n",
            "Downloading...\n",
            "From: https://drive.google.com/uc?id=1-GfEsOcNoouYv6T70KIRxxb8MDDP48zA\n",
            "To: /content/keras_hw/audio_detection.keras\n",
            "100% 12.0M/12.0M [00:00<00:00, 199MB/s]\n",
            "Downloading...\n",
            "From (original): https://drive.google.com/uc?id=1kSmMGOX8K8Bogcf3rF6F6X5xMwUDVZE9\n",
            "From (redirected): https://drive.google.com/uc?id=1kSmMGOX8K8Bogcf3rF6F6X5xMwUDVZE9&confirm=t&uuid=f62502d6-153b-4729-ab69-0636bdac67f5\n",
            "To: /content/keras_hw/model_trained.keras\n",
            "100% 251M/251M [00:02<00:00, 86.7MB/s]\n",
            "Download completed\n"
          ]
        }
      ],
      "source": [
        "!pip install gdown\n",
        "!gdown --folder \"https://drive.google.com/drive/folders/1YyoZ2lUWGtmnAo3EPJcvmtCDBvCX8NjY\"\n",
        "!gdown --folder \"https://drive.google.com/drive/folders/1yN1fmxLxCP79Lup5IRLuwOaGbi7hPjDV\""
      ]
    },
    {
      "cell_type": "code",
      "execution_count": 5,
      "id": "eg_OKAhRPqOj",
      "metadata": {
        "id": "eg_OKAhRPqOj"
      },
      "outputs": [],
      "source": [
        "# 1. Импорты\n",
        "import ffmpeg\n",
        "import os\n",
        "import librosa\n",
        "import numpy as np\n",
        "from resemblyzer import preprocess_wav, VoiceEncoder\n",
        "from pathlib import Path\n",
        "from tensorflow.keras.models import load_model\n",
        "import matplotlib.pyplot as plt\n",
        "import pandas as pd\n",
        "import cv2\n",
        "import glob"
      ]
    },
    {
      "cell_type": "code",
      "execution_count": 6,
      "id": "9f0J4MmlPuUR",
      "metadata": {
        "colab": {
          "base_uri": "https://localhost:8080/"
        },
        "id": "9f0J4MmlPuUR",
        "outputId": "2dcd7e78-880a-4597-d215-d5e0bf869d3c"
      },
      "outputs": [
        {
          "output_type": "stream",
          "name": "stdout",
          "text": [
            "Loaded the voice encoder model on cpu in 0.04 seconds.\n"
          ]
        }
      ],
      "source": [
        "# Загрузка обученной модели на LA\n",
        "model = load_model(\"keras_hw/audio_detection.keras\")  # обучается отдельно\n",
        "encoder = VoiceEncoder()\n",
        "\n",
        "# Путь к папке с видео\n",
        "VIDEO_DIR = \"video_hw\"\n",
        "VIDEO_LIST = [os.path.join(VIDEO_DIR, f\"video{i}.mp4\") for i in range(1, 7)]"
      ]
    },
    {
      "cell_type": "code",
      "execution_count": 7,
      "id": "INFRM7u4P5GH",
      "metadata": {
        "id": "INFRM7u4P5GH"
      },
      "outputs": [],
      "source": [
        "# Извлечение аудио из видео\n",
        "def extract_audio_from_video(video_path, output_wav):\n",
        "    (\n",
        "        ffmpeg\n",
        "        .input(video_path)\n",
        "        .output(output_wav, ac=1, ar=16000)\n",
        "        .overwrite_output()\n",
        "        .run(quiet=True)\n",
        "    )\n"
      ]
    },
    {
      "cell_type": "code",
      "execution_count": 8,
      "id": "6QO8-vuMP7Ku",
      "metadata": {
        "id": "6QO8-vuMP7Ku"
      },
      "outputs": [],
      "source": [
        "from pathlib import Path\n",
        "from resemblyzer import preprocess_wav\n",
        "# Предсказание с помощью модели\n",
        "def predict_audio_model(file_path):\n",
        "    wav = preprocess_wav(Path(file_path))\n",
        "    # YOU CODE HERE USING THE LA model and resembler predict the video\n",
        "    # Получение эмбеддинга из голосового аудио\n",
        "    embed = encoder.embed_utterance(wav)  # encoder должен быть глобальным или передан извне\n",
        "\n",
        "    # Предсказание модели\n",
        "    prediction = model.predict(embed.reshape(1, -1))[0][0]\n",
        "    return prediction, prediction >= 0.5"
      ]
    },
    {
      "cell_type": "code",
      "execution_count": 9,
      "id": "1LzK9DFtQJ6Z",
      "metadata": {
        "id": "1LzK9DFtQJ6Z"
      },
      "outputs": [],
      "source": [
        "def extract_simple_features(file_path):\n",
        "    y, sr = librosa.load(file_path, sr=None)\n",
        "\n",
        "    # YOUR CODE STARTS HERE\n",
        "    mfcc = librosa.feature.mfcc(y=y, sr=sr, n_mfcc=20)\n",
        "    mfcc_std = np.std(mfcc, axis=1)  # std по времени, для каждого коэффициента\n",
        "    zcr = librosa.feature.zero_crossing_rate(y)[0]  # [0] — извлекаем сам массив\n",
        "    centroid = librosa.feature.spectral_centroid(y=y, sr=sr)[0]\n",
        "    # YOUR CODE ENDS HERE\n",
        "\n",
        "    return {\n",
        "        \"mfcc_std_mean\": np.mean(mfcc_std),\n",
        "        \"zcr_mean\": np.mean(zcr),\n",
        "        \"centroid_mean\": np.mean(centroid)\n",
        "    }\n"
      ]
    },
    {
      "cell_type": "code",
      "execution_count": 10,
      "id": "88sNUyRGQTzt",
      "metadata": {
        "id": "88sNUyRGQTzt"
      },
      "outputs": [],
      "source": [
        "def simple_fake_audio_detector(file_path):\n",
        "    f = extract_simple_features(file_path)\n",
        "    is_fake = f[\"mfcc_std_mean\"] < 25 or f[\"zcr_mean\"] > 0.1 or f[\"centroid_mean\"] > 3500\n",
        "    return f, is_fake"
      ]
    },
    {
      "cell_type": "code",
      "execution_count": 11,
      "id": "JsqtY5yU2iVv",
      "metadata": {
        "id": "JsqtY5yU2iVv",
        "colab": {
          "base_uri": "https://localhost:8080/"
        },
        "outputId": "6719060e-16ee-4072-f3df-357d18d54027",
        "collapsed": true
      },
      "outputs": [
        {
          "output_type": "stream",
          "name": "stdout",
          "text": [
            "Requirement already satisfied: protobuf==3.20.3 in /usr/local/lib/python3.11/dist-packages (3.20.3)\n",
            "Collecting mediapipe==0.10.9\n",
            "  Downloading mediapipe-0.10.9-cp311-cp311-manylinux_2_17_x86_64.manylinux2014_x86_64.whl.metadata (9.6 kB)\n",
            "Requirement already satisfied: absl-py in /usr/local/lib/python3.11/dist-packages (from mediapipe==0.10.9) (1.4.0)\n",
            "Requirement already satisfied: attrs>=19.1.0 in /usr/local/lib/python3.11/dist-packages (from mediapipe==0.10.9) (25.3.0)\n",
            "Requirement already satisfied: flatbuffers>=2.0 in /usr/local/lib/python3.11/dist-packages (from mediapipe==0.10.9) (25.2.10)\n",
            "Requirement already satisfied: matplotlib in /usr/local/lib/python3.11/dist-packages (from mediapipe==0.10.9) (3.10.0)\n",
            "Requirement already satisfied: numpy in /usr/local/lib/python3.11/dist-packages (from mediapipe==0.10.9) (1.26.4)\n",
            "Requirement already satisfied: opencv-contrib-python in /usr/local/lib/python3.11/dist-packages (from mediapipe==0.10.9) (4.11.0.86)\n",
            "Requirement already satisfied: protobuf<4,>=3.11 in /usr/local/lib/python3.11/dist-packages (from mediapipe==0.10.9) (3.20.3)\n",
            "Requirement already satisfied: sounddevice>=0.4.4 in /usr/local/lib/python3.11/dist-packages (from mediapipe==0.10.9) (0.5.2)\n",
            "Requirement already satisfied: CFFI>=1.0 in /usr/local/lib/python3.11/dist-packages (from sounddevice>=0.4.4->mediapipe==0.10.9) (1.17.1)\n",
            "Requirement already satisfied: contourpy>=1.0.1 in /usr/local/lib/python3.11/dist-packages (from matplotlib->mediapipe==0.10.9) (1.3.2)\n",
            "Requirement already satisfied: cycler>=0.10 in /usr/local/lib/python3.11/dist-packages (from matplotlib->mediapipe==0.10.9) (0.12.1)\n",
            "Requirement already satisfied: fonttools>=4.22.0 in /usr/local/lib/python3.11/dist-packages (from matplotlib->mediapipe==0.10.9) (4.58.0)\n",
            "Requirement already satisfied: kiwisolver>=1.3.1 in /usr/local/lib/python3.11/dist-packages (from matplotlib->mediapipe==0.10.9) (1.4.8)\n",
            "Requirement already satisfied: packaging>=20.0 in /usr/local/lib/python3.11/dist-packages (from matplotlib->mediapipe==0.10.9) (24.2)\n",
            "Requirement already satisfied: pillow>=8 in /usr/local/lib/python3.11/dist-packages (from matplotlib->mediapipe==0.10.9) (11.2.1)\n",
            "Requirement already satisfied: pyparsing>=2.3.1 in /usr/local/lib/python3.11/dist-packages (from matplotlib->mediapipe==0.10.9) (3.2.3)\n",
            "Requirement already satisfied: python-dateutil>=2.7 in /usr/local/lib/python3.11/dist-packages (from matplotlib->mediapipe==0.10.9) (2.9.0.post0)\n",
            "Requirement already satisfied: pycparser in /usr/local/lib/python3.11/dist-packages (from CFFI>=1.0->sounddevice>=0.4.4->mediapipe==0.10.9) (2.22)\n",
            "Requirement already satisfied: six>=1.5 in /usr/local/lib/python3.11/dist-packages (from python-dateutil>=2.7->matplotlib->mediapipe==0.10.9) (1.17.0)\n",
            "Downloading mediapipe-0.10.9-cp311-cp311-manylinux_2_17_x86_64.manylinux2014_x86_64.whl (34.5 MB)\n",
            "\u001b[2K   \u001b[90m━━━━━━━━━━━━━━━━━━━━━━━━━━━━━━━━━━━━━━━━\u001b[0m \u001b[32m34.5/34.5 MB\u001b[0m \u001b[31m32.5 MB/s\u001b[0m eta \u001b[36m0:00:00\u001b[0m\n",
            "\u001b[?25hInstalling collected packages: mediapipe\n",
            "Successfully installed mediapipe-0.10.9\n"
          ]
        }
      ],
      "source": [
        "!pip install protobuf==3.20.3\n",
        "!pip install mediapipe==0.10.9"
      ]
    },
    {
      "cell_type": "code",
      "execution_count": 12,
      "id": "XIkxSQMQQWy3",
      "metadata": {
        "id": "XIkxSQMQQWy3"
      },
      "outputs": [],
      "source": [
        "import os\n",
        "import numpy as np\n",
        "import cv2\n",
        "import mediapipe as mp\n",
        "import tensorflow as tf\n",
        "from keras.models import load_model\n",
        "\n",
        "# Отключаем CUDA, если нужно (хотя mediapipe не требует)\n",
        "os.environ[\"CUDA_VISIBLE_DEVICES\"] = \"-1\"\n",
        "\n",
        "# Константы\n",
        "IMG_SIZE = 299\n",
        "MODEL_PATH = 'keras_hw/model_trained.keras'\n",
        "\n",
        "# Загрузка модели\n",
        "model_exception = load_model(MODEL_PATH)\n",
        "\n",
        "# Настройка mediapipe\n",
        "mp_face_detection = mp.solutions.face_detection\n",
        "face_detection = mp_face_detection.FaceDetection(model_selection=1, min_detection_confidence=0.5)\n",
        "\n",
        "# Преобразование для модели\n",
        "def preprocess_face(face):\n",
        "    face = cv2.resize(face, (IMG_SIZE, IMG_SIZE))\n",
        "    face = face.astype('float32') / 255.0\n",
        "    return np.expand_dims(face, axis=0)\n",
        "\n",
        "# Извлечение лица через mediapipe\n",
        "def extract_face(frame):\n",
        "    results = face_detection.process(cv2.cvtColor(frame, cv2.COLOR_BGR2RGB))\n",
        "    if not results.detections:\n",
        "        return None\n",
        "    bbox = results.detections[0].location_data.relative_bounding_box\n",
        "    h, w, _ = frame.shape\n",
        "    x1 = int(bbox.xmin * w)\n",
        "    y1 = int(bbox.ymin * h)\n",
        "    x2 = int((bbox.xmin + bbox.width) * w)\n",
        "    y2 = int((bbox.ymin + bbox.height) * h)\n",
        "\n",
        "    # Проверка на выход за границы\n",
        "    x1, y1 = max(0, x1), max(0, y1)\n",
        "    x2, y2 = min(w, x2), min(h, y2)\n",
        "\n",
        "    return frame[y1:y2, x1:x2]\n",
        "\n",
        "# Анализ видеопотока\n",
        "def analyze_video_stream(video_path, max_frames=30):\n",
        "    cap = cv2.VideoCapture(video_path)\n",
        "    predictions = []\n",
        "    frame_count = 0\n",
        "\n",
        "    while frame_count < max_frames:\n",
        "        ret, frame = cap.read()\n",
        "        if not ret:\n",
        "            break\n",
        "        face = extract_face(frame)\n",
        "        if face is None:\n",
        "            continue\n",
        "        input_face = preprocess_face(face)\n",
        "        pred = model_exception.predict(input_face, verbose=0)[0][0]\n",
        "        predictions.append(pred)\n",
        "        frame_count += 1\n",
        "\n",
        "    cap.release()\n",
        "\n",
        "    if predictions:\n",
        "        return \"Fake detected\", np.mean(predictions) > 0.5\n",
        "    else:\n",
        "        return None, False\n"
      ]
    },
    {
      "cell_type": "code",
      "execution_count": 16,
      "id": "680ceff5",
      "metadata": {
        "id": "680ceff5"
      },
      "outputs": [],
      "source": [
        "\n",
        "# Основной анализ одного видеофайла\n",
        "\n",
        "def analyze_video_file(video_path):\n",
        "    print(f\"\\n📂 Файл: {os.path.basename(video_path)}\")\n",
        "    audio_path = video_path.replace(\".mp4\", \".wav\")\n",
        "    extract_audio_from_video(video_path, audio_path)\n",
        "    visual_log, visual_flag = analyze_video_stream(video_path)\n",
        "    model_score, model_label = predict_audio_model(audio_path)\n",
        "    heuristics, heur_label = simple_fake_audio_detector(audio_path)\n",
        "\n",
        "    print(\"🎥 Видео (по кадрам):\", visual_log, \"⛔\" if visual_flag else \"✅\")\n",
        "    print(\"🔊 Аудио (Resemblyzer+NN):\", \"Fake\" if model_label else \"Real\", f\"(score={model_score:.3f})\")\n",
        "    print(\"🔎 Аудио (эвристика):\", \"Fake\" if heur_label else \"Real\", heuristics)\n",
        "\n",
        "    return {\n",
        "        \"video\": os.path.basename(video_path),\n",
        "        \"visual_flag\": int(visual_flag),\n",
        "        \"nn_result\": int(model_label),\n",
        "        \"heur_result\": int(heur_label),\n",
        "        \"model_score\": float(model_score),\n",
        "        \"heuristics\": heuristics\n",
        "    }\n",
        "\n",
        "\n"
      ]
    },
    {
      "cell_type": "code",
      "execution_count": 17,
      "id": "vg3V7ysZ2Q2d",
      "metadata": {
        "colab": {
          "base_uri": "https://localhost:8080/"
        },
        "id": "vg3V7ysZ2Q2d",
        "outputId": "1677541d-84ce-4bcb-9a16-d3a81c69a8d6"
      },
      "outputs": [
        {
          "output_type": "execute_result",
          "data": {
            "text/plain": [
              "['video_hw/video1.mp4',\n",
              " 'video_hw/video2.mp4',\n",
              " 'video_hw/video3.mp4',\n",
              " 'video_hw/video4.mp4',\n",
              " 'video_hw/video5.mp4',\n",
              " 'video_hw/video6.mp4']"
            ]
          },
          "metadata": {},
          "execution_count": 17
        }
      ],
      "source": [
        "VIDEO_LIST"
      ]
    },
    {
      "cell_type": "code",
      "execution_count": 18,
      "id": "QR0KW4gcRE4E",
      "metadata": {
        "colab": {
          "base_uri": "https://localhost:8080/"
        },
        "id": "QR0KW4gcRE4E",
        "outputId": "e1612710-8246-4917-b873-fbfb3a0d9696"
      },
      "outputs": [
        {
          "output_type": "stream",
          "name": "stdout",
          "text": [
            "video_hw/video1.mp4\n",
            "\n",
            "📂 Файл: video1.mp4\n",
            "\u001b[1m1/1\u001b[0m \u001b[32m━━━━━━━━━━━━━━━━━━━━\u001b[0m\u001b[37m\u001b[0m \u001b[1m0s\u001b[0m 47ms/step\n",
            "🎥 Видео (по кадрам): Fake detected ✅\n",
            "🔊 Аудио (Resemblyzer+NN): Real (score=0.000)\n",
            "🔎 Аудио (эвристика): Fake {'mfcc_std_mean': 14.544644, 'zcr_mean': 0.087081179792065, 'centroid_mean': 1292.4313741279502}\n",
            "video_hw/video2.mp4\n",
            "\n",
            "📂 Файл: video2.mp4\n",
            "\u001b[1m1/1\u001b[0m \u001b[32m━━━━━━━━━━━━━━━━━━━━\u001b[0m\u001b[37m\u001b[0m \u001b[1m0s\u001b[0m 45ms/step\n",
            "🎥 Видео (по кадрам): Fake detected ✅\n",
            "🔊 Аудио (Resemblyzer+NN): Real (score=0.001)\n",
            "🔎 Аудио (эвристика): Fake {'mfcc_std_mean': 17.455591, 'zcr_mean': 0.09279700170589399, 'centroid_mean': 1242.533605577194}\n",
            "video_hw/video3.mp4\n",
            "\n",
            "📂 Файл: video3.mp4\n",
            "\u001b[1m1/1\u001b[0m \u001b[32m━━━━━━━━━━━━━━━━━━━━\u001b[0m\u001b[37m\u001b[0m \u001b[1m0s\u001b[0m 46ms/step\n",
            "🎥 Видео (по кадрам): Fake detected ✅\n",
            "🔊 Аудио (Resemblyzer+NN): Real (score=0.000)\n",
            "🔎 Аудио (эвристика): Fake {'mfcc_std_mean': 16.525593, 'zcr_mean': 0.09569876085904068, 'centroid_mean': 1293.226942948503}\n",
            "video_hw/video4.mp4\n",
            "\n",
            "📂 Файл: video4.mp4\n",
            "\u001b[1m1/1\u001b[0m \u001b[32m━━━━━━━━━━━━━━━━━━━━\u001b[0m\u001b[37m\u001b[0m \u001b[1m0s\u001b[0m 73ms/step\n",
            "🎥 Видео (по кадрам): Fake detected ✅\n",
            "🔊 Аудио (Resemblyzer+NN): Real (score=0.040)\n",
            "🔎 Аудио (эвристика): Fake {'mfcc_std_mean': 16.94976, 'zcr_mean': 0.08652778091897494, 'centroid_mean': 1249.1933816399446}\n",
            "video_hw/video5.mp4\n",
            "\n",
            "📂 Файл: video5.mp4\n",
            "\u001b[1m1/1\u001b[0m \u001b[32m━━━━━━━━━━━━━━━━━━━━\u001b[0m\u001b[37m\u001b[0m \u001b[1m0s\u001b[0m 51ms/step\n",
            "🎥 Видео (по кадрам): Fake detected ✅\n",
            "🔊 Аудио (Resemblyzer+NN): Real (score=0.000)\n",
            "🔎 Аудио (эвристика): Fake {'mfcc_std_mean': 16.532457, 'zcr_mean': 0.09473424058531811, 'centroid_mean': 1312.0035558458987}\n",
            "video_hw/video6.mp4\n",
            "\n",
            "📂 Файл: video6.mp4\n",
            "\u001b[1m1/1\u001b[0m \u001b[32m━━━━━━━━━━━━━━━━━━━━\u001b[0m\u001b[37m\u001b[0m \u001b[1m0s\u001b[0m 46ms/step\n",
            "🎥 Видео (по кадрам): Fake detected ✅\n",
            "🔊 Аудио (Resemblyzer+NN): Real (score=0.000)\n",
            "🔎 Аудио (эвристика): Fake {'mfcc_std_mean': 16.532457, 'zcr_mean': 0.09473424058531811, 'centroid_mean': 1312.0035558458987}\n",
            "✅ Pipeline test passed.\n"
          ]
        }
      ],
      "source": [
        "# Запуск пайплайна на всех видео\n",
        "results = []\n",
        "score = 0\n",
        "import ffmpeg\n",
        "\n",
        "for video_path in VIDEO_LIST:\n",
        "    print(video_path)\n",
        "    result = analyze_video_file(video_path)\n",
        "    results.append(result)\n",
        "\n",
        "# Тест структуры результатов\n",
        "\n",
        "def test_pipeline_structure(results):\n",
        "    global score\n",
        "    assert len(results) == 6, \"Должно быть 6 видео\"\n",
        "    for r in results:\n",
        "        assert 'nn_result' in r and 'heur_result' in r and 'visual_flag' in r\n",
        "        score += 5\n",
        "        assert isinstance(r['model_score'], float)\n",
        "        score += 10\n",
        "        assert isinstance(r['heuristics'], dict)\n",
        "        score += 10\n",
        "    print(\"✅ Pipeline test passed.\")\n",
        "\n",
        "test_pipeline_structure(results)"
      ]
    },
    {
      "cell_type": "code",
      "execution_count": null,
      "id": "V3AqOadSRjuT",
      "metadata": {
        "id": "V3AqOadSRjuT"
      },
      "outputs": [],
      "source": [
        "# DO NOT MODIFY  !!!\n",
        "# DO NOT EXECUTE !!!\n",
        "# Save the result to Google Sheets\n",
        "from datetime import datetime\n",
        "\n",
        "# Get current date and time\n",
        "now = datetime.now()\n",
        "timestamp = now.strftime(\"%Y-%m-%d %H:%M:%S\")\n",
        "worksheet.append_row([student_name,group_id, task_id, score, timestamp])\n",
        "\n",
        "print(f\"Test completed! {student_name}, your score is {score}/{max_score}.\")"
      ]
    }
  ],
  "metadata": {
    "colab": {
      "provenance": [],
      "include_colab_link": true
    },
    "kernelspec": {
      "display_name": "Python 3",
      "name": "python3"
    },
    "language_info": {
      "name": "python"
    }
  },
  "nbformat": 4,
  "nbformat_minor": 5
}
{
  "cells": [
    {
      "cell_type": "markdown",
      "metadata": {
        "id": "view-in-github",
        "colab_type": "text"
      },
      "source": [
        "<a href=\"https://colab.research.google.com/github/alexander-toschev/ai-tools/blob/main/tensorflow/tensorflow_showcase.ipynb\" target=\"_parent\"><img src=\"https://colab.research.google.com/assets/colab-badge.svg\" alt=\"Open In Colab\"/></a>"
      ]
    },
    {
      "cell_type": "markdown",
      "id": "2b5e5658",
      "metadata": {
        "id": "2b5e5658"
      },
      "source": [
        "# 🔬 TensorFlow All-in-One Showcase\n",
        "Демонстрация основных возможностей TensorFlow: от работы с тензорами до нейросетей, GPU и экспорта моделей."
      ]
    },
    {
      "cell_type": "code",
      "execution_count": 7,
      "id": "b828e76d",
      "metadata": {
        "colab": {
          "base_uri": "https://localhost:8080/"
        },
        "id": "b828e76d",
        "outputId": "06e41698-d62a-44c9-a0b2-1d59732ef8c6"
      },
      "outputs": [
        {
          "output_type": "stream",
          "name": "stdout",
          "text": [
            "TensorFlow version: 2.18.0\n",
            "GPU available: [PhysicalDevice(name='/physical_device:GPU:0', device_type='GPU')]\n"
          ]
        }
      ],
      "source": [
        "# 📌 Установка и импорт\n",
        "!pip install -q tensorflow\n",
        "import tensorflow as tf\n",
        "import numpy as np\n",
        "import matplotlib.pyplot as plt\n",
        "\n",
        "print(\"TensorFlow version:\", tf.__version__)\n",
        "print(\"GPU available:\", tf.config.list_physical_devices('GPU'))"
      ]
    },
    {
      "cell_type": "markdown",
      "id": "030ff2fb",
      "metadata": {
        "id": "030ff2fb"
      },
      "source": [
        "## 🔹 1. Работа с тензорами\n",
        "Создание и базовые операции с тензорами: сложение, матричное умножение, поэлементное произведение."
      ]
    },
    {
      "cell_type": "code",
      "execution_count": 8,
      "id": "cf212e70",
      "metadata": {
        "colab": {
          "base_uri": "https://localhost:8080/"
        },
        "id": "cf212e70",
        "outputId": "c48862b9-e8b8-4deb-8132-37f202d9620d"
      },
      "outputs": [
        {
          "output_type": "stream",
          "name": "stdout",
          "text": [
            "Matrix sum:\n",
            " tf.Tensor(\n",
            "[[ 6  8]\n",
            " [10 12]], shape=(2, 2), dtype=int32)\n",
            "Matrix product:\n",
            " tf.Tensor(\n",
            "[[19 22]\n",
            " [43 50]], shape=(2, 2), dtype=int32)\n",
            "Element-wise multiplication:\n",
            " tf.Tensor(\n",
            "[[ 5 12]\n",
            " [21 32]], shape=(2, 2), dtype=int32)\n"
          ]
        }
      ],
      "source": [
        "# Создание тензоров\n",
        "a = tf.constant([[1, 2], [3, 4]])\n",
        "b = tf.constant([[5, 6], [7, 8]])\n",
        "\n",
        "# Операции\n",
        "print(\"Matrix sum:\\n\", tf.add(a, b))\n",
        "print(\"Matrix product:\\n\", tf.matmul(a, b))\n",
        "print(\"Element-wise multiplication:\\n\", tf.multiply(a, b))"
      ]
    },
    {
      "cell_type": "markdown",
      "id": "90ec7864",
      "metadata": {
        "id": "90ec7864"
      },
      "source": [
        "## 🔹 2. Простая нейросеть (Keras API)\n",
        "Создание, обучение и оценка модели на датасете MNIST с помощью `tf.keras`."
      ]
    },
    {
      "cell_type": "code",
      "execution_count": 9,
      "id": "7bbc93b9",
      "metadata": {
        "colab": {
          "base_uri": "https://localhost:8080/"
        },
        "id": "7bbc93b9",
        "outputId": "47970ab9-adf2-4778-88a7-747257d28c0c"
      },
      "outputs": [
        {
          "output_type": "stream",
          "name": "stdout",
          "text": [
            "Epoch 1/5\n",
            "\u001b[1m1875/1875\u001b[0m \u001b[32m━━━━━━━━━━━━━━━━━━━━\u001b[0m\u001b[37m\u001b[0m \u001b[1m5s\u001b[0m 2ms/step - accuracy: 0.8656 - loss: 0.4646\n",
            "Epoch 2/5\n",
            "\u001b[1m1875/1875\u001b[0m \u001b[32m━━━━━━━━━━━━━━━━━━━━\u001b[0m\u001b[37m\u001b[0m \u001b[1m4s\u001b[0m 2ms/step - accuracy: 0.9565 - loss: 0.1466\n",
            "Epoch 3/5\n",
            "\u001b[1m1875/1875\u001b[0m \u001b[32m━━━━━━━━━━━━━━━━━━━━\u001b[0m\u001b[37m\u001b[0m \u001b[1m4s\u001b[0m 2ms/step - accuracy: 0.9666 - loss: 0.1091\n",
            "Epoch 4/5\n",
            "\u001b[1m1875/1875\u001b[0m \u001b[32m━━━━━━━━━━━━━━━━━━━━\u001b[0m\u001b[37m\u001b[0m \u001b[1m4s\u001b[0m 2ms/step - accuracy: 0.9732 - loss: 0.0882\n",
            "Epoch 5/5\n",
            "\u001b[1m1875/1875\u001b[0m \u001b[32m━━━━━━━━━━━━━━━━━━━━\u001b[0m\u001b[37m\u001b[0m \u001b[1m3s\u001b[0m 2ms/step - accuracy: 0.9775 - loss: 0.0723\n",
            "\u001b[1m313/313\u001b[0m \u001b[32m━━━━━━━━━━━━━━━━━━━━\u001b[0m\u001b[37m\u001b[0m \u001b[1m1s\u001b[0m 3ms/step - accuracy: 0.9741 - loss: 0.0905\n"
          ]
        },
        {
          "output_type": "execute_result",
          "data": {
            "text/plain": [
              "[0.07393353432416916, 0.9789999723434448]"
            ]
          },
          "metadata": {},
          "execution_count": 9
        }
      ],
      "source": [
        "# Загружаем датасет MNIST\n",
        "(x_train, y_train), (x_test, y_test) = tf.keras.datasets.mnist.load_data()\n",
        "x_train = x_train / 255.0\n",
        "x_test = x_test / 255.0\n",
        "\n",
        "# Создание модели\n",
        "model = tf.keras.Sequential([\n",
        "    tf.keras.layers.Flatten(input_shape=(28, 28)),\n",
        "    tf.keras.layers.Dense(128, activation='relu'),\n",
        "    tf.keras.layers.Dropout(0.2),\n",
        "    tf.keras.layers.Dense(10, activation='softmax')\n",
        "])\n",
        "\n",
        "# Компиляция\n",
        "model.compile(optimizer='adam',\n",
        "              loss='sparse_categorical_crossentropy',\n",
        "              metrics=['accuracy'])\n",
        "\n",
        "# Обучение\n",
        "model.fit(x_train, y_train, epochs=5)\n",
        "\n",
        "# Оценка\n",
        "model.evaluate(x_test, y_test)"
      ]
    },
    {
      "cell_type": "markdown",
      "id": "d3244eb0",
      "metadata": {
        "id": "d3244eb0"
      },
      "source": [
        "## 🔹 3. Кастомный training loop (GradientTape)\n",
        "Полный контроль над forward и backward проходами с использованием `tf.GradientTape`."
      ]
    },
    {
      "cell_type": "code",
      "execution_count": 10,
      "id": "b923bc0c",
      "metadata": {
        "colab": {
          "base_uri": "https://localhost:8080/"
        },
        "id": "b923bc0c",
        "outputId": "5bf0b8fa-0d90-40be-e16f-138af05d47c9"
      },
      "outputs": [
        {
          "output_type": "stream",
          "name": "stdout",
          "text": [
            "Epoch 1, Loss: 2.4612\n",
            "Epoch 2, Loss: 2.2924\n",
            "Epoch 3, Loss: 2.1509\n",
            "Epoch 4, Loss: 2.0278\n",
            "Epoch 5, Loss: 1.9133\n"
          ]
        }
      ],
      "source": [
        "# Простая модель и ручной цикл обучения\n",
        "class SimpleModel(tf.keras.Model):\n",
        "    def __init__(self):\n",
        "        super().__init__()\n",
        "        self.d1 = tf.keras.layers.Dense(64, activation='relu')\n",
        "        self.out = tf.keras.layers.Dense(10)\n",
        "\n",
        "    def call(self, x):\n",
        "        x = self.d1(x)\n",
        "        return self.out(x)\n",
        "\n",
        "model = SimpleModel()\n",
        "optimizer = tf.keras.optimizers.Adam()\n",
        "loss_fn = tf.keras.losses.SparseCategoricalCrossentropy(from_logits=True)\n",
        "\n",
        "@tf.function\n",
        "def train_step(x, y):\n",
        "    with tf.GradientTape() as tape:\n",
        "        logits = model(x)\n",
        "        loss = loss_fn(y, logits)\n",
        "    grads = tape.gradient(loss, model.trainable_variables)\n",
        "    optimizer.apply_gradients(zip(grads, model.trainable_variables))\n",
        "    return loss\n",
        "\n",
        "# Обработка данных и обучение\n",
        "x_batch = tf.convert_to_tensor(x_train[:128].reshape(-1, 28*28), dtype=tf.float32)\n",
        "y_batch = tf.convert_to_tensor(y_train[:128], dtype=tf.int64)\n",
        "\n",
        "for epoch in range(5):\n",
        "    loss = train_step(x_batch, y_batch)\n",
        "    print(f\"Epoch {epoch + 1}, Loss: {loss.numpy():.4f}\")"
      ]
    },
    {
      "cell_type": "markdown",
      "id": "3ad74774",
      "metadata": {
        "id": "3ad74774"
      },
      "source": [
        "## 🔹 4. Использование GPU\n",
        "Выполнение матричных операций на доступном GPU."
      ]
    },
    {
      "cell_type": "code",
      "execution_count": 11,
      "id": "85c0edc4",
      "metadata": {
        "colab": {
          "base_uri": "https://localhost:8080/"
        },
        "id": "85c0edc4",
        "outputId": "345da989-c544-4ea7-9c00-0a6b3a6e7100"
      },
      "outputs": [
        {
          "output_type": "stream",
          "name": "stdout",
          "text": [
            "Matrix multiplication done on GPU\n"
          ]
        }
      ],
      "source": [
        "# Проверим работу с GPU\n",
        "with tf.device('/GPU:0'):\n",
        "    a = tf.random.normal([1000, 1000])\n",
        "    b = tf.random.normal([1000, 1000])\n",
        "    c = tf.matmul(a, b)\n",
        "print(\"Matrix multiplication done on GPU\")"
      ]
    },
    {
      "cell_type": "markdown",
      "id": "19a28fba",
      "metadata": {
        "id": "19a28fba"
      },
      "source": [
        "## 🔹 5. Сохранение и загрузка модели\n",
        "Сохраняем модель в формате SavedModel и загружаем обратно."
      ]
    },
    {
      "cell_type": "code",
      "execution_count": 12,
      "id": "9d1f7faa",
      "metadata": {
        "colab": {
          "base_uri": "https://localhost:8080/",
          "height": 373
        },
        "id": "9d1f7faa",
        "outputId": "143d3ec2-0170-49ca-89f6-8b8031e50ee6"
      },
      "outputs": [
        {
          "output_type": "error",
          "ename": "ValueError",
          "evalue": "Invalid filepath extension for saving. Please add either a `.keras` extension for the native Keras format (recommended) or a `.h5` extension. Use `model.export(filepath)` if you want to export a SavedModel for use with TFLite/TFServing/etc. Received: filepath=my_model.",
          "traceback": [
            "\u001b[0;31m---------------------------------------------------------------------------\u001b[0m",
            "\u001b[0;31mValueError\u001b[0m                                Traceback (most recent call last)",
            "\u001b[0;32m<ipython-input-12-9279298f1126>\u001b[0m in \u001b[0;36m<cell line: 0>\u001b[0;34m()\u001b[0m\n\u001b[1;32m      1\u001b[0m \u001b[0;31m# Сохраняем модель\u001b[0m\u001b[0;34m\u001b[0m\u001b[0;34m\u001b[0m\u001b[0m\n\u001b[0;32m----> 2\u001b[0;31m \u001b[0mmodel\u001b[0m\u001b[0;34m.\u001b[0m\u001b[0msave\u001b[0m\u001b[0;34m(\u001b[0m\u001b[0;34m'my_model'\u001b[0m\u001b[0;34m)\u001b[0m\u001b[0;34m\u001b[0m\u001b[0;34m\u001b[0m\u001b[0m\n\u001b[0m\u001b[1;32m      3\u001b[0m \u001b[0;34m\u001b[0m\u001b[0m\n\u001b[1;32m      4\u001b[0m \u001b[0;31m# Загружаем модель\u001b[0m\u001b[0;34m\u001b[0m\u001b[0;34m\u001b[0m\u001b[0m\n\u001b[1;32m      5\u001b[0m \u001b[0mnew_model\u001b[0m \u001b[0;34m=\u001b[0m \u001b[0mtf\u001b[0m\u001b[0;34m.\u001b[0m\u001b[0mkeras\u001b[0m\u001b[0;34m.\u001b[0m\u001b[0mmodels\u001b[0m\u001b[0;34m.\u001b[0m\u001b[0mload_model\u001b[0m\u001b[0;34m(\u001b[0m\u001b[0;34m'my_model'\u001b[0m\u001b[0;34m)\u001b[0m\u001b[0;34m\u001b[0m\u001b[0;34m\u001b[0m\u001b[0m\n",
            "\u001b[0;32m/usr/local/lib/python3.11/dist-packages/keras/src/utils/traceback_utils.py\u001b[0m in \u001b[0;36merror_handler\u001b[0;34m(*args, **kwargs)\u001b[0m\n\u001b[1;32m    120\u001b[0m             \u001b[0;31m# To get the full stack trace, call:\u001b[0m\u001b[0;34m\u001b[0m\u001b[0;34m\u001b[0m\u001b[0m\n\u001b[1;32m    121\u001b[0m             \u001b[0;31m# `keras.config.disable_traceback_filtering()`\u001b[0m\u001b[0;34m\u001b[0m\u001b[0;34m\u001b[0m\u001b[0m\n\u001b[0;32m--> 122\u001b[0;31m             \u001b[0;32mraise\u001b[0m \u001b[0me\u001b[0m\u001b[0;34m.\u001b[0m\u001b[0mwith_traceback\u001b[0m\u001b[0;34m(\u001b[0m\u001b[0mfiltered_tb\u001b[0m\u001b[0;34m)\u001b[0m \u001b[0;32mfrom\u001b[0m \u001b[0;32mNone\u001b[0m\u001b[0;34m\u001b[0m\u001b[0;34m\u001b[0m\u001b[0m\n\u001b[0m\u001b[1;32m    123\u001b[0m         \u001b[0;32mfinally\u001b[0m\u001b[0;34m:\u001b[0m\u001b[0;34m\u001b[0m\u001b[0;34m\u001b[0m\u001b[0m\n\u001b[1;32m    124\u001b[0m             \u001b[0;32mdel\u001b[0m \u001b[0mfiltered_tb\u001b[0m\u001b[0;34m\u001b[0m\u001b[0;34m\u001b[0m\u001b[0m\n",
            "\u001b[0;32m/usr/local/lib/python3.11/dist-packages/keras/src/saving/saving_api.py\u001b[0m in \u001b[0;36msave_model\u001b[0;34m(model, filepath, overwrite, zipped, **kwargs)\u001b[0m\n\u001b[1;32m    112\u001b[0m             \u001b[0mmodel\u001b[0m\u001b[0;34m,\u001b[0m \u001b[0mfilepath\u001b[0m\u001b[0;34m,\u001b[0m \u001b[0moverwrite\u001b[0m\u001b[0;34m,\u001b[0m \u001b[0minclude_optimizer\u001b[0m\u001b[0;34m\u001b[0m\u001b[0;34m\u001b[0m\u001b[0m\n\u001b[1;32m    113\u001b[0m         )\n\u001b[0;32m--> 114\u001b[0;31m     raise ValueError(\n\u001b[0m\u001b[1;32m    115\u001b[0m         \u001b[0;34m\"Invalid filepath extension for saving. \"\u001b[0m\u001b[0;34m\u001b[0m\u001b[0;34m\u001b[0m\u001b[0m\n\u001b[1;32m    116\u001b[0m         \u001b[0;34m\"Please add either a `.keras` extension for the native Keras \"\u001b[0m\u001b[0;34m\u001b[0m\u001b[0;34m\u001b[0m\u001b[0m\n",
            "\u001b[0;31mValueError\u001b[0m: Invalid filepath extension for saving. Please add either a `.keras` extension for the native Keras format (recommended) or a `.h5` extension. Use `model.export(filepath)` if you want to export a SavedModel for use with TFLite/TFServing/etc. Received: filepath=my_model."
          ]
        }
      ],
      "source": [
        "# Сохраняем модель\n",
        "model.save('my_model')\n",
        "\n",
        "# Загружаем модель\n",
        "new_model = tf.keras.models.load_model('my_model')\n",
        "new_model.summary()"
      ]
    },
    {
      "cell_type": "markdown",
      "id": "2ec6a8bf",
      "metadata": {
        "id": "2ec6a8bf"
      },
      "source": [
        "## 🔹 6. Экспорт модели в TensorFlow Lite\n",
        "Конвертация модели в формат TFLite для мобильных и edge-устройств."
      ]
    },
    {
      "cell_type": "code",
      "execution_count": null,
      "id": "4b0d3e45",
      "metadata": {
        "id": "4b0d3e45"
      },
      "outputs": [],
      "source": [
        "# Конвертация в TFLite\n",
        "converter = tf.lite.TFLiteConverter.from_saved_model('my_model')\n",
        "tflite_model = converter.convert()\n",
        "\n",
        "# Сохраняем в файл\n",
        "with open('model.tflite', 'wb') as f:\n",
        "    f.write(tflite_model)\n",
        "print(\"Model converted to TensorFlow Lite\")"
      ]
    },
    {
      "cell_type": "markdown",
      "id": "6a567b24",
      "metadata": {
        "id": "6a567b24"
      },
      "source": [
        "## 🔹 7. Style Transfer (Перенос стиля)\n",
        "Пример использования TensorFlow Hub для художественного переноса стиля изображения. Мы используем предобученную модель, чтобы стилизовать обычное изображение под картину."
      ]
    },
    {
      "cell_type": "code",
      "execution_count": null,
      "id": "92fed7f1",
      "metadata": {
        "id": "92fed7f1"
      },
      "outputs": [],
      "source": [
        "\n",
        "import tensorflow_hub as hub\n",
        "import PIL.Image\n",
        "import requests\n",
        "from io import BytesIO\n",
        "\n",
        "def load_image(url, resize_to=(256, 256)):\n",
        "    img = PIL.Image.open(requests.get(url, stream=True).raw).convert('RGB')\n",
        "    img = img.resize(resize_to)\n",
        "    img = np.array(img) / 255.0\n",
        "    return tf.constant(img, dtype=tf.float32)[tf.newaxis, ...]\n",
        "\n",
        "# Загружаем контент и стиль\n",
        "content_image = load_image(\"https://tensorflow.org/example_images/YellowLabradorLooking_new.jpg\")\n",
        "style_image = load_image(\"https://tensorflow.org/example_images/Vassily_Kandinsky,_1913_-_Composition_7.jpg\")\n",
        "\n",
        "# Загружаем модель переноса стиля\n",
        "hub_model = hub.load('https://tfhub.dev/google/magenta/arbitrary-image-stylization-v1-256/2')\n",
        "\n",
        "# Применяем стиль\n",
        "stylized_image = hub_model(tf.constant(content_image), tf.constant(style_image))[0]\n",
        "\n",
        "# Показываем результат\n",
        "def show_image(image, title=''):\n",
        "    plt.imshow(image[0])\n",
        "    plt.axis('off')\n",
        "    plt.title(title)\n",
        "    plt.show()\n",
        "\n",
        "show_image(content_image, 'Контент')\n",
        "show_image(style_image, 'Стиль')\n",
        "show_image(stylized_image, 'Результат')\n"
      ]
    }
  ],
  "metadata": {
    "colab": {
      "provenance": [],
      "machine_shape": "hm",
      "gpuType": "L4",
      "include_colab_link": true
    },
    "language_info": {
      "name": "python"
    },
    "kernelspec": {
      "name": "python3",
      "display_name": "Python 3"
    },
    "accelerator": "GPU"
  },
  "nbformat": 4,
  "nbformat_minor": 5
}
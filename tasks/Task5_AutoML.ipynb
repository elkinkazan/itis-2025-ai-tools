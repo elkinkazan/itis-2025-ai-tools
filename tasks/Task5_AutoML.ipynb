{
  "cells": [
    {
      "cell_type": "markdown",
      "metadata": {
        "id": "view-in-github",
        "colab_type": "text"
      },
      "source": [
        "<a href=\"https://colab.research.google.com/github/alexander-toschev/ai-tools/blob/main/tasks/Task5_AutoML.ipynb\" target=\"_parent\"><img src=\"https://colab.research.google.com/assets/colab-badge.svg\" alt=\"Open In Colab\"/></a>"
      ]
    },
    {
      "cell_type": "code",
      "source": [
        "\n",
        "# DO NOT MODIFY  !!!\n",
        "# DO NOT EXECUTE !!!\n",
        "!pip install --upgrade gspread pandas google-auth\n",
        "import pandas as pd\n",
        "import gspread\n",
        "from google.colab import auth\n",
        "from google.auth import default\n",
        "from IPython.display import display\n",
        "import random\n",
        "# Authenticate and create the PyDrive client.\n",
        "auth.authenticate_user()\n",
        "creds, _ = default()\n",
        "gc = gspread.authorize(creds)"
      ],
      "metadata": {
        "id": "qJuU-pHu36JI"
      },
      "id": "qJuU-pHu36JI",
      "execution_count": null,
      "outputs": []
    },
    {
      "cell_type": "code",
      "source": [
        "\n",
        "# FILL THIS\n",
        "student_name = \"ELON MUSK\"\n",
        "group_id = \"11-101\""
      ],
      "metadata": {
        "id": "44bnGk9B3-l7"
      },
      "id": "44bnGk9B3-l7",
      "execution_count": null,
      "outputs": []
    },
    {
      "cell_type": "code",
      "source": [
        "\n",
        "# DO NOT MODIFY  !!!\n",
        "# DO NOT EXECUTE !!!\n",
        "SPREADSHEET_URL = \"https://docs.google.com/spreadsheets/d/1Kfxj2eDFl7xQnXw7Fpb9bwghc65o8xf--VpNxrdWHaY/edit?gid=0#gid=0\"\n",
        "sh = gc.open_by_url(SPREADSHEET_URL)\n",
        "worksheet = sh.sheet1\n",
        "\n",
        "# Ensure header row exists\n",
        "if not worksheet.get_all_values():\n",
        "    worksheet.append_row([\"Student Name\", \"Group\",\"TaskID\", \"Score\"])\n",
        "\n",
        "\n",
        "# MAIN NOTEBOOK GOES HERE\n",
        "task_id = \"Task5_AutoML\"\n",
        "score = 0\n",
        "max_score = 10"
      ],
      "metadata": {
        "id": "Sym0lpF23-7R"
      },
      "id": "Sym0lpF23-7R",
      "execution_count": null,
      "outputs": []
    },
    {
      "cell_type": "code",
      "execution_count": null,
      "id": "63b5d2f4",
      "metadata": {
        "id": "63b5d2f4"
      },
      "outputs": [],
      "source": [
        "\n",
        "# Установка библиотеки FLAML\n",
        "!pip install flaml --quiet\n"
      ]
    },
    {
      "cell_type": "markdown",
      "id": "9171e8d6",
      "metadata": {
        "id": "9171e8d6"
      },
      "source": [
        "## 🧪 Задание: AutoML на датасете Digits с FLAML"
      ]
    },
    {
      "cell_type": "code",
      "execution_count": null,
      "id": "b95cfa2b",
      "metadata": {
        "id": "b95cfa2b"
      },
      "outputs": [],
      "source": [
        "\n",
        "from flaml import AutoML\n",
        "from sklearn.datasets import load_digits\n",
        "from sklearn.model_selection import train_test_split\n",
        "from sklearn.metrics import accuracy_score\n",
        "\n",
        "# Загрузка датасета\n",
        "X, y = load_digits(return_X_y=True)\n",
        "X_train, X_test, y_train, y_test = train_test_split(X, y, test_size=0.3, random_state=42)\n",
        "\n",
        "# AutoML классификатор\n",
        "# your code here 2 lines\n",
        "\n",
        "\n",
        "# Оценка\n",
        "y_pred = automl.predict(X_test)\n",
        "acc_automl = accuracy_score(y_test, y_pred)\n",
        "print(\"FLAML Accuracy:\", acc_automl)\n"
      ]
    },
    {
      "cell_type": "markdown",
      "id": "da988e7f",
      "metadata": {
        "id": "da988e7f"
      },
      "source": [
        "## 🔍 Сравнение с ручной моделью (RandomForest)"
      ]
    },
    {
      "cell_type": "code",
      "execution_count": null,
      "id": "7481dd87",
      "metadata": {
        "id": "7481dd87"
      },
      "outputs": [],
      "source": [
        "\n",
        "from sklearn.ensemble import RandomForestClassifier\n",
        "\n",
        "# your code here 3 lines\n",
        "\n",
        "acc_rf = accuracy_score(y_test, rf_pred)\n",
        "print(\"Random Forest Accuracy:\", acc_rf)\n"
      ]
    },
    {
      "cell_type": "markdown",
      "id": "3018c799",
      "metadata": {
        "id": "3018c799"
      },
      "source": [
        "## ✅ Автоматические тесты"
      ]
    },
    {
      "cell_type": "code",
      "execution_count": 1,
      "id": "f259ee5d",
      "metadata": {
        "colab": {
          "base_uri": "https://localhost:8080/",
          "height": 297
        },
        "id": "f259ee5d",
        "outputId": "8338e622-3450-4830-bdf5-5fc75e67c6cf"
      },
      "outputs": [
        {
          "output_type": "error",
          "ename": "NameError",
          "evalue": "name 'acc_automl' is not defined",
          "traceback": [
            "\u001b[0;31m---------------------------------------------------------------------------\u001b[0m",
            "\u001b[0;31mNameError\u001b[0m                                 Traceback (most recent call last)",
            "\u001b[0;32m<ipython-input-1-e11a64fc0b40>\u001b[0m in \u001b[0;36m<cell line: 0>\u001b[0;34m()\u001b[0m\n\u001b[1;32m      7\u001b[0m   \u001b[0mprint\u001b[0m\u001b[0;34m(\u001b[0m\u001b[0;34m\"✅ Все тесты пройдены успешно!\"\u001b[0m\u001b[0;34m)\u001b[0m\u001b[0;34m\u001b[0m\u001b[0;34m\u001b[0m\u001b[0m\n\u001b[1;32m      8\u001b[0m \u001b[0;34m\u001b[0m\u001b[0m\n\u001b[0;32m----> 9\u001b[0;31m \u001b[0mautoTest\u001b[0m\u001b[0;34m(\u001b[0m\u001b[0;34m)\u001b[0m\u001b[0;34m\u001b[0m\u001b[0;34m\u001b[0m\u001b[0m\n\u001b[0m",
            "\u001b[0;32m<ipython-input-1-e11a64fc0b40>\u001b[0m in \u001b[0;36mautoTest\u001b[0;34m()\u001b[0m\n\u001b[1;32m      1\u001b[0m \u001b[0;32mdef\u001b[0m \u001b[0mautoTest\u001b[0m\u001b[0;34m(\u001b[0m\u001b[0;34m)\u001b[0m\u001b[0;34m:\u001b[0m\u001b[0;34m\u001b[0m\u001b[0;34m\u001b[0m\u001b[0m\n\u001b[1;32m      2\u001b[0m   \u001b[0;32mglobal\u001b[0m \u001b[0mscore\u001b[0m\u001b[0;34m\u001b[0m\u001b[0;34m\u001b[0m\u001b[0m\n\u001b[0;32m----> 3\u001b[0;31m   \u001b[0;32massert\u001b[0m \u001b[0macc_automl\u001b[0m \u001b[0;34m>\u001b[0m \u001b[0;36m0.7\u001b[0m\u001b[0;34m,\u001b[0m \u001b[0;34m\"⚠️ AutoML accuracy слишком низкое — проверьте реализацию.\"\u001b[0m\u001b[0;34m\u001b[0m\u001b[0;34m\u001b[0m\u001b[0m\n\u001b[0m\u001b[1;32m      4\u001b[0m   \u001b[0mscore\u001b[0m \u001b[0;34m+=\u001b[0m\u001b[0;36m5\u001b[0m\u001b[0;34m\u001b[0m\u001b[0;34m\u001b[0m\u001b[0m\n\u001b[1;32m      5\u001b[0m   \u001b[0;32massert\u001b[0m \u001b[0macc_rf\u001b[0m \u001b[0;34m>\u001b[0m \u001b[0;36m0.7\u001b[0m\u001b[0;34m,\u001b[0m \u001b[0;34m\"⚠️ Random Forest accuracy слишком низкое — проверьте реализацию.\"\u001b[0m\u001b[0;34m\u001b[0m\u001b[0;34m\u001b[0m\u001b[0m\n",
            "\u001b[0;31mNameError\u001b[0m: name 'acc_automl' is not defined"
          ]
        }
      ],
      "source": [
        "def autoTest():\n",
        "  global score\n",
        "  assert acc_automl > 0.7, \"⚠️ AutoML accuracy слишком низкое — проверьте реализацию.\"\n",
        "  score +=5\n",
        "  assert acc_rf > 0.7, \"⚠️ Random Forest accuracy слишком низкое — проверьте реализацию.\"\n",
        "  score += 5\n",
        "  print(\"✅ Все тесты пройдены успешно!\")\n",
        "\n",
        "autoTest()"
      ]
    },
    {
      "cell_type": "code",
      "source": [
        "# DO NOT MODIFY  !!!\n",
        "# DO NOT EXECUTE !!!\n",
        "# Save the result to Google Sheets\n",
        "from datetime import datetime\n",
        "\n",
        "# Get current date and time\n",
        "now = datetime.now()\n",
        "timestamp = now.strftime(\"%Y-%m-%d %H:%M:%S\")\n",
        "worksheet.append_row([student_name,group_id, task_id, score, timestamp])\n",
        "\n",
        "print(f\"Test completed! {student_name}, your score is {score}/{max_score}.\")"
      ],
      "metadata": {
        "id": "c2kpa7SO4GVi"
      },
      "id": "c2kpa7SO4GVi",
      "execution_count": null,
      "outputs": []
    }
  ],
  "metadata": {
    "colab": {
      "provenance": [],
      "include_colab_link": true
    },
    "language_info": {
      "name": "python"
    },
    "kernelspec": {
      "name": "python3",
      "display_name": "Python 3"
    }
  },
  "nbformat": 4,
  "nbformat_minor": 5
}
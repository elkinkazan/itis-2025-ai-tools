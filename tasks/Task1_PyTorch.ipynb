{
  "cells": [
    {
      "cell_type": "markdown",
      "metadata": {
        "id": "view-in-github",
        "colab_type": "text"
      },
      "source": [
        "<a href=\"https://colab.research.google.com/github/alexander-toschev/ai-tools/blob/main/tasks/Task1_PyTorch.ipynb\" target=\"_parent\"><img src=\"https://colab.research.google.com/assets/colab-badge.svg\" alt=\"Open In Colab\"/></a>"
      ]
    },
    {
      "cell_type": "code",
      "execution_count": 24,
      "metadata": {
        "colab": {
          "base_uri": "https://localhost:8080/"
        },
        "id": "464jOV188Eu1",
        "outputId": "dccbe029-abbd-4125-a93b-31bdc93e89be"
      },
      "outputs": [
        {
          "output_type": "stream",
          "name": "stdout",
          "text": [
            "Requirement already satisfied: gspread in /usr/local/lib/python3.11/dist-packages (6.2.0)\n",
            "Requirement already satisfied: pandas in /usr/local/lib/python3.11/dist-packages (2.2.3)\n",
            "Requirement already satisfied: google-auth in /usr/local/lib/python3.11/dist-packages (2.38.0)\n",
            "Requirement already satisfied: google-auth-oauthlib>=0.4.1 in /usr/local/lib/python3.11/dist-packages (from gspread) (1.2.1)\n",
            "Requirement already satisfied: numpy>=1.23.2 in /usr/local/lib/python3.11/dist-packages (from pandas) (2.0.2)\n",
            "Requirement already satisfied: python-dateutil>=2.8.2 in /usr/local/lib/python3.11/dist-packages (from pandas) (2.8.2)\n",
            "Requirement already satisfied: pytz>=2020.1 in /usr/local/lib/python3.11/dist-packages (from pandas) (2025.2)\n",
            "Requirement already satisfied: tzdata>=2022.7 in /usr/local/lib/python3.11/dist-packages (from pandas) (2025.2)\n",
            "Requirement already satisfied: cachetools<6.0,>=2.0.0 in /usr/local/lib/python3.11/dist-packages (from google-auth) (5.5.2)\n",
            "Requirement already satisfied: pyasn1-modules>=0.2.1 in /usr/local/lib/python3.11/dist-packages (from google-auth) (0.4.2)\n",
            "Requirement already satisfied: rsa<5,>=3.1.4 in /usr/local/lib/python3.11/dist-packages (from google-auth) (4.9)\n",
            "Requirement already satisfied: requests-oauthlib>=0.7.0 in /usr/local/lib/python3.11/dist-packages (from google-auth-oauthlib>=0.4.1->gspread) (2.0.0)\n",
            "Requirement already satisfied: pyasn1<0.7.0,>=0.6.1 in /usr/local/lib/python3.11/dist-packages (from pyasn1-modules>=0.2.1->google-auth) (0.6.1)\n",
            "Requirement already satisfied: six>=1.5 in /usr/local/lib/python3.11/dist-packages (from python-dateutil>=2.8.2->pandas) (1.17.0)\n",
            "Requirement already satisfied: oauthlib>=3.0.0 in /usr/local/lib/python3.11/dist-packages (from requests-oauthlib>=0.7.0->google-auth-oauthlib>=0.4.1->gspread) (3.2.2)\n",
            "Requirement already satisfied: requests>=2.0.0 in /usr/local/lib/python3.11/dist-packages (from requests-oauthlib>=0.7.0->google-auth-oauthlib>=0.4.1->gspread) (2.32.3)\n",
            "Requirement already satisfied: charset-normalizer<4,>=2 in /usr/local/lib/python3.11/dist-packages (from requests>=2.0.0->requests-oauthlib>=0.7.0->google-auth-oauthlib>=0.4.1->gspread) (3.4.1)\n",
            "Requirement already satisfied: idna<4,>=2.5 in /usr/local/lib/python3.11/dist-packages (from requests>=2.0.0->requests-oauthlib>=0.7.0->google-auth-oauthlib>=0.4.1->gspread) (3.10)\n",
            "Requirement already satisfied: urllib3<3,>=1.21.1 in /usr/local/lib/python3.11/dist-packages (from requests>=2.0.0->requests-oauthlib>=0.7.0->google-auth-oauthlib>=0.4.1->gspread) (2.3.0)\n",
            "Requirement already satisfied: certifi>=2017.4.17 in /usr/local/lib/python3.11/dist-packages (from requests>=2.0.0->requests-oauthlib>=0.7.0->google-auth-oauthlib>=0.4.1->gspread) (2025.1.31)\n"
          ]
        }
      ],
      "source": [
        "# DO NOT MODIFY  !!!\n",
        "# DO NOT EXECUTE !!!\n",
        "!pip install --upgrade gspread pandas google-auth\n",
        "import pandas as pd\n",
        "import gspread\n",
        "from google.colab import auth\n",
        "from google.auth import default\n",
        "from IPython.display import display\n",
        "import random\n",
        "# Authenticate and create the PyDrive client.\n",
        "auth.authenticate_user()\n",
        "creds, _ = default()\n",
        "gc = gspread.authorize(creds)\n",
        "\n"
      ]
    },
    {
      "cell_type": "code",
      "execution_count": 25,
      "metadata": {
        "id": "CILcf5ys8XZ-"
      },
      "outputs": [],
      "source": [
        "# FILL THIS\n",
        "student_name = \"ELON MUSK\"\n",
        "group_id = \"11-101\"\n"
      ]
    },
    {
      "cell_type": "code",
      "execution_count": 26,
      "metadata": {
        "id": "deJzxEGB9cqv"
      },
      "outputs": [],
      "source": [
        "# DO NOT MODIFY  !!!\n",
        "# DO NOT EXECUTE !!!\n",
        "SPREADSHEET_URL = \"https://docs.google.com/spreadsheets/d/1Kfxj2eDFl7xQnXw7Fpb9bwghc65o8xf--VpNxrdWHaY/edit?gid=0#gid=0\"\n",
        "sh = gc.open_by_url(SPREADSHEET_URL)\n",
        "worksheet = sh.sheet1\n",
        "\n",
        "# Ensure header row exists\n",
        "if not worksheet.get_all_values():\n",
        "    worksheet.append_row([\"Student Name\", \"Group\",\"TaskID\", \"Score\"])\n"
      ]
    },
    {
      "cell_type": "code",
      "execution_count": 27,
      "metadata": {
        "id": "Q71764Rh9Q50"
      },
      "outputs": [],
      "source": [
        "# MAIN NOTEBOOK GOES HERE\n",
        "task_id = \"Task1_PyTorch\"\n",
        "score = 0\n",
        "max_score = 15"
      ]
    },
    {
      "cell_type": "code",
      "execution_count": 28,
      "metadata": {
        "id": "asV6UtR3fgdU"
      },
      "outputs": [],
      "source": [
        "import torch\n",
        "from torch import nn\n",
        "from torch.utils.data import DataLoader\n",
        "from torchvision import datasets\n",
        "from torchvision.transforms import ToTensor"
      ]
    },
    {
      "cell_type": "code",
      "execution_count": 29,
      "metadata": {
        "id": "eGHD6QQMgD30"
      },
      "outputs": [],
      "source": [
        "# Download training data from open datasets.\n",
        "training_data = datasets.FashionMNIST(\n",
        "    root=\"data\",\n",
        "    train=True,\n",
        "    download=True,\n",
        "    transform=ToTensor(),\n",
        ")\n",
        "\n",
        "# Download test data from open datasets.\n",
        "test_data = datasets.FashionMNIST(\n",
        "    root=\"data\",\n",
        "    train=False,\n",
        "    download=True,\n",
        "    transform=ToTensor(),\n",
        ")\n"
      ]
    },
    {
      "cell_type": "code",
      "execution_count": 30,
      "metadata": {
        "colab": {
          "base_uri": "https://localhost:8080/"
        },
        "id": "y70pAAt5gKxQ",
        "outputId": "2a678cec-a247-4219-eafa-849b11e8ec16"
      },
      "outputs": [
        {
          "output_type": "stream",
          "name": "stdout",
          "text": [
            "Shape of X [N, C, H, W]: torch.Size([64, 1, 28, 28])\n",
            "Shape of y: torch.Size([64]) torch.int64\n"
          ]
        }
      ],
      "source": [
        "batch_size = 64\n",
        "\n",
        "# Create data loaders.\n",
        "train_dataloader = DataLoader(training_data, batch_size=batch_size)\n",
        "test_dataloader = DataLoader(test_data, batch_size=batch_size)\n",
        "\n",
        "for X, y in test_dataloader:\n",
        "    print(f\"Shape of X [N, C, H, W]: {X.shape}\")\n",
        "    print(f\"Shape of y: {y.shape} {y.dtype}\")\n",
        "    break"
      ]
    },
    {
      "cell_type": "markdown",
      "metadata": {
        "id": "7GWlIYRhgPSR"
      },
      "source": [
        "# Modelling"
      ]
    },
    {
      "cell_type": "code",
      "execution_count": 31,
      "metadata": {
        "colab": {
          "base_uri": "https://localhost:8080/"
        },
        "id": "bdT5HW0mgOp7",
        "outputId": "bf3da1ef-f6eb-41e6-ca45-0353dbc37057"
      },
      "outputs": [
        {
          "output_type": "stream",
          "name": "stdout",
          "text": [
            "Using cuda device\n",
            "NeuralNetwork(\n",
            "  (flatten): Flatten(start_dim=1, end_dim=-1)\n",
            "  (linear_relu_stack): Sequential(\n",
            "    (0): Linear(in_features=784, out_features=512, bias=True)\n",
            "    (1): ReLU()\n",
            "    (2): Linear(in_features=512, out_features=512, bias=True)\n",
            "    (3): ReLU()\n",
            "    (4): Linear(in_features=512, out_features=10, bias=True)\n",
            "  )\n",
            ")\n"
          ]
        }
      ],
      "source": [
        "# mps for Mac\n",
        "global device\n",
        "device = \"cuda\"\n",
        "print(f\"Using {device} device\")\n",
        "\n",
        "# Define model\n",
        "class NeuralNetwork(nn.Module):\n",
        "    def __init__(self):\n",
        "        super().__init__()\n",
        "        self.flatten = nn.Flatten()\n",
        "        self.linear_relu_stack = nn.Sequential(\n",
        "            nn.Linear(28*28, 512),\n",
        "            nn.ReLU(),\n",
        "            nn.Linear(512, 512),\n",
        "            nn.ReLU(),\n",
        "            nn.Linear(512, 10)\n",
        "        )\n",
        "\n",
        "    def forward(self, x):\n",
        "        x = self.flatten(x)\n",
        "        logits = self.linear_relu_stack(x)\n",
        "        return logits\n",
        "\n",
        "model = NeuralNetwork().to(device)\n",
        "print(model)"
      ]
    },
    {
      "cell_type": "markdown",
      "metadata": {
        "id": "aObCPexZgbPt"
      },
      "source": [
        "To train a model, we need a loss function and an optimizer."
      ]
    },
    {
      "cell_type": "code",
      "execution_count": 32,
      "metadata": {
        "id": "nMKZ3siPge4b"
      },
      "outputs": [],
      "source": [
        "loss_fn = nn.CrossEntropyLoss()\n",
        "optimizer = torch.optim.SGD(model.parameters(), lr=1e-3)"
      ]
    },
    {
      "cell_type": "markdown",
      "metadata": {
        "id": "SYbCAlVdghIC"
      },
      "source": [
        "In a single training loop, the model makes predictions on the training dataset (fed to it in batches), and backpropagates the prediction error to adjust the model’s parameters."
      ]
    },
    {
      "cell_type": "code",
      "execution_count": 33,
      "metadata": {
        "id": "jfd9Fn8Bghmg"
      },
      "outputs": [],
      "source": [
        "def train(dataloader, model, loss_fn, optimizer):\n",
        "    size = len(dataloader.dataset)\n",
        "    model.train()\n",
        "    for batch, (X, y) in enumerate(dataloader):\n",
        "        X, y = X.to(device), y.to(device)\n",
        "\n",
        "        # Compute prediction error\n",
        "        pred = model(X)\n",
        "        loss = loss_fn(pred, y)\n",
        "\n",
        "        # Backpropagation\n",
        "        optimizer.zero_grad()\n",
        "        loss.backward()\n",
        "        optimizer.step()\n",
        "\n",
        "        if batch % 100 == 0:\n",
        "            loss, current = loss.item(), (batch + 1) * len(X)\n",
        "            print(f\"loss: {loss:>7f}  [{current:>5d}/{size:>5d}]\")"
      ]
    },
    {
      "cell_type": "code",
      "execution_count": 34,
      "metadata": {
        "id": "qGEj-cMtgppi"
      },
      "outputs": [],
      "source": [
        "def test(dataloader, model, loss_fn):\n",
        "    size = len(dataloader.dataset)\n",
        "    num_batches = len(dataloader)\n",
        "    model.eval()\n",
        "    test_loss, correct = 0, 0\n",
        "    with torch.no_grad():\n",
        "        for X, y in dataloader:\n",
        "            X, y = X.to(device), y.to(device)\n",
        "            pred = model(X)\n",
        "            test_loss += loss_fn(pred, y).item()\n",
        "            correct += (pred.argmax(1) == y).type(torch.float).sum().item()\n",
        "    test_loss /= num_batches\n",
        "    correct /= size\n",
        "\n",
        "    print(f\"Test Error: \\n Accuracy: {(100*correct):>0.1f}%, Avg loss: {test_loss:>8f} \\n\")\n",
        "    return  100*correct, test_loss"
      ]
    },
    {
      "cell_type": "code",
      "execution_count": 35,
      "metadata": {
        "colab": {
          "base_uri": "https://localhost:8080/"
        },
        "id": "l-GsVkiTgr59",
        "outputId": "3c72829e-5e54-4f3a-f99d-625a2584b884"
      },
      "outputs": [
        {
          "output_type": "stream",
          "name": "stdout",
          "text": [
            "Epoch 1\n",
            "-------------------------------\n",
            "loss: 2.302124  [   64/60000]\n",
            "loss: 2.290845  [ 6464/60000]\n",
            "loss: 2.273964  [12864/60000]\n",
            "loss: 2.266565  [19264/60000]\n",
            "loss: 2.242912  [25664/60000]\n",
            "loss: 2.216395  [32064/60000]\n",
            "loss: 2.221253  [38464/60000]\n",
            "loss: 2.186315  [44864/60000]\n",
            "loss: 2.182127  [51264/60000]\n",
            "loss: 2.141618  [57664/60000]\n",
            "Test Error: \n",
            " Accuracy: 43.2%, Avg loss: 2.142539 \n",
            "\n",
            "Epoch 2\n",
            "-------------------------------\n",
            "loss: 2.151726  [   64/60000]\n",
            "loss: 2.143460  [ 6464/60000]\n",
            "loss: 2.087738  [12864/60000]\n",
            "loss: 2.107926  [19264/60000]\n",
            "loss: 2.041686  [25664/60000]\n",
            "loss: 1.991503  [32064/60000]\n",
            "loss: 2.012198  [38464/60000]\n",
            "loss: 1.931440  [44864/60000]\n",
            "loss: 1.935564  [51264/60000]\n",
            "loss: 1.854998  [57664/60000]\n",
            "Test Error: \n",
            " Accuracy: 55.4%, Avg loss: 1.862655 \n",
            "\n",
            "Epoch 3\n",
            "-------------------------------\n",
            "loss: 1.894671  [   64/60000]\n",
            "loss: 1.864006  [ 6464/60000]\n",
            "loss: 1.753084  [12864/60000]\n",
            "loss: 1.803132  [19264/60000]\n",
            "loss: 1.677571  [25664/60000]\n",
            "loss: 1.645940  [32064/60000]\n",
            "loss: 1.663095  [38464/60000]\n",
            "loss: 1.566968  [44864/60000]\n",
            "loss: 1.590739  [51264/60000]\n",
            "loss: 1.483918  [57664/60000]\n",
            "Test Error: \n",
            " Accuracy: 61.1%, Avg loss: 1.507880 \n",
            "\n",
            "Epoch 4\n",
            "-------------------------------\n",
            "loss: 1.572927  [   64/60000]\n",
            "loss: 1.539680  [ 6464/60000]\n",
            "loss: 1.395239  [12864/60000]\n",
            "loss: 1.475517  [19264/60000]\n",
            "loss: 1.350947  [25664/60000]\n",
            "loss: 1.356571  [32064/60000]\n",
            "loss: 1.367517  [38464/60000]\n",
            "loss: 1.291315  [44864/60000]\n",
            "loss: 1.322539  [51264/60000]\n",
            "loss: 1.226727  [57664/60000]\n",
            "Test Error: \n",
            " Accuracy: 63.6%, Avg loss: 1.252541 \n",
            "\n",
            "Epoch 5\n",
            "-------------------------------\n",
            "loss: 1.327088  [   64/60000]\n",
            "loss: 1.311701  [ 6464/60000]\n",
            "loss: 1.147359  [12864/60000]\n",
            "loss: 1.260749  [19264/60000]\n",
            "loss: 1.135069  [25664/60000]\n",
            "loss: 1.163816  [32064/60000]\n",
            "loss: 1.181814  [38464/60000]\n",
            "loss: 1.115617  [44864/60000]\n",
            "loss: 1.152355  [51264/60000]\n",
            "loss: 1.072658  [57664/60000]\n",
            "Test Error: \n",
            " Accuracy: 65.0%, Avg loss: 1.091629 \n",
            "\n",
            "Epoch 6\n",
            "-------------------------------\n",
            "loss: 1.160095  [   64/60000]\n",
            "loss: 1.166276  [ 6464/60000]\n",
            "loss: 0.982067  [12864/60000]\n",
            "loss: 1.123898  [19264/60000]\n",
            "loss: 0.999962  [25664/60000]\n",
            "loss: 1.032588  [32064/60000]\n",
            "loss: 1.065275  [38464/60000]\n",
            "loss: 1.002650  [44864/60000]\n",
            "loss: 1.040640  [51264/60000]\n",
            "loss: 0.974576  [57664/60000]\n",
            "Test Error: \n",
            " Accuracy: 66.1%, Avg loss: 0.986571 \n",
            "\n",
            "Epoch 7\n",
            "-------------------------------\n",
            "loss: 1.042602  [   64/60000]\n",
            "loss: 1.071105  [ 6464/60000]\n",
            "loss: 0.867719  [12864/60000]\n",
            "loss: 1.030932  [19264/60000]\n",
            "loss: 0.914015  [25664/60000]\n",
            "loss: 0.939252  [32064/60000]\n",
            "loss: 0.988100  [38464/60000]\n",
            "loss: 0.928534  [44864/60000]\n",
            "loss: 0.962905  [51264/60000]\n",
            "loss: 0.908448  [57664/60000]\n",
            "Test Error: \n",
            " Accuracy: 67.3%, Avg loss: 0.913984 \n",
            "\n",
            "Epoch 8\n",
            "-------------------------------\n",
            "loss: 0.955301  [   64/60000]\n",
            "loss: 1.004375  [ 6464/60000]\n",
            "loss: 0.784841  [12864/60000]\n",
            "loss: 0.963564  [19264/60000]\n",
            "loss: 0.856012  [25664/60000]\n",
            "loss: 0.869952  [32064/60000]\n",
            "loss: 0.933537  [38464/60000]\n",
            "loss: 0.878356  [44864/60000]\n",
            "loss: 0.906701  [51264/60000]\n",
            "loss: 0.860599  [57664/60000]\n",
            "Test Error: \n",
            " Accuracy: 68.6%, Avg loss: 0.861008 \n",
            "\n",
            "Epoch 9\n",
            "-------------------------------\n",
            "loss: 0.887665  [   64/60000]\n",
            "loss: 0.953746  [ 6464/60000]\n",
            "loss: 0.722131  [12864/60000]\n",
            "loss: 0.912371  [19264/60000]\n",
            "loss: 0.814721  [25664/60000]\n",
            "loss: 0.817149  [32064/60000]\n",
            "loss: 0.892208  [38464/60000]\n",
            "loss: 0.843126  [44864/60000]\n",
            "loss: 0.864919  [51264/60000]\n",
            "loss: 0.823597  [57664/60000]\n",
            "Test Error: \n",
            " Accuracy: 69.9%, Avg loss: 0.820575 \n",
            "\n",
            "Epoch 10\n",
            "-------------------------------\n",
            "loss: 0.833379  [   64/60000]\n",
            "loss: 0.913043  [ 6464/60000]\n",
            "loss: 0.673275  [12864/60000]\n",
            "loss: 0.872369  [19264/60000]\n",
            "loss: 0.783162  [25664/60000]\n",
            "loss: 0.776245  [32064/60000]\n",
            "loss: 0.858729  [38464/60000]\n",
            "loss: 0.817205  [44864/60000]\n",
            "loss: 0.832913  [51264/60000]\n",
            "loss: 0.793791  [57664/60000]\n",
            "Test Error: \n",
            " Accuracy: 71.1%, Avg loss: 0.788465 \n",
            "\n",
            "Done!\n",
            "Saved PyTorch Model State to model.pth\n"
          ]
        }
      ],
      "source": [
        "epochs = 10\n",
        "for t in range(epochs):\n",
        "    print(f\"Epoch {t+1}\\n-------------------------------\")\n",
        "    train(train_dataloader, model, loss_fn, optimizer)\n",
        "    test(test_dataloader, model, loss_fn)\n",
        "print(\"Done!\")\n",
        "torch.save(model.state_dict(), \"model.pth\")\n",
        "print(\"Saved PyTorch Model State to model.pth\")"
      ]
    },
    {
      "cell_type": "markdown",
      "metadata": {
        "id": "DtwLdQB_gxmw"
      },
      "source": [
        "# Task 1\n",
        "Build graphic for the learning process."
      ]
    },
    {
      "cell_type": "markdown",
      "metadata": {
        "id": "uqni5LlXhD7B"
      },
      "source": [
        "1. Load/Save models"
      ]
    },
    {
      "cell_type": "code",
      "execution_count": 36,
      "metadata": {
        "id": "T2W555JshEsU"
      },
      "outputs": [],
      "source": [
        "def createModel():\n",
        "  # YOUR CODE START 2 lines\n",
        "  # create model\n",
        "  model =\n",
        "\n",
        "  return model\n",
        "  # YOUR CODE END"
      ]
    },
    {
      "cell_type": "code",
      "execution_count": 37,
      "metadata": {
        "id": "TzPeyAvyhLsN"
      },
      "outputs": [],
      "source": [
        "def checkClasses(model):\n",
        "  classes = [\n",
        "      \"T-shirt/top\",\n",
        "      \"Trouser\",\n",
        "      \"Pullover\",\n",
        "      \"Dress\",\n",
        "      \"Coat\",\n",
        "      \"Sandal\",\n",
        "      \"Shirt\",\n",
        "      \"Sneaker\",\n",
        "      \"Bag\",\n",
        "      \"Ankle boot\",\n",
        "  ]\n",
        "\n",
        "  model.eval()\n",
        "  # YOUR CODE START 4 lines\n",
        "  # load 1st class\n",
        "  x, y =\n",
        "  with torch.no_grad():\n",
        "      # predict\n",
        "      pred =\n",
        "      # return predicted, actual\n",
        "      predicted, actual =\n",
        "  return predicted, actual"
      ]
    },
    {
      "cell_type": "code",
      "execution_count": 38,
      "metadata": {
        "colab": {
          "base_uri": "https://localhost:8080/"
        },
        "id": "-h5sZ7xxZwoX",
        "outputId": "8c8c4943-8035-4ad8-94e2-d6415643391b"
      },
      "outputs": [
        {
          "output_type": "stream",
          "name": "stderr",
          "text": [
            ".\n",
            "----------------------------------------------------------------------\n",
            "Ran 1 test in 0.010s\n",
            "\n",
            "OK\n"
          ]
        },
        {
          "output_type": "stream",
          "name": "stdout",
          "text": [
            "Student Score: 5/15\n"
          ]
        }
      ],
      "source": [
        "import unittest\n",
        "import cv2\n",
        "import numpy as np\n",
        "\n",
        "class TestImageFilters(unittest.TestCase):\n",
        "\n",
        "    def test_model_creation(self):\n",
        "        # Загрузка изображения\n",
        "        model = createModel()\n",
        "        predicted, actual = checkClasses(model)\n",
        "        self.assertEqual(predicted, actual, \"Prediction wrong\")\n",
        "        global score\n",
        "        score=score+5\n",
        "\n",
        "# Run unit tests\n",
        "if __name__ == \"__main__\":\n",
        "    unittest.main(argv=['first-arg-is-ignored'], exit=False)\n",
        "    print(f\"Student Score: {score}/{max_score}\")"
      ]
    },
    {
      "cell_type": "code",
      "execution_count": 39,
      "metadata": {
        "colab": {
          "base_uri": "https://localhost:8080/"
        },
        "id": "QGzYB4hH8v_z",
        "outputId": "a1c25817-6999-49b3-d283-0d6d380171a0"
      },
      "outputs": [
        {
          "output_type": "stream",
          "name": "stdout",
          "text": [
            "Predicted: \"Ankle boot\", Actual: \"Ankle boot\"\n"
          ]
        }
      ],
      "source": [
        "model = createModel()\n",
        "predicted, actual = checkClasses(model)\n",
        "print(f'Predicted: \"{predicted}\", Actual: \"{actual}\"')"
      ]
    },
    {
      "cell_type": "markdown",
      "metadata": {
        "id": "kQD5KIm5blAF"
      },
      "source": [
        "# Task 2. Improve training"
      ]
    },
    {
      "cell_type": "code",
      "execution_count": 40,
      "metadata": {
        "id": "gamvSRTcboH0"
      },
      "outputs": [],
      "source": [
        "# `YOUR CODE HERE, Improve model to get over 80% accuracy\n",
        "def improveModel():\n",
        "  epochs = 10\n",
        "  global device\n",
        "\n",
        "  for t in range(epochs):\n",
        "      print(f\"Epoch {t+1}\\n-------------------------------\")\n",
        "      train(train_dataloader, model, loss_fn, optimizer)\n",
        "      size = len(train_dataloader.dataset)\n",
        "      model.train()\n",
        "      for batch, (X, y) in enumerate(train_dataloader):\n",
        "          X, y = X.to(device), y.to(device)\n",
        "\n",
        "          # Compute prediction error\n",
        "          pred = model(X)\n",
        "          loss = loss_fn(pred, y)\n",
        "\n",
        "          # Backpropagation\n",
        "          optimizer.zero_grad()\n",
        "          loss.backward()\n",
        "          optimizer.step()\n",
        "\n",
        "          if batch % 100 == 0:\n",
        "              loss, current = loss.item(), (batch + 1) * len(X)\n",
        "              print(f\"loss: {loss:>7f}  [{current:>5d}/{size:>5d}]\")\n",
        "      acc, loss = test(test_dataloader, model, loss_fn)\n",
        "  return acc, loss"
      ]
    },
    {
      "cell_type": "code",
      "execution_count": 41,
      "metadata": {
        "colab": {
          "base_uri": "https://localhost:8080/"
        },
        "id": "pZr5tBhkciK7",
        "outputId": "8067030a-738f-49a5-bb20-2c51dabf5750"
      },
      "outputs": [
        {
          "output_type": "stream",
          "name": "stderr",
          "text": [
            "E\n",
            "======================================================================\n",
            "ERROR: test_model_improve (__main__.TestImageFilters.test_model_improve)\n",
            "----------------------------------------------------------------------\n",
            "Traceback (most recent call last):\n",
            "  File \"<ipython-input-41-90197d78d99a>\", line 8, in test_model_improve\n",
            "    acc, loss = improveModel()\n",
            "                ^^^^^^^^^^^^^^\n",
            "  File \"<ipython-input-40-bcca0ae635a9>\", line 8, in improveModel\n",
            "    train(train_dataloader, model, loss_fn, optimizer)\n",
            "  File \"<ipython-input-33-f5c3e8696046>\", line 8, in train\n",
            "    pred = model(X)\n",
            "           ^^^^^^^^\n",
            "  File \"/usr/local/lib/python3.11/dist-packages/torch/nn/modules/module.py\", line 1739, in _wrapped_call_impl\n",
            "    return self._call_impl(*args, **kwargs)\n",
            "           ^^^^^^^^^^^^^^^^^^^^^^^^^^^^^^^^\n",
            "  File \"/usr/local/lib/python3.11/dist-packages/torch/nn/modules/module.py\", line 1750, in _call_impl\n",
            "    return forward_call(*args, **kwargs)\n",
            "           ^^^^^^^^^^^^^^^^^^^^^^^^^^^^^\n",
            "  File \"<ipython-input-31-2ae6659f9425>\", line 21, in forward\n",
            "    logits = self.linear_relu_stack(x)\n",
            "             ^^^^^^^^^^^^^^^^^^^^^^^^^\n",
            "  File \"/usr/local/lib/python3.11/dist-packages/torch/nn/modules/module.py\", line 1739, in _wrapped_call_impl\n",
            "    return self._call_impl(*args, **kwargs)\n",
            "           ^^^^^^^^^^^^^^^^^^^^^^^^^^^^^^^^\n",
            "  File \"/usr/local/lib/python3.11/dist-packages/torch/nn/modules/module.py\", line 1750, in _call_impl\n",
            "    return forward_call(*args, **kwargs)\n",
            "           ^^^^^^^^^^^^^^^^^^^^^^^^^^^^^\n",
            "  File \"/usr/local/lib/python3.11/dist-packages/torch/nn/modules/container.py\", line 250, in forward\n",
            "    input = module(input)\n",
            "            ^^^^^^^^^^^^^\n",
            "  File \"/usr/local/lib/python3.11/dist-packages/torch/nn/modules/module.py\", line 1739, in _wrapped_call_impl\n",
            "    return self._call_impl(*args, **kwargs)\n",
            "           ^^^^^^^^^^^^^^^^^^^^^^^^^^^^^^^^\n",
            "  File \"/usr/local/lib/python3.11/dist-packages/torch/nn/modules/module.py\", line 1750, in _call_impl\n",
            "    return forward_call(*args, **kwargs)\n",
            "           ^^^^^^^^^^^^^^^^^^^^^^^^^^^^^\n",
            "  File \"/usr/local/lib/python3.11/dist-packages/torch/nn/modules/linear.py\", line 125, in forward\n",
            "    return F.linear(input, self.weight, self.bias)\n",
            "           ^^^^^^^^^^^^^^^^^^^^^^^^^^^^^^^^^^^^^^^\n",
            "RuntimeError: Expected all tensors to be on the same device, but found at least two devices, cpu and cuda:0! (when checking argument for argument mat1 in method wrapper_CUDA_addmm)\n",
            "\n",
            "----------------------------------------------------------------------\n",
            "Ran 1 test in 0.008s\n",
            "\n",
            "FAILED (errors=1)\n"
          ]
        },
        {
          "output_type": "stream",
          "name": "stdout",
          "text": [
            "Epoch 1\n",
            "-------------------------------\n",
            "Student Score: 5/15\n"
          ]
        }
      ],
      "source": [
        "import unittest\n",
        "import cv2\n",
        "import numpy as np\n",
        "\n",
        "class TestImageFilters(unittest.TestCase):\n",
        "\n",
        "    def test_model_improve(self):\n",
        "        acc, loss = improveModel()\n",
        "        self.assertGreaterEqual(acc, 80, \"Model is not accurate\")\n",
        "        global score\n",
        "        score=score+10\n",
        "\n",
        "# Run unit tests\n",
        "if __name__ == \"__main__\":\n",
        "    unittest.main(argv=['first-arg-is-ignored'], exit=False)\n",
        "    print(f\"Student Score: {score}/{max_score}\")"
      ]
    },
    {
      "cell_type": "code",
      "execution_count": 42,
      "metadata": {
        "id": "dyN4YekF9I1T",
        "colab": {
          "base_uri": "https://localhost:8080/"
        },
        "outputId": "5b73ceb2-2b24-4c17-cda5-890c1a410c60"
      },
      "outputs": [
        {
          "output_type": "stream",
          "name": "stdout",
          "text": [
            "Test completed! ELON MUSK, your score is 5/15.\n"
          ]
        }
      ],
      "source": [
        "# DO NOT MODIFY  !!!\n",
        "# DO NOT EXECUTE !!!\n",
        "# Save the result to Google Sheets\n",
        "worksheet.append_row([student_name,group_id, task_id, score])\n",
        "\n",
        "print(f\"Test completed! {student_name}, your score is {score}/{max_score}.\")"
      ]
    }
  ],
  "metadata": {
    "accelerator": "GPU",
    "colab": {
      "gpuType": "L4",
      "machine_shape": "hm",
      "provenance": [],
      "include_colab_link": true
    },
    "kernelspec": {
      "display_name": "Python 3",
      "name": "python3"
    },
    "language_info": {
      "name": "python"
    }
  },
  "nbformat": 4,
  "nbformat_minor": 0
}
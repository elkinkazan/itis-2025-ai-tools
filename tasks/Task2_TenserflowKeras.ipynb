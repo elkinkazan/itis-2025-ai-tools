{
  "cells": [
    {
      "cell_type": "markdown",
      "metadata": {
        "id": "view-in-github",
        "colab_type": "text"
      },
      "source": [
        "<a href=\"https://colab.research.google.com/github/alexander-toschev/ai-tools/blob/main/tasks/Task2_TenserflowKeras.ipynb\" target=\"_parent\"><img src=\"https://colab.research.google.com/assets/colab-badge.svg\" alt=\"Open In Colab\"/></a>"
      ]
    },
    {
      "cell_type": "code",
      "source": [
        "# DO NOT MODIFY  !!!\n",
        "# DO NOT EXECUTE !!!\n",
        "!pip install --upgrade gspread pandas google-auth\n",
        "import pandas as pd\n",
        "import gspread\n",
        "from google.colab import auth\n",
        "from google.auth import default\n",
        "from IPython.display import display\n",
        "import random\n",
        "# Authenticate and create the PyDrive client.\n",
        "auth.authenticate_user()\n",
        "creds, _ = default()\n",
        "gc = gspread.authorize(creds)"
      ],
      "metadata": {
        "colab": {
          "base_uri": "https://localhost:8080/"
        },
        "id": "SqhoIz8hAKQ2",
        "outputId": "3fb04ca9-808d-4eb9-8a01-2da1f0bf01fc"
      },
      "id": "SqhoIz8hAKQ2",
      "execution_count": null,
      "outputs": [
        {
          "output_type": "stream",
          "name": "stdout",
          "text": [
            "Requirement already satisfied: gspread in /usr/local/lib/python3.11/dist-packages (6.2.0)\n",
            "Requirement already satisfied: pandas in /usr/local/lib/python3.11/dist-packages (2.2.2)\n",
            "Collecting pandas\n",
            "  Downloading pandas-2.2.3-cp311-cp311-manylinux_2_17_x86_64.manylinux2014_x86_64.whl.metadata (89 kB)\n",
            "\u001b[2K     \u001b[90m━━━━━━━━━━━━━━━━━━━━━━━━━━━━━━━━━━━━━━━━\u001b[0m \u001b[32m89.9/89.9 kB\u001b[0m \u001b[31m2.9 MB/s\u001b[0m eta \u001b[36m0:00:00\u001b[0m\n",
            "\u001b[?25hRequirement already satisfied: google-auth in /usr/local/lib/python3.11/dist-packages (2.38.0)\n",
            "Requirement already satisfied: google-auth-oauthlib>=0.4.1 in /usr/local/lib/python3.11/dist-packages (from gspread) (1.2.1)\n",
            "Requirement already satisfied: numpy>=1.23.2 in /usr/local/lib/python3.11/dist-packages (from pandas) (2.0.2)\n",
            "Requirement already satisfied: python-dateutil>=2.8.2 in /usr/local/lib/python3.11/dist-packages (from pandas) (2.8.2)\n",
            "Requirement already satisfied: pytz>=2020.1 in /usr/local/lib/python3.11/dist-packages (from pandas) (2025.2)\n",
            "Requirement already satisfied: tzdata>=2022.7 in /usr/local/lib/python3.11/dist-packages (from pandas) (2025.2)\n",
            "Requirement already satisfied: cachetools<6.0,>=2.0.0 in /usr/local/lib/python3.11/dist-packages (from google-auth) (5.5.2)\n",
            "Requirement already satisfied: pyasn1-modules>=0.2.1 in /usr/local/lib/python3.11/dist-packages (from google-auth) (0.4.2)\n",
            "Requirement already satisfied: rsa<5,>=3.1.4 in /usr/local/lib/python3.11/dist-packages (from google-auth) (4.9)\n",
            "Requirement already satisfied: requests-oauthlib>=0.7.0 in /usr/local/lib/python3.11/dist-packages (from google-auth-oauthlib>=0.4.1->gspread) (2.0.0)\n",
            "Requirement already satisfied: pyasn1<0.7.0,>=0.6.1 in /usr/local/lib/python3.11/dist-packages (from pyasn1-modules>=0.2.1->google-auth) (0.6.1)\n",
            "Requirement already satisfied: six>=1.5 in /usr/local/lib/python3.11/dist-packages (from python-dateutil>=2.8.2->pandas) (1.17.0)\n",
            "Requirement already satisfied: oauthlib>=3.0.0 in /usr/local/lib/python3.11/dist-packages (from requests-oauthlib>=0.7.0->google-auth-oauthlib>=0.4.1->gspread) (3.2.2)\n",
            "Requirement already satisfied: requests>=2.0.0 in /usr/local/lib/python3.11/dist-packages (from requests-oauthlib>=0.7.0->google-auth-oauthlib>=0.4.1->gspread) (2.32.3)\n",
            "Requirement already satisfied: charset-normalizer<4,>=2 in /usr/local/lib/python3.11/dist-packages (from requests>=2.0.0->requests-oauthlib>=0.7.0->google-auth-oauthlib>=0.4.1->gspread) (3.4.1)\n",
            "Requirement already satisfied: idna<4,>=2.5 in /usr/local/lib/python3.11/dist-packages (from requests>=2.0.0->requests-oauthlib>=0.7.0->google-auth-oauthlib>=0.4.1->gspread) (3.10)\n",
            "Requirement already satisfied: urllib3<3,>=1.21.1 in /usr/local/lib/python3.11/dist-packages (from requests>=2.0.0->requests-oauthlib>=0.7.0->google-auth-oauthlib>=0.4.1->gspread) (2.3.0)\n",
            "Requirement already satisfied: certifi>=2017.4.17 in /usr/local/lib/python3.11/dist-packages (from requests>=2.0.0->requests-oauthlib>=0.7.0->google-auth-oauthlib>=0.4.1->gspread) (2025.1.31)\n",
            "Downloading pandas-2.2.3-cp311-cp311-manylinux_2_17_x86_64.manylinux2014_x86_64.whl (13.1 MB)\n",
            "\u001b[2K   \u001b[90m━━━━━━━━━━━━━━━━━━━━━━━━━━━━━━━━━━━━━━━━\u001b[0m \u001b[32m13.1/13.1 MB\u001b[0m \u001b[31m89.0 MB/s\u001b[0m eta \u001b[36m0:00:00\u001b[0m\n",
            "\u001b[?25hInstalling collected packages: pandas\n",
            "  Attempting uninstall: pandas\n",
            "    Found existing installation: pandas 2.2.2\n",
            "    Uninstalling pandas-2.2.2:\n",
            "      Successfully uninstalled pandas-2.2.2\n",
            "\u001b[31mERROR: pip's dependency resolver does not currently take into account all the packages that are installed. This behaviour is the source of the following dependency conflicts.\n",
            "google-colab 1.0.0 requires pandas==2.2.2, but you have pandas 2.2.3 which is incompatible.\u001b[0m\u001b[31m\n",
            "\u001b[0mSuccessfully installed pandas-2.2.3\n"
          ]
        }
      ]
    },
    {
      "cell_type": "code",
      "source": [
        "\n",
        "# FILL THIS\n",
        "student_name = \"ELON MUSK\"\n",
        "group_id = \"11-101\""
      ],
      "metadata": {
        "id": "cppTCB4iALgr"
      },
      "id": "cppTCB4iALgr",
      "execution_count": null,
      "outputs": []
    },
    {
      "cell_type": "code",
      "source": [
        "# DO NOT MODIFY  !!!\n",
        "# DO NOT EXECUTE !!!\n",
        "SPREADSHEET_URL = \"https://docs.google.com/spreadsheets/d/1Kfxj2eDFl7xQnXw7Fpb9bwghc65o8xf--VpNxrdWHaY/edit?gid=0#gid=0\"\n",
        "sh = gc.open_by_url(SPREADSHEET_URL)\n",
        "worksheet = sh.sheet1\n",
        "\n",
        "# Ensure header row exists\n",
        "if not worksheet.get_all_values():\n",
        "    worksheet.append_row([\"Student Name\", \"Group\",\"TaskID\", \"Score\"])\n",
        "\n",
        "\n",
        "# MAIN NOTEBOOK GOES HERE\n",
        "task_id = \"Task2_KerasTenserflow\"\n",
        "score = 0\n",
        "max_score = 10"
      ],
      "metadata": {
        "id": "k_6adWQPAPpg"
      },
      "id": "k_6adWQPAPpg",
      "execution_count": null,
      "outputs": []
    },
    {
      "cell_type": "markdown",
      "id": "a4a86b0c",
      "metadata": {
        "id": "a4a86b0c"
      },
      "source": [
        "# 🤖 Практика по Keras и TensorFlow\n",
        "В этом ноутбуке вы реализуете и обучите нейросеть на основе `Keras`, используя `TensorFlow` как backend.\n",
        "Вы будете:\n",
        "- Загружать данные (MNIST)\n",
        "- Строить модель с `Sequential`\n",
        "- Дописывать функцию предсказания\n",
        "- Проходить автотесты"
      ]
    },
    {
      "cell_type": "code",
      "execution_count": null,
      "id": "3ee65ee0",
      "metadata": {
        "id": "3ee65ee0"
      },
      "outputs": [],
      "source": [
        "# 📦 Установка и импорт библиотек\n",
        "import tensorflow as tf\n",
        "from tensorflow.keras.models import Sequential\n",
        "from tensorflow.keras.layers import Dense, Flatten\n",
        "from tensorflow.keras.datasets import mnist\n",
        "from tensorflow.keras.utils import to_categorical"
      ]
    },
    {
      "cell_type": "code",
      "execution_count": null,
      "id": "4c2fc8e3",
      "metadata": {
        "id": "4c2fc8e3"
      },
      "outputs": [],
      "source": [
        "# 📥 Загрузка данных MNIST\n",
        "(X_train, y_train), (X_test, y_test) = mnist.load_data()\n",
        "X_train, X_test = X_train / 255.0, X_test / 255.0\n",
        "y_train_cat = to_categorical(y_train, 10)\n",
        "y_test_cat = to_categorical(y_test, 10)"
      ]
    },
    {
      "cell_type": "markdown",
      "id": "b72b9a1f",
      "metadata": {
        "id": "b72b9a1f"
      },
      "source": [
        "## 🧠 Задание: создать модель на Keras\n",
        "**Инструкция:** допишите функцию `create_model`, которая создает и возвращает модель `Sequential` с:\n",
        "- Flatten входом\n",
        "- Dense(128, relu)\n",
        "- Dense(10, softmax)"
      ]
    },
    {
      "cell_type": "code",
      "execution_count": null,
      "id": "a548afae",
      "metadata": {
        "id": "a548afae"
      },
      "outputs": [],
      "source": [
        "def create_model():\n",
        "    # YOUR CODE START\n",
        "    model = Sequential([\n",
        "\n",
        "    ])\n",
        "    model.compile(optimizer='adam', loss='categorical_crossentropy', metrics=['accuracy'])\n",
        "    return model\n",
        "    # YOUR CODE END"
      ]
    },
    {
      "cell_type": "markdown",
      "id": "0a40f593",
      "metadata": {
        "id": "0a40f593"
      },
      "source": [
        "## 🎯 Задание: реализовать предсказание и сравнение\n",
        "**Инструкция:** допишите `check_prediction`, которая:\n",
        "- Обучает модель на подмножестве данных\n",
        "- Делает предсказание на одном изображении\n",
        "- Возвращает: предсказанный класс и правильный ответ"
      ]
    },
    {
      "cell_type": "code",
      "execution_count": null,
      "id": "c2a41c9d",
      "metadata": {
        "id": "c2a41c9d"
      },
      "outputs": [],
      "source": [
        "def check_prediction(model):\n",
        "    # YOUR CODE START\n",
        "    # train model\n",
        "    model.fit\n",
        "    import numpy as np\n",
        "    sample = X_test[0:1]\n",
        "    pred = # predict model\n",
        "    predicted = int(np.argmax(pred))\n",
        "    actual = int(y_test[0])\n",
        "    return predicted, actual\n",
        "    # YOUR CODE END"
      ]
    },
    {
      "cell_type": "markdown",
      "id": "046a0d0b",
      "metadata": {
        "id": "046a0d0b"
      },
      "source": [
        "## 🚀 Дополнительное задание: сверточная нейросеть (CNN)\n",
        "**Инструкция:** допишите функцию `create_cnn_model`, которая должна содержать:\n",
        "- Сверточный слой `Conv2D`\n",
        "- MaxPooling\n",
        "- Dropout\n",
        "- Flatten\n",
        "- Dense\n",
        "- Dropout\n",
        "- Dense-выход\n",
        "\n",
        "Эта модель должна работать с форматом входа `(28, 28, 1)` — ч/б изображение."
      ]
    },
    {
      "cell_type": "code",
      "execution_count": null,
      "id": "5e6d3177",
      "metadata": {
        "id": "5e6d3177"
      },
      "outputs": [],
      "source": [
        "from tensorflow.keras.models import Sequential\n",
        "from tensorflow.keras.layers import Conv2D, MaxPooling2D, Dropout, Flatten, Dense\n",
        "\n",
        "def create_cnn_model():\n",
        "    model = Sequential([\n",
        "        # YOUR CODE START\n",
        "        # YOUR CODE END\n",
        "    ])\n",
        "    model.compile(optimizer='adam', loss='categorical_crossentropy', metrics=['accuracy'])\n",
        "    return model"
      ]
    },
    {
      "cell_type": "markdown",
      "id": "3861d71a",
      "metadata": {
        "id": "3861d71a"
      },
      "source": [
        "## 🧪 Проверка сверточной модели\n",
        "Создадим вход и обучим CNN на малом наборе данных для теста."
      ]
    },
    {
      "cell_type": "code",
      "execution_count": null,
      "id": "5ec2c10c",
      "metadata": {
        "id": "5ec2c10c"
      },
      "outputs": [],
      "source": [
        "def test_cnn_model():\n",
        "    # Подготовим данные для CNN (добавим канал)\n",
        "    X_train_cnn = X_train.reshape(-1, 28, 28, 1)\n",
        "    X_test_cnn = X_test.reshape(-1, 28, 28, 1)\n",
        "\n",
        "    model_cnn = create_cnn_model()\n",
        "    model_cnn.fit(X_train_cnn[:2000], y_train_cat[:2000], epochs=5, verbose=1, validation_split=0.1)\n",
        "    loss, acc = model_cnn.evaluate(X_test_cnn[:1000], y_test_cat[:1000], verbose=0)\n",
        "    print(\"✅ Accuracy на тесте:\", round(acc, 3))\n",
        "    return round(acc, 3)\n"
      ]
    },
    {
      "cell_type": "markdown",
      "id": "e0aae6e7",
      "metadata": {
        "id": "e0aae6e7"
      },
      "source": [
        "## ✅ Автотесты"
      ]
    },
    {
      "cell_type": "code",
      "execution_count": null,
      "id": "3073079f",
      "metadata": {
        "colab": {
          "base_uri": "https://localhost:8080/"
        },
        "id": "3073079f",
        "outputId": "e2bef8e6-3c27-4902-91e5-b9d7a2f4a0b7"
      },
      "outputs": [
        {
          "output_type": "stream",
          "name": "stdout",
          "text": [
            "Epoch 1/5\n"
          ]
        },
        {
          "output_type": "stream",
          "name": "stderr",
          "text": [
            "/usr/local/lib/python3.11/dist-packages/keras/src/layers/convolutional/base_conv.py:107: UserWarning: Do not pass an `input_shape`/`input_dim` argument to a layer. When using Sequential models, prefer using an `Input(shape)` object as the first layer in the model instead.\n",
            "  super().__init__(activity_regularizer=activity_regularizer, **kwargs)\n"
          ]
        },
        {
          "output_type": "stream",
          "name": "stdout",
          "text": [
            "\u001b[1m57/57\u001b[0m \u001b[32m━━━━━━━━━━━━━━━━━━━━\u001b[0m\u001b[37m\u001b[0m \u001b[1m4s\u001b[0m 37ms/step - accuracy: 0.4356 - loss: 1.6707 - val_accuracy: 0.8250 - val_loss: 0.4956\n",
            "Epoch 2/5\n",
            "\u001b[1m57/57\u001b[0m \u001b[32m━━━━━━━━━━━━━━━━━━━━\u001b[0m\u001b[37m\u001b[0m \u001b[1m4s\u001b[0m 66ms/step - accuracy: 0.8242 - loss: 0.5782 - val_accuracy: 0.9000 - val_loss: 0.2907\n",
            "Epoch 3/5\n",
            "\u001b[1m57/57\u001b[0m \u001b[32m━━━━━━━━━━━━━━━━━━━━\u001b[0m\u001b[37m\u001b[0m \u001b[1m3s\u001b[0m 32ms/step - accuracy: 0.8637 - loss: 0.4591 - val_accuracy: 0.9350 - val_loss: 0.2124\n",
            "Epoch 4/5\n",
            "\u001b[1m57/57\u001b[0m \u001b[32m━━━━━━━━━━━━━━━━━━━━\u001b[0m\u001b[37m\u001b[0m \u001b[1m2s\u001b[0m 23ms/step - accuracy: 0.9068 - loss: 0.3378 - val_accuracy: 0.9250 - val_loss: 0.1787\n",
            "Epoch 5/5\n",
            "\u001b[1m57/57\u001b[0m \u001b[32m━━━━━━━━━━━━━━━━━━━━\u001b[0m\u001b[37m\u001b[0m \u001b[1m1s\u001b[0m 22ms/step - accuracy: 0.9286 - loss: 0.2736 - val_accuracy: 0.9300 - val_loss: 0.1779\n"
          ]
        },
        {
          "output_type": "stream",
          "name": "stderr",
          "text": [
            "."
          ]
        },
        {
          "output_type": "stream",
          "name": "stdout",
          "text": [
            "✅ Accuracy на тесте: 0.919\n"
          ]
        },
        {
          "output_type": "stream",
          "name": "stderr",
          "text": [
            "/usr/local/lib/python3.11/dist-packages/keras/src/layers/reshaping/flatten.py:37: UserWarning: Do not pass an `input_shape`/`input_dim` argument to a layer. When using Sequential models, prefer using an `Input(shape)` object as the first layer in the model instead.\n",
            "  super().__init__(**kwargs)\n",
            ".\n",
            "----------------------------------------------------------------------\n",
            "Ran 2 tests in 17.885s\n",
            "\n",
            "OK\n"
          ]
        },
        {
          "output_type": "stream",
          "name": "stdout",
          "text": [
            "Student Score: 10/10\n"
          ]
        }
      ],
      "source": [
        "import unittest\n",
        "\n",
        "class TestKerasModel(unittest.TestCase):\n",
        "    def test_prediction(self):\n",
        "        model = create_model()\n",
        "        predicted, actual = check_prediction(model)\n",
        "        self.assertIsInstance(predicted, int)\n",
        "        self.assertIsInstance(actual, int)\n",
        "        self.assertEqual(predicted, actual)\n",
        "        global score\n",
        "        score += 5\n",
        "    def test_cnn(self):\n",
        "        accuracy = test_cnn_model()\n",
        "        self.assertGreaterEqual(accuracy, 0.89)\n",
        "        global score\n",
        "        score += 5\n",
        "\n",
        "# Run tests\n",
        "score = 0\n",
        "max_score = 10\n",
        "unittest.main(argv=['first-arg-is-ignored'], exit=False)\n",
        "print(f\"Student Score: {score}/{max_score}\")"
      ]
    },
    {
      "cell_type": "code",
      "source": [
        "\n",
        "# DO NOT MODIFY  !!!\n",
        "# DO NOT EXECUTE !!!\n",
        "# Save the result to Google Sheets\n",
        "from datetime import datetime\n",
        "\n",
        "# Get current date and time\n",
        "now = datetime.now()\n",
        "timestamp = now.strftime(\"%Y-%m-%d %H:%M:%S\")\n",
        "worksheet.append_row([student_name,group_id, task_id, score, timestamp])\n",
        "\n",
        "print(f\"Test completed! {student_name}, your score is {score}/{max_score}.\")"
      ],
      "metadata": {
        "colab": {
          "base_uri": "https://localhost:8080/"
        },
        "id": "TSMCICueAW1y",
        "outputId": "55c524f5-f85e-4573-bb21-63e018db75fa"
      },
      "id": "TSMCICueAW1y",
      "execution_count": null,
      "outputs": [
        {
          "output_type": "stream",
          "name": "stdout",
          "text": [
            "Test completed! ELON MUSK, your score is 10/10.\n"
          ]
        }
      ]
    }
  ],
  "metadata": {
    "colab": {
      "provenance": [],
      "include_colab_link": true
    },
    "language_info": {
      "name": "python"
    },
    "kernelspec": {
      "name": "python3",
      "display_name": "Python 3"
    }
  },
  "nbformat": 4,
  "nbformat_minor": 5
}
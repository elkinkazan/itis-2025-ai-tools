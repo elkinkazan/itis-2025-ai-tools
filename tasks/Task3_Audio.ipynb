{
  "cells": [
    {
      "cell_type": "markdown",
      "metadata": {
        "id": "view-in-github",
        "colab_type": "text"
      },
      "source": [
        "<a href=\"https://colab.research.google.com/github/alexander-toschev/ai-tools/blob/main/tasks/Task3_Audio.ipynb\" target=\"_parent\"><img src=\"https://colab.research.google.com/assets/colab-badge.svg\" alt=\"Open In Colab\"/></a>"
      ]
    },
    {
      "cell_type": "code",
      "source": [
        "# DO NOT MODIFY  !!!\n",
        "# DO NOT EXECUTE !!!\n",
        "!pip install --upgrade gspread pandas google-auth\n",
        "import pandas as pd\n",
        "import gspread\n",
        "from google.colab import auth\n",
        "from google.auth import default\n",
        "from IPython.display import display\n",
        "import random\n",
        "# Authenticate and create the PyDrive client.\n",
        "auth.authenticate_user()\n",
        "creds, _ = default()\n",
        "gc = gspread.authorize(creds)"
      ],
      "metadata": {
        "colab": {
          "base_uri": "https://localhost:8080/"
        },
        "id": "ZuoOgH4Fkn7W",
        "outputId": "9d49490d-e1ee-4731-cead-f60e103575d0"
      },
      "id": "ZuoOgH4Fkn7W",
      "execution_count": 6,
      "outputs": [
        {
          "output_type": "stream",
          "name": "stdout",
          "text": [
            "Requirement already satisfied: gspread in /usr/local/lib/python3.11/dist-packages (6.2.0)\n",
            "Requirement already satisfied: pandas in /usr/local/lib/python3.11/dist-packages (2.2.2)\n",
            "Collecting pandas\n",
            "  Downloading pandas-2.2.3-cp311-cp311-manylinux_2_17_x86_64.manylinux2014_x86_64.whl.metadata (89 kB)\n",
            "\u001b[2K     \u001b[90m━━━━━━━━━━━━━━━━━━━━━━━━━━━━━━━━━━━━━━━━\u001b[0m \u001b[32m89.9/89.9 kB\u001b[0m \u001b[31m2.6 MB/s\u001b[0m eta \u001b[36m0:00:00\u001b[0m\n",
            "\u001b[?25hRequirement already satisfied: google-auth in /usr/local/lib/python3.11/dist-packages (2.38.0)\n",
            "Requirement already satisfied: google-auth-oauthlib>=0.4.1 in /usr/local/lib/python3.11/dist-packages (from gspread) (1.2.1)\n",
            "Requirement already satisfied: numpy>=1.23.2 in /usr/local/lib/python3.11/dist-packages (from pandas) (2.0.2)\n",
            "Requirement already satisfied: python-dateutil>=2.8.2 in /usr/local/lib/python3.11/dist-packages (from pandas) (2.8.2)\n",
            "Requirement already satisfied: pytz>=2020.1 in /usr/local/lib/python3.11/dist-packages (from pandas) (2025.2)\n",
            "Requirement already satisfied: tzdata>=2022.7 in /usr/local/lib/python3.11/dist-packages (from pandas) (2025.2)\n",
            "Requirement already satisfied: cachetools<6.0,>=2.0.0 in /usr/local/lib/python3.11/dist-packages (from google-auth) (5.5.2)\n",
            "Requirement already satisfied: pyasn1-modules>=0.2.1 in /usr/local/lib/python3.11/dist-packages (from google-auth) (0.4.2)\n",
            "Requirement already satisfied: rsa<5,>=3.1.4 in /usr/local/lib/python3.11/dist-packages (from google-auth) (4.9)\n",
            "Requirement already satisfied: requests-oauthlib>=0.7.0 in /usr/local/lib/python3.11/dist-packages (from google-auth-oauthlib>=0.4.1->gspread) (2.0.0)\n",
            "Requirement already satisfied: pyasn1<0.7.0,>=0.6.1 in /usr/local/lib/python3.11/dist-packages (from pyasn1-modules>=0.2.1->google-auth) (0.6.1)\n",
            "Requirement already satisfied: six>=1.5 in /usr/local/lib/python3.11/dist-packages (from python-dateutil>=2.8.2->pandas) (1.17.0)\n",
            "Requirement already satisfied: oauthlib>=3.0.0 in /usr/local/lib/python3.11/dist-packages (from requests-oauthlib>=0.7.0->google-auth-oauthlib>=0.4.1->gspread) (3.2.2)\n",
            "Requirement already satisfied: requests>=2.0.0 in /usr/local/lib/python3.11/dist-packages (from requests-oauthlib>=0.7.0->google-auth-oauthlib>=0.4.1->gspread) (2.32.3)\n",
            "Requirement already satisfied: charset-normalizer<4,>=2 in /usr/local/lib/python3.11/dist-packages (from requests>=2.0.0->requests-oauthlib>=0.7.0->google-auth-oauthlib>=0.4.1->gspread) (3.4.1)\n",
            "Requirement already satisfied: idna<4,>=2.5 in /usr/local/lib/python3.11/dist-packages (from requests>=2.0.0->requests-oauthlib>=0.7.0->google-auth-oauthlib>=0.4.1->gspread) (3.10)\n",
            "Requirement already satisfied: urllib3<3,>=1.21.1 in /usr/local/lib/python3.11/dist-packages (from requests>=2.0.0->requests-oauthlib>=0.7.0->google-auth-oauthlib>=0.4.1->gspread) (2.3.0)\n",
            "Requirement already satisfied: certifi>=2017.4.17 in /usr/local/lib/python3.11/dist-packages (from requests>=2.0.0->requests-oauthlib>=0.7.0->google-auth-oauthlib>=0.4.1->gspread) (2025.1.31)\n",
            "Downloading pandas-2.2.3-cp311-cp311-manylinux_2_17_x86_64.manylinux2014_x86_64.whl (13.1 MB)\n",
            "\u001b[2K   \u001b[90m━━━━━━━━━━━━━━━━━━━━━━━━━━━━━━━━━━━━━━━━\u001b[0m \u001b[32m13.1/13.1 MB\u001b[0m \u001b[31m67.1 MB/s\u001b[0m eta \u001b[36m0:00:00\u001b[0m\n",
            "\u001b[?25hInstalling collected packages: pandas\n",
            "  Attempting uninstall: pandas\n",
            "    Found existing installation: pandas 2.2.2\n",
            "    Uninstalling pandas-2.2.2:\n",
            "      Successfully uninstalled pandas-2.2.2\n",
            "\u001b[31mERROR: pip's dependency resolver does not currently take into account all the packages that are installed. This behaviour is the source of the following dependency conflicts.\n",
            "google-colab 1.0.0 requires pandas==2.2.2, but you have pandas 2.2.3 which is incompatible.\u001b[0m\u001b[31m\n",
            "\u001b[0mSuccessfully installed pandas-2.2.3\n"
          ]
        }
      ]
    },
    {
      "cell_type": "code",
      "source": [
        "# FILL THIS\n",
        "student_name = \"ELON MUSK\"\n",
        "group_id = \"11-101\""
      ],
      "metadata": {
        "id": "NJ0OvZnJkppb"
      },
      "id": "NJ0OvZnJkppb",
      "execution_count": 7,
      "outputs": []
    },
    {
      "cell_type": "code",
      "source": [
        "# DO NOT MODIFY  !!!\n",
        "# DO NOT EXECUTE !!!\n",
        "SPREADSHEET_URL = \"https://docs.google.com/spreadsheets/d/1Kfxj2eDFl7xQnXw7Fpb9bwghc65o8xf--VpNxrdWHaY/edit?gid=0#gid=0\"\n",
        "sh = gc.open_by_url(SPREADSHEET_URL)\n",
        "worksheet = sh.sheet1\n",
        "\n",
        "# Ensure header row exists\n",
        "if not worksheet.get_all_values():\n",
        "    worksheet.append_row([\"Student Name\", \"Group\",\"TaskID\", \"Score\"])"
      ],
      "metadata": {
        "id": "XrDK1SfhktvU"
      },
      "id": "XrDK1SfhktvU",
      "execution_count": 8,
      "outputs": []
    },
    {
      "cell_type": "code",
      "source": [
        "# MAIN NOTEBOOK GOES HERE\n",
        "task_id = \"Task3_Audio\"\n",
        "score = 0\n",
        "max_score = 15"
      ],
      "metadata": {
        "id": "vUDdTWAukx2A"
      },
      "id": "vUDdTWAukx2A",
      "execution_count": 9,
      "outputs": []
    },
    {
      "cell_type": "markdown",
      "source": [],
      "metadata": {
        "id": "7ANtfGQ7kose"
      },
      "id": "7ANtfGQ7kose"
    },
    {
      "cell_type": "markdown",
      "id": "0d29bdcc",
      "metadata": {
        "id": "0d29bdcc"
      },
      "source": [
        "# 🎧 Практика с задачами и автотестами внутри кода\n",
        "Выполни недостающие части функций и проверь результат с помощью `unittest`.\n"
      ]
    },
    {
      "cell_type": "code",
      "execution_count": 10,
      "id": "c9efa735",
      "metadata": {
        "id": "c9efa735"
      },
      "outputs": [],
      "source": [
        "# 📦 Установка необходимых библиотек\n",
        "!pip install librosa soundfile torch --quiet"
      ]
    },
    {
      "cell_type": "code",
      "execution_count": 11,
      "id": "49b141a4",
      "metadata": {
        "id": "49b141a4"
      },
      "outputs": [],
      "source": [
        "# 📥 Загрузка и обработка аудиофайла\n",
        "import librosa\n",
        "import numpy as np\n",
        "y, sr = librosa.load(librosa.ex('trumpet'))\n",
        "mfcc = librosa.feature.mfcc(y=y, sr=sr, n_mfcc=13)\n",
        "\n",
        "# Формируем обучающие сегменты\n",
        "X = []\n",
        "segment_size = 10\n",
        "for i in range(mfcc.shape[1] - segment_size):\n",
        "    X.append(mfcc[:, i:i+segment_size])\n",
        "X = np.array(X, dtype=np.float32)\n",
        "X = np.expand_dims(X, axis=1)\n",
        "y_train = np.zeros(len(X), dtype=np.float32)"
      ]
    },
    {
      "cell_type": "markdown",
      "id": "82131b81",
      "metadata": {
        "id": "82131b81"
      },
      "source": [
        "## 🧠 Задание 1: допиши модель\n",
        "Реализуй функцию `createModel`, возвращающую простую сверточную модель на `torch`."
      ]
    },
    {
      "cell_type": "code",
      "execution_count": 12,
      "id": "9f5302f7",
      "metadata": {
        "id": "9f5302f7"
      },
      "outputs": [],
      "source": [
        "import torch\n",
        "import torch.nn as nn\n",
        "\n",
        "def createModel():\n",
        "    model = nn.Sequential(\n",
        "        # Create sequntial model Conv2d ReLU, Flatten, Linear Sigmoid\n",
        "        # YOUR CODE STARTS HERE 5 lines\n",
        "        nn. , #kernel 3\n",
        "        nn. ,\n",
        "        nn. ,\n",
        "        nn. , # features = 8 * 13 * segment_size\n",
        "        nn.\n",
        "    )\n",
        "    return model"
      ]
    },
    {
      "cell_type": "markdown",
      "id": "bdfe2935",
      "metadata": {
        "id": "bdfe2935"
      },
      "source": [
        "## 🧪 Задание 2: реализуй функцию оценки модели `checkModel`\n",
        "Функция должна возвращать точность модели на тренировочных данных."
      ]
    },
    {
      "cell_type": "code",
      "execution_count": 13,
      "id": "a8c41991",
      "metadata": {
        "id": "a8c41991"
      },
      "outputs": [],
      "source": [
        "def checkModel(model, X, y):\n",
        "    model.eval()\n",
        "    with torch.no_grad():\n",
        "        # YOUR CODE STARTS HERE\n",
        "        # 5 lines\n",
        "        X_tensor =\n",
        "        y_tensor =\n",
        "        pred =\n",
        "        predicted = (pred > 0.5).float()\n",
        "        correct =\n",
        "        accuracy = correct / len(y_tensor)\n",
        "        # YOUR CODE ENDS HERE\n",
        "    return accuracy"
      ]
    },
    {
      "cell_type": "markdown",
      "id": "20a97c15",
      "metadata": {
        "id": "20a97c15"
      },
      "source": [
        "## ✅ Автотесты для задач выше"
      ]
    },
    {
      "cell_type": "code",
      "execution_count": 14,
      "id": "2f6129e0",
      "metadata": {
        "colab": {
          "base_uri": "https://localhost:8080/"
        },
        "id": "2f6129e0",
        "outputId": "ed122dc3-6364-437c-d7b3-4dae0883c4a5"
      },
      "outputs": [
        {
          "output_type": "stream",
          "name": "stderr",
          "text": [
            ".\n",
            "----------------------------------------------------------------------\n",
            "Ran 1 test in 0.015s\n",
            "\n",
            "OK\n"
          ]
        },
        {
          "output_type": "stream",
          "name": "stdout",
          "text": [
            "Итоговый балл: 10/10\n"
          ]
        }
      ],
      "source": [
        "import unittest\n",
        "\n",
        "class TestAudioModel(unittest.TestCase):\n",
        "    def test_model_check(self):\n",
        "        model = createModel()\n",
        "        X_tensor = torch.tensor(X)\n",
        "        y_tensor = torch.tensor(y_train)\n",
        "        pred = model(X_tensor)\n",
        "        global score\n",
        "        self.assertEqual(pred.shape[0], len(y_train))\n",
        "        score += 5\n",
        "        acc = checkModel(model, X, y_train)\n",
        "        self.assertTrue(0.0 <= acc <= 1.0)\n",
        "        score += 5\n",
        "\n",
        "\n",
        "\n",
        "# Запуск тестов и подсчет баллов\n",
        "score = 0\n",
        "max_score = 10\n",
        "unittest.main(argv=['first-arg-is-ignored'], exit=False)\n",
        "print(f\"Итоговый балл: {score}/{max_score}\")"
      ]
    },
    {
      "cell_type": "code",
      "source": [
        "\n",
        "# DO NOT MODIFY  !!!\n",
        "# DO NOT EXECUTE !!!\n",
        "# Save the result to Google Sheets\n",
        "worksheet.append_row([student_name,group_id, task_id, score])\n",
        "\n",
        "print(f\"Test completed! {student_name}, your score is {score}/{max_score}.\")"
      ],
      "metadata": {
        "colab": {
          "base_uri": "https://localhost:8080/"
        },
        "id": "6stKkaxek5CL",
        "outputId": "f19f33cb-347e-4b90-9178-262353bda101"
      },
      "id": "6stKkaxek5CL",
      "execution_count": 15,
      "outputs": [
        {
          "output_type": "stream",
          "name": "stdout",
          "text": [
            "Test completed! ELON MUSK, your score is 10/10.\n"
          ]
        }
      ]
    }
  ],
  "metadata": {
    "colab": {
      "provenance": [],
      "include_colab_link": true
    },
    "language_info": {
      "name": "python"
    },
    "kernelspec": {
      "name": "python3",
      "display_name": "Python 3"
    }
  },
  "nbformat": 4,
  "nbformat_minor": 5
}
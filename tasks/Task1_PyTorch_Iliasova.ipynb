{
  "cells": [
    {
      "cell_type": "markdown",
      "metadata": {
        "id": "view-in-github",
        "colab_type": "text"
      },
      "source": [
        "<a href=\"https://colab.research.google.com/github/elkinkazan/itis-2025-ai-tools/blob/main/tasks/Task1_PyTorch_Iliasova.ipynb\" target=\"_parent\"><img src=\"https://colab.research.google.com/assets/colab-badge.svg\" alt=\"Open In Colab\"/></a>"
      ]
    },
    {
      "cell_type": "code",
      "execution_count": null,
      "metadata": {
        "colab": {
          "base_uri": "https://localhost:8080/"
        },
        "id": "464jOV188Eu1",
        "outputId": "dccbe029-abbd-4125-a93b-31bdc93e89be"
      },
      "outputs": [
        {
          "output_type": "stream",
          "name": "stdout",
          "text": [
            "Requirement already satisfied: gspread in /usr/local/lib/python3.11/dist-packages (6.2.0)\n",
            "Requirement already satisfied: pandas in /usr/local/lib/python3.11/dist-packages (2.2.3)\n",
            "Requirement already satisfied: google-auth in /usr/local/lib/python3.11/dist-packages (2.38.0)\n",
            "Requirement already satisfied: google-auth-oauthlib>=0.4.1 in /usr/local/lib/python3.11/dist-packages (from gspread) (1.2.1)\n",
            "Requirement already satisfied: numpy>=1.23.2 in /usr/local/lib/python3.11/dist-packages (from pandas) (2.0.2)\n",
            "Requirement already satisfied: python-dateutil>=2.8.2 in /usr/local/lib/python3.11/dist-packages (from pandas) (2.8.2)\n",
            "Requirement already satisfied: pytz>=2020.1 in /usr/local/lib/python3.11/dist-packages (from pandas) (2025.2)\n",
            "Requirement already satisfied: tzdata>=2022.7 in /usr/local/lib/python3.11/dist-packages (from pandas) (2025.2)\n",
            "Requirement already satisfied: cachetools<6.0,>=2.0.0 in /usr/local/lib/python3.11/dist-packages (from google-auth) (5.5.2)\n",
            "Requirement already satisfied: pyasn1-modules>=0.2.1 in /usr/local/lib/python3.11/dist-packages (from google-auth) (0.4.2)\n",
            "Requirement already satisfied: rsa<5,>=3.1.4 in /usr/local/lib/python3.11/dist-packages (from google-auth) (4.9)\n",
            "Requirement already satisfied: requests-oauthlib>=0.7.0 in /usr/local/lib/python3.11/dist-packages (from google-auth-oauthlib>=0.4.1->gspread) (2.0.0)\n",
            "Requirement already satisfied: pyasn1<0.7.0,>=0.6.1 in /usr/local/lib/python3.11/dist-packages (from pyasn1-modules>=0.2.1->google-auth) (0.6.1)\n",
            "Requirement already satisfied: six>=1.5 in /usr/local/lib/python3.11/dist-packages (from python-dateutil>=2.8.2->pandas) (1.17.0)\n",
            "Requirement already satisfied: oauthlib>=3.0.0 in /usr/local/lib/python3.11/dist-packages (from requests-oauthlib>=0.7.0->google-auth-oauthlib>=0.4.1->gspread) (3.2.2)\n",
            "Requirement already satisfied: requests>=2.0.0 in /usr/local/lib/python3.11/dist-packages (from requests-oauthlib>=0.7.0->google-auth-oauthlib>=0.4.1->gspread) (2.32.3)\n",
            "Requirement already satisfied: charset-normalizer<4,>=2 in /usr/local/lib/python3.11/dist-packages (from requests>=2.0.0->requests-oauthlib>=0.7.0->google-auth-oauthlib>=0.4.1->gspread) (3.4.1)\n",
            "Requirement already satisfied: idna<4,>=2.5 in /usr/local/lib/python3.11/dist-packages (from requests>=2.0.0->requests-oauthlib>=0.7.0->google-auth-oauthlib>=0.4.1->gspread) (3.10)\n",
            "Requirement already satisfied: urllib3<3,>=1.21.1 in /usr/local/lib/python3.11/dist-packages (from requests>=2.0.0->requests-oauthlib>=0.7.0->google-auth-oauthlib>=0.4.1->gspread) (2.3.0)\n",
            "Requirement already satisfied: certifi>=2017.4.17 in /usr/local/lib/python3.11/dist-packages (from requests>=2.0.0->requests-oauthlib>=0.7.0->google-auth-oauthlib>=0.4.1->gspread) (2025.1.31)\n"
          ]
        }
      ],
      "source": [
        "# DO NOT MODIFY  !!!\n",
        "# DO NOT EXECUTE !!!\n",
        "!pip install --upgrade gspread pandas google-auth\n",
        "import pandas as pd\n",
        "import gspread\n",
        "from google.colab import auth\n",
        "from google.auth import default\n",
        "from IPython.display import display\n",
        "import random\n",
        "# Authenticate and create the PyDrive client.\n",
        "auth.authenticate_user()\n",
        "creds, _ = default()\n",
        "gc = gspread.authorize(creds)\n",
        "\n"
      ]
    },
    {
      "cell_type": "code",
      "execution_count": 24,
      "metadata": {
        "id": "CILcf5ys8XZ-"
      },
      "outputs": [],
      "source": [
        "# FILL THIS\n",
        "student_name = \"ELVIRA ILIASOVA\"\n",
        "group_id = \"11-451\"\n"
      ]
    },
    {
      "cell_type": "code",
      "execution_count": null,
      "metadata": {
        "id": "deJzxEGB9cqv"
      },
      "outputs": [],
      "source": [
        "# DO NOT MODIFY  !!!\n",
        "# DO NOT EXECUTE !!!\n",
        "SPREADSHEET_URL = \"https://docs.google.com/spreadsheets/d/1Kfxj2eDFl7xQnXw7Fpb9bwghc65o8xf--VpNxrdWHaY/edit?gid=0#gid=0\"\n",
        "sh = gc.open_by_url(SPREADSHEET_URL)\n",
        "worksheet = sh.sheet1\n",
        "\n",
        "# Ensure header row exists\n",
        "if not worksheet.get_all_values():\n",
        "    worksheet.append_row([\"Student Name\", \"Group\",\"TaskID\", \"Score\"])\n"
      ]
    },
    {
      "cell_type": "code",
      "execution_count": 25,
      "metadata": {
        "id": "Q71764Rh9Q50"
      },
      "outputs": [],
      "source": [
        "# MAIN NOTEBOOK GOES HERE\n",
        "task_id = \"Task1_PyTorch\"\n",
        "score = 0\n",
        "max_score = 15"
      ]
    },
    {
      "cell_type": "code",
      "execution_count": 26,
      "metadata": {
        "id": "asV6UtR3fgdU"
      },
      "outputs": [],
      "source": [
        "import torch\n",
        "from torch import nn\n",
        "from torch.utils.data import DataLoader\n",
        "from torchvision import datasets\n",
        "from torchvision.transforms import ToTensor"
      ]
    },
    {
      "cell_type": "code",
      "execution_count": 27,
      "metadata": {
        "id": "eGHD6QQMgD30"
      },
      "outputs": [],
      "source": [
        "# Download training data from open datasets.\n",
        "training_data = datasets.FashionMNIST(\n",
        "    root=\"data\",\n",
        "    train=True,\n",
        "    download=True,\n",
        "    transform=ToTensor(),\n",
        ")\n",
        "\n",
        "# Download test data from open datasets.\n",
        "test_data = datasets.FashionMNIST(\n",
        "    root=\"data\",\n",
        "    train=False,\n",
        "    download=True,\n",
        "    transform=ToTensor(),\n",
        ")\n"
      ]
    },
    {
      "cell_type": "code",
      "execution_count": 29,
      "metadata": {
        "colab": {
          "base_uri": "https://localhost:8080/"
        },
        "id": "y70pAAt5gKxQ",
        "outputId": "c3bbf5f4-d6de-4d46-eb0a-7e5a0478bb41"
      },
      "outputs": [
        {
          "output_type": "stream",
          "name": "stdout",
          "text": [
            "Shape of X [N, C, H, W]: torch.Size([64, 1, 28, 28])\n",
            "Shape of y: torch.Size([64]) torch.int64\n"
          ]
        }
      ],
      "source": [
        "batch_size = 64\n",
        "\n",
        "# Create data loaders.\n",
        "train_dataloader = DataLoader(training_data, batch_size=batch_size)\n",
        "test_dataloader = DataLoader(test_data, batch_size=batch_size)\n",
        "\n",
        "for X, y in test_dataloader:\n",
        "    print(f\"Shape of X [N, C, H, W]: {X.shape}\")\n",
        "    print(f\"Shape of y: {y.shape} {y.dtype}\")\n",
        "    break"
      ]
    },
    {
      "cell_type": "markdown",
      "metadata": {
        "id": "7GWlIYRhgPSR"
      },
      "source": [
        "# Modelling"
      ]
    },
    {
      "cell_type": "code",
      "execution_count": 31,
      "metadata": {
        "colab": {
          "base_uri": "https://localhost:8080/"
        },
        "id": "bdT5HW0mgOp7",
        "outputId": "ceff2d08-e3a2-4d25-8f87-b131a880a2a1"
      },
      "outputs": [
        {
          "output_type": "stream",
          "name": "stdout",
          "text": [
            "Using cuda device\n",
            "NeuralNetwork(\n",
            "  (flatten): Flatten(start_dim=1, end_dim=-1)\n",
            "  (linear_relu_stack): Sequential(\n",
            "    (0): Linear(in_features=784, out_features=512, bias=True)\n",
            "    (1): ReLU()\n",
            "    (2): Linear(in_features=512, out_features=512, bias=True)\n",
            "    (3): ReLU()\n",
            "    (4): Linear(in_features=512, out_features=10, bias=True)\n",
            "  )\n",
            ")\n"
          ]
        }
      ],
      "source": [
        "# mps for Mac\n",
        "global device\n",
        "device = \"cuda\"\n",
        "print(f\"Using {device} device\")\n",
        "\n",
        "# Define model\n",
        "class NeuralNetwork(nn.Module):\n",
        "    def __init__(self):\n",
        "        super().__init__()\n",
        "        self.flatten = nn.Flatten()\n",
        "        self.linear_relu_stack = nn.Sequential(\n",
        "            nn.Linear(28*28, 512),\n",
        "            nn.ReLU(),\n",
        "            nn.Linear(512, 512),\n",
        "            nn.ReLU(),\n",
        "            nn.Linear(512, 10)\n",
        "        )\n",
        "\n",
        "    def forward(self, x):\n",
        "        x = self.flatten(x)\n",
        "        logits = self.linear_relu_stack(x)\n",
        "        return logits\n",
        "\n",
        "model = NeuralNetwork().to(device)\n",
        "print(model)"
      ]
    },
    {
      "cell_type": "markdown",
      "metadata": {
        "id": "aObCPexZgbPt"
      },
      "source": [
        "To train a model, we need a loss function and an optimizer."
      ]
    },
    {
      "cell_type": "code",
      "execution_count": 35,
      "metadata": {
        "id": "nMKZ3siPge4b"
      },
      "outputs": [],
      "source": [
        "loss_fn = nn.CrossEntropyLoss()\n",
        "optimizer = torch.optim.SGD(model.parameters(), lr=1e-3)"
      ]
    },
    {
      "cell_type": "markdown",
      "metadata": {
        "id": "SYbCAlVdghIC"
      },
      "source": [
        "In a single training loop, the model makes predictions on the training dataset (fed to it in batches), and backpropagates the prediction error to adjust the model’s parameters."
      ]
    },
    {
      "cell_type": "code",
      "execution_count": 36,
      "metadata": {
        "id": "jfd9Fn8Bghmg"
      },
      "outputs": [],
      "source": [
        "def train(dataloader, model, loss_fn, optimizer):\n",
        "    size = len(dataloader.dataset)\n",
        "    model.train()\n",
        "    for batch, (X, y) in enumerate(dataloader):\n",
        "        X, y = X.to(device), y.to(device)\n",
        "\n",
        "        # Compute prediction error\n",
        "        pred = model(X)\n",
        "        loss = loss_fn(pred, y)\n",
        "\n",
        "        # Backpropagation\n",
        "        optimizer.zero_grad()\n",
        "        loss.backward()\n",
        "        optimizer.step()\n",
        "\n",
        "        if batch % 100 == 0:\n",
        "            loss, current = loss.item(), (batch + 1) * len(X)\n",
        "            print(f\"loss: {loss:>7f}  [{current:>5d}/{size:>5d}]\")"
      ]
    },
    {
      "cell_type": "code",
      "execution_count": 37,
      "metadata": {
        "id": "qGEj-cMtgppi"
      },
      "outputs": [],
      "source": [
        "def test(dataloader, model, loss_fn):\n",
        "    size = len(dataloader.dataset)\n",
        "    num_batches = len(dataloader)\n",
        "    model.eval()\n",
        "    test_loss, correct = 0, 0\n",
        "    with torch.no_grad():\n",
        "        for X, y in dataloader:\n",
        "            X, y = X.to(device), y.to(device)\n",
        "            pred = model(X)\n",
        "            test_loss += loss_fn(pred, y).item()\n",
        "            correct += (pred.argmax(1) == y).type(torch.float).sum().item()\n",
        "    test_loss /= num_batches\n",
        "    correct /= size\n",
        "\n",
        "    print(f\"Test Error: \\n Accuracy: {(100*correct):>0.1f}%, Avg loss: {test_loss:>8f} \\n\")\n",
        "    return  100*correct, test_loss"
      ]
    },
    {
      "cell_type": "code",
      "execution_count": 38,
      "metadata": {
        "colab": {
          "base_uri": "https://localhost:8080/"
        },
        "id": "l-GsVkiTgr59",
        "outputId": "94470e9e-934e-41f3-ffbe-d5607bed3c58"
      },
      "outputs": [
        {
          "output_type": "stream",
          "name": "stdout",
          "text": [
            "Epoch 1\n",
            "-------------------------------\n",
            "loss: 2.299617  [   64/60000]\n",
            "loss: 2.301858  [ 6464/60000]\n",
            "loss: 2.283638  [12864/60000]\n",
            "loss: 2.273639  [19264/60000]\n",
            "loss: 2.259116  [25664/60000]\n",
            "loss: 2.229350  [32064/60000]\n",
            "loss: 2.235443  [38464/60000]\n",
            "loss: 2.204156  [44864/60000]\n",
            "loss: 2.188205  [51264/60000]\n",
            "loss: 2.168362  [57664/60000]\n",
            "Test Error: \n",
            " Accuracy: 37.5%, Avg loss: 2.163874 \n",
            "\n",
            "Epoch 2\n",
            "-------------------------------\n",
            "loss: 2.167197  [   64/60000]\n",
            "loss: 2.174447  [ 6464/60000]\n",
            "loss: 2.116549  [12864/60000]\n",
            "loss: 2.129075  [19264/60000]\n",
            "loss: 2.091422  [25664/60000]\n",
            "loss: 2.029573  [32064/60000]\n",
            "loss: 2.057814  [38464/60000]\n",
            "loss: 1.985988  [44864/60000]\n",
            "loss: 1.974467  [51264/60000]\n",
            "loss: 1.923897  [57664/60000]\n",
            "Test Error: \n",
            " Accuracy: 56.3%, Avg loss: 1.917178 \n",
            "\n",
            "Epoch 3\n",
            "-------------------------------\n",
            "loss: 1.942154  [   64/60000]\n",
            "loss: 1.936143  [ 6464/60000]\n",
            "loss: 1.809971  [12864/60000]\n",
            "loss: 1.848532  [19264/60000]\n",
            "loss: 1.757295  [25664/60000]\n",
            "loss: 1.692371  [32064/60000]\n",
            "loss: 1.718234  [38464/60000]\n",
            "loss: 1.617368  [44864/60000]\n",
            "loss: 1.626725  [51264/60000]\n",
            "loss: 1.540659  [57664/60000]\n",
            "Test Error: \n",
            " Accuracy: 60.2%, Avg loss: 1.548229 \n",
            "\n",
            "Epoch 4\n",
            "-------------------------------\n",
            "loss: 1.604250  [   64/60000]\n",
            "loss: 1.589958  [ 6464/60000]\n",
            "loss: 1.420967  [12864/60000]\n",
            "loss: 1.503820  [19264/60000]\n",
            "loss: 1.388350  [25664/60000]\n",
            "loss: 1.360018  [32064/60000]\n",
            "loss: 1.385336  [38464/60000]\n",
            "loss: 1.304136  [44864/60000]\n",
            "loss: 1.329890  [51264/60000]\n",
            "loss: 1.243023  [57664/60000]\n",
            "Test Error: \n",
            " Accuracy: 63.7%, Avg loss: 1.265892 \n",
            "\n",
            "Epoch 5\n",
            "-------------------------------\n",
            "loss: 1.332275  [   64/60000]\n",
            "loss: 1.332363  [ 6464/60000]\n",
            "loss: 1.150818  [12864/60000]\n",
            "loss: 1.270294  [19264/60000]\n",
            "loss: 1.146559  [25664/60000]\n",
            "loss: 1.150343  [32064/60000]\n",
            "loss: 1.180458  [38464/60000]\n",
            "loss: 1.115549  [44864/60000]\n",
            "loss: 1.144850  [51264/60000]\n",
            "loss: 1.073244  [57664/60000]\n",
            "Test Error: \n",
            " Accuracy: 64.8%, Avg loss: 1.093123 \n",
            "\n",
            "Epoch 6\n",
            "-------------------------------\n",
            "loss: 1.153783  [   64/60000]\n",
            "loss: 1.172698  [ 6464/60000]\n",
            "loss: 0.977436  [12864/60000]\n",
            "loss: 1.125323  [19264/60000]\n",
            "loss: 0.998098  [25664/60000]\n",
            "loss: 1.012308  [32064/60000]\n",
            "loss: 1.055607  [38464/60000]\n",
            "loss: 0.997988  [44864/60000]\n",
            "loss: 1.026327  [51264/60000]\n",
            "loss: 0.969200  [57664/60000]\n",
            "Test Error: \n",
            " Accuracy: 65.8%, Avg loss: 0.983088 \n",
            "\n",
            "Epoch 7\n",
            "-------------------------------\n",
            "loss: 1.031698  [   64/60000]\n",
            "loss: 1.069966  [ 6464/60000]\n",
            "loss: 0.860591  [12864/60000]\n",
            "loss: 1.029150  [19264/60000]\n",
            "loss: 0.905165  [25664/60000]\n",
            "loss: 0.915841  [32064/60000]\n",
            "loss: 0.974504  [38464/60000]\n",
            "loss: 0.922793  [44864/60000]\n",
            "loss: 0.945368  [51264/60000]\n",
            "loss: 0.900139  [57664/60000]\n",
            "Test Error: \n",
            " Accuracy: 67.1%, Avg loss: 0.909093 \n",
            "\n",
            "Epoch 8\n",
            "-------------------------------\n",
            "loss: 0.943170  [   64/60000]\n",
            "loss: 0.999856  [ 6464/60000]\n",
            "loss: 0.778225  [12864/60000]\n",
            "loss: 0.961890  [19264/60000]\n",
            "loss: 0.843834  [25664/60000]\n",
            "loss: 0.846126  [32064/60000]\n",
            "loss: 0.918182  [38464/60000]\n",
            "loss: 0.873552  [44864/60000]\n",
            "loss: 0.888125  [51264/60000]\n",
            "loss: 0.850772  [57664/60000]\n",
            "Test Error: \n",
            " Accuracy: 68.0%, Avg loss: 0.856579 \n",
            "\n",
            "Epoch 9\n",
            "-------------------------------\n",
            "loss: 0.876352  [   64/60000]\n",
            "loss: 0.948169  [ 6464/60000]\n",
            "loss: 0.717690  [12864/60000]\n",
            "loss: 0.912716  [19264/60000]\n",
            "loss: 0.800320  [25664/60000]\n",
            "loss: 0.794355  [32064/60000]\n",
            "loss: 0.875939  [38464/60000]\n",
            "loss: 0.839997  [44864/60000]\n",
            "loss: 0.845978  [51264/60000]\n",
            "loss: 0.813084  [57664/60000]\n",
            "Test Error: \n",
            " Accuracy: 69.1%, Avg loss: 0.817204 \n",
            "\n",
            "Epoch 10\n",
            "-------------------------------\n",
            "loss: 0.823607  [   64/60000]\n",
            "loss: 0.907027  [ 6464/60000]\n",
            "loss: 0.671187  [12864/60000]\n",
            "loss: 0.875322  [19264/60000]\n",
            "loss: 0.767302  [25664/60000]\n",
            "loss: 0.754930  [32064/60000]\n",
            "loss: 0.842099  [38464/60000]\n",
            "loss: 0.815769  [44864/60000]\n",
            "loss: 0.813607  [51264/60000]\n",
            "loss: 0.782692  [57664/60000]\n",
            "Test Error: \n",
            " Accuracy: 70.4%, Avg loss: 0.786064 \n",
            "\n",
            "Done!\n",
            "Saved PyTorch Model State to model.pth\n"
          ]
        }
      ],
      "source": [
        "epochs = 10\n",
        "for t in range(epochs):\n",
        "    print(f\"Epoch {t+1}\\n-------------------------------\")\n",
        "    train(train_dataloader, model, loss_fn, optimizer)\n",
        "    test(test_dataloader, model, loss_fn)\n",
        "print(\"Done!\")\n",
        "torch.save(model.state_dict(), \"model.pth\")\n",
        "print(\"Saved PyTorch Model State to model.pth\")"
      ]
    },
    {
      "cell_type": "markdown",
      "metadata": {
        "id": "DtwLdQB_gxmw"
      },
      "source": [
        "# Task 1\n",
        "Build graphic for the learning process."
      ]
    },
    {
      "cell_type": "markdown",
      "metadata": {
        "id": "uqni5LlXhD7B"
      },
      "source": [
        "1. Load/Save models"
      ]
    },
    {
      "cell_type": "code",
      "execution_count": 39,
      "metadata": {
        "id": "T2W555JshEsU"
      },
      "outputs": [],
      "source": [
        "def createModel():\n",
        "  # YOUR CODE START 2 lines\n",
        "  # create model\n",
        "  model = NeuralNetwork().to(device)\n",
        "\n",
        "  return model\n",
        "  # YOUR CODE END"
      ]
    },
    {
      "cell_type": "code",
      "execution_count": 40,
      "metadata": {
        "id": "TzPeyAvyhLsN"
      },
      "outputs": [],
      "source": [
        "def checkClasses(model):\n",
        "  classes = [\n",
        "      \"T-shirt/top\",\n",
        "      \"Trouser\",\n",
        "      \"Pullover\",\n",
        "      \"Dress\",\n",
        "      \"Coat\",\n",
        "      \"Sandal\",\n",
        "      \"Shirt\",\n",
        "      \"Sneaker\",\n",
        "      \"Bag\",\n",
        "      \"Ankle boot\",\n",
        "  ]\n",
        "\n",
        "  model.eval()\n",
        "  # YOUR CODE START 4 lines\n",
        "  # load 1st class\n",
        "  x, y = test_data[0]\n",
        "  x = x.unsqueeze(0).to(device)\n",
        "  with torch.no_grad():\n",
        "      # predict\n",
        "      pred = model(x)\n",
        "      # return predicted, actual\n",
        "      predicted, actual = classes[pred.argmax(1).item()], classes[y]\n",
        "  return predicted, actual"
      ]
    },
    {
      "cell_type": "code",
      "execution_count": 41,
      "metadata": {
        "colab": {
          "base_uri": "https://localhost:8080/"
        },
        "id": "-h5sZ7xxZwoX",
        "outputId": "dc9e000a-6d48-4c63-e788-c77a55ef5c41"
      },
      "outputs": [
        {
          "output_type": "stream",
          "name": "stderr",
          "text": [
            ".\n",
            "----------------------------------------------------------------------\n",
            "Ran 1 test in 0.008s\n",
            "\n",
            "OK\n"
          ]
        },
        {
          "output_type": "stream",
          "name": "stdout",
          "text": [
            "Student Score: 5/15\n"
          ]
        }
      ],
      "source": [
        "import unittest\n",
        "import cv2\n",
        "import numpy as np\n",
        "\n",
        "class TestImageFilters(unittest.TestCase):\n",
        "\n",
        "    def test_model_creation(self):\n",
        "        # Загрузка изображения\n",
        "        model = createModel()\n",
        "        predicted, actual = checkClasses(model)\n",
        "        self.assertEqual(predicted, actual, \"Prediction wrong\")\n",
        "        global score\n",
        "        score=score+5\n",
        "\n",
        "# Run unit tests\n",
        "if __name__ == \"__main__\":\n",
        "    unittest.main(argv=['first-arg-is-ignored'], exit=False)\n",
        "    print(f\"Student Score: {score}/{max_score}\")"
      ]
    },
    {
      "cell_type": "code",
      "execution_count": 48,
      "metadata": {
        "colab": {
          "base_uri": "https://localhost:8080/"
        },
        "id": "QGzYB4hH8v_z",
        "outputId": "77adb691-7e18-4fea-bab4-6c841ea330b9"
      },
      "outputs": [
        {
          "output_type": "stream",
          "name": "stdout",
          "text": [
            "Predicted: \"Ankle boot\", Actual: \"Ankle boot\"\n"
          ]
        }
      ],
      "source": [
        "model = createModel()\n",
        "predicted, actual = checkClasses(model)\n",
        "print(f'Predicted: \"{predicted}\", Actual: \"{actual}\"')"
      ]
    },
    {
      "cell_type": "markdown",
      "metadata": {
        "id": "kQD5KIm5blAF"
      },
      "source": [
        "# Task 2. Improve training"
      ]
    },
    {
      "cell_type": "code",
      "execution_count": 54,
      "metadata": {
        "id": "gamvSRTcboH0"
      },
      "outputs": [],
      "source": [
        "import torch.optim as optim\n",
        "\n",
        "# Improve Model Function\n",
        "def improveModel():\n",
        "    epochs = 10\n",
        "    global device\n",
        "\n",
        "    optimizer = optim.Adam(model.parameters(), lr=0.001)\n",
        "\n",
        "    for t in range(epochs):\n",
        "        print(f\"Epoch {t+1}\\n-------------------------------\")\n",
        "        train(train_dataloader, model, loss_fn, optimizer)\n",
        "\n",
        "        acc, loss = test(test_dataloader, model, loss_fn)\n",
        "\n",
        "        print(f\"Test Accuracy after Epoch {t+1}: {acc:.2f}%\")\n",
        "        print(f\"Test Loss after Epoch {t+1}: {loss:.4f}\")\n",
        "\n",
        "    return acc, loss"
      ]
    },
    {
      "cell_type": "code",
      "execution_count": 55,
      "metadata": {
        "colab": {
          "base_uri": "https://localhost:8080/"
        },
        "id": "pZr5tBhkciK7",
        "outputId": "809514c7-3c9c-4fe2-b0eb-34430d3c25dc"
      },
      "outputs": [
        {
          "output_type": "stream",
          "name": "stdout",
          "text": [
            "Epoch 1\n",
            "-------------------------------\n",
            "loss: 0.303817  [   64/60000]\n",
            "loss: 0.071195  [ 6464/60000]\n",
            "loss: 0.071306  [12864/60000]\n",
            "loss: 0.134597  [19264/60000]\n",
            "loss: 0.108397  [25664/60000]\n",
            "loss: 0.142220  [32064/60000]\n",
            "loss: 0.080574  [38464/60000]\n",
            "loss: 0.106518  [44864/60000]\n",
            "loss: 0.052663  [51264/60000]\n",
            "loss: 0.105620  [57664/60000]\n",
            "Test Error: \n",
            " Accuracy: 89.0%, Avg loss: 0.641071 \n",
            "\n",
            "Test Accuracy after Epoch 1: 88.98%\n",
            "Test Loss after Epoch 1: 0.6411\n",
            "Epoch 2\n",
            "-------------------------------\n",
            "loss: 0.075702  [   64/60000]\n",
            "loss: 0.083189  [ 6464/60000]\n",
            "loss: 0.121197  [12864/60000]\n",
            "loss: 0.098074  [19264/60000]\n",
            "loss: 0.087218  [25664/60000]\n",
            "loss: 0.171326  [32064/60000]\n",
            "loss: 0.039350  [38464/60000]\n",
            "loss: 0.129415  [44864/60000]\n",
            "loss: 0.041262  [51264/60000]\n",
            "loss: 0.134710  [57664/60000]\n",
            "Test Error: \n",
            " Accuracy: 88.1%, Avg loss: 0.593393 \n",
            "\n",
            "Test Accuracy after Epoch 2: 88.12%\n",
            "Test Loss after Epoch 2: 0.5934\n",
            "Epoch 3\n",
            "-------------------------------\n",
            "loss: 0.137583  [   64/60000]\n",
            "loss: 0.049091  [ 6464/60000]\n",
            "loss: 0.066550  [12864/60000]\n",
            "loss: 0.097709  [19264/60000]\n",
            "loss: 0.123589  [25664/60000]\n",
            "loss: 0.107641  [32064/60000]\n",
            "loss: 0.048442  [38464/60000]\n",
            "loss: 0.037631  [44864/60000]\n",
            "loss: 0.047457  [51264/60000]\n",
            "loss: 0.121233  [57664/60000]\n",
            "Test Error: \n",
            " Accuracy: 88.7%, Avg loss: 0.634245 \n",
            "\n",
            "Test Accuracy after Epoch 3: 88.72%\n",
            "Test Loss after Epoch 3: 0.6342\n",
            "Epoch 4\n",
            "-------------------------------\n",
            "loss: 0.086512  [   64/60000]\n",
            "loss: 0.051692  [ 6464/60000]\n",
            "loss: 0.076410  [12864/60000]\n",
            "loss: 0.065918  [19264/60000]\n",
            "loss: 0.115986  [25664/60000]\n",
            "loss: 0.084189  [32064/60000]\n",
            "loss: 0.139822  [38464/60000]\n",
            "loss: 0.074140  [44864/60000]\n",
            "loss: 0.056594  [51264/60000]\n",
            "loss: 0.083789  [57664/60000]\n",
            "Test Error: \n",
            " Accuracy: 88.3%, Avg loss: 0.594882 \n",
            "\n",
            "Test Accuracy after Epoch 4: 88.30%\n",
            "Test Loss after Epoch 4: 0.5949\n",
            "Epoch 5\n",
            "-------------------------------\n",
            "loss: 0.074765  [   64/60000]\n",
            "loss: 0.056744  [ 6464/60000]\n",
            "loss: 0.078035  [12864/60000]\n",
            "loss: 0.110960  [19264/60000]\n",
            "loss: 0.107827  [25664/60000]\n",
            "loss: 0.080821  [32064/60000]\n",
            "loss: 0.072028  [38464/60000]\n",
            "loss: 0.065051  [44864/60000]\n",
            "loss: 0.060897  [51264/60000]\n",
            "loss: 0.073676  [57664/60000]\n",
            "Test Error: \n",
            " Accuracy: 88.9%, Avg loss: 0.614161 \n",
            "\n",
            "Test Accuracy after Epoch 5: 88.88%\n",
            "Test Loss after Epoch 5: 0.6142\n",
            "Epoch 6\n",
            "-------------------------------\n",
            "loss: 0.073580  [   64/60000]\n",
            "loss: 0.102804  [ 6464/60000]\n",
            "loss: 0.036594  [12864/60000]\n",
            "loss: 0.069837  [19264/60000]\n",
            "loss: 0.082538  [25664/60000]\n",
            "loss: 0.087020  [32064/60000]\n",
            "loss: 0.060572  [38464/60000]\n",
            "loss: 0.219110  [44864/60000]\n",
            "loss: 0.052227  [51264/60000]\n",
            "loss: 0.149392  [57664/60000]\n",
            "Test Error: \n",
            " Accuracy: 87.8%, Avg loss: 0.659146 \n",
            "\n",
            "Test Accuracy after Epoch 6: 87.81%\n",
            "Test Loss after Epoch 6: 0.6591\n",
            "Epoch 7\n",
            "-------------------------------\n",
            "loss: 0.129101  [   64/60000]\n",
            "loss: 0.055424  [ 6464/60000]\n",
            "loss: 0.070489  [12864/60000]\n",
            "loss: 0.062955  [19264/60000]\n",
            "loss: 0.108608  [25664/60000]\n",
            "loss: 0.128278  [32064/60000]\n",
            "loss: 0.041287  [38464/60000]\n",
            "loss: 0.080101  [44864/60000]\n",
            "loss: 0.085060  [51264/60000]\n",
            "loss: 0.093668  [57664/60000]\n",
            "Test Error: \n",
            " Accuracy: 88.7%, Avg loss: 0.662401 \n",
            "\n",
            "Test Accuracy after Epoch 7: 88.71%\n",
            "Test Loss after Epoch 7: 0.6624\n",
            "Epoch 8\n",
            "-------------------------------\n",
            "loss: 0.067133  [   64/60000]\n",
            "loss: 0.044944  [ 6464/60000]\n",
            "loss: 0.070974  [12864/60000]\n",
            "loss: 0.111900  [19264/60000]\n",
            "loss: 0.134218  [25664/60000]\n",
            "loss: 0.044651  [32064/60000]\n",
            "loss: 0.043564  [38464/60000]\n",
            "loss: 0.087550  [44864/60000]\n",
            "loss: 0.048034  [51264/60000]\n",
            "loss: 0.095212  [57664/60000]\n",
            "Test Error: \n",
            " Accuracy: 88.6%, Avg loss: 0.647399 \n",
            "\n",
            "Test Accuracy after Epoch 8: 88.60%\n",
            "Test Loss after Epoch 8: 0.6474\n",
            "Epoch 9\n",
            "-------------------------------\n",
            "loss: 0.092987  [   64/60000]\n",
            "loss: 0.051399  [ 6464/60000]\n",
            "loss: 0.085032  [12864/60000]\n",
            "loss: 0.078666  [19264/60000]\n",
            "loss: 0.051739  [25664/60000]\n",
            "loss: 0.044664  [32064/60000]\n",
            "loss: 0.043764  [38464/60000]\n",
            "loss: 0.096689  [44864/60000]\n",
            "loss: 0.105894  [51264/60000]\n",
            "loss: 0.134478  [57664/60000]\n",
            "Test Error: \n",
            " Accuracy: 88.5%, Avg loss: 0.668766 \n",
            "\n",
            "Test Accuracy after Epoch 9: 88.50%\n",
            "Test Loss after Epoch 9: 0.6688\n",
            "Epoch 10\n",
            "-------------------------------\n",
            "loss: 0.094636  [   64/60000]\n",
            "loss: 0.190750  [ 6464/60000]\n",
            "loss: 0.035406  [12864/60000]\n",
            "loss: 0.073398  [19264/60000]\n",
            "loss: 0.061234  [25664/60000]\n",
            "loss: 0.088395  [32064/60000]\n",
            "loss: 0.061360  [38464/60000]\n",
            "loss: 0.063780  [44864/60000]\n",
            "loss: 0.040509  [51264/60000]\n",
            "loss: 0.142716  [57664/60000]\n"
          ]
        },
        {
          "output_type": "stream",
          "name": "stderr",
          "text": [
            ".\n",
            "----------------------------------------------------------------------\n",
            "Ran 1 test in 81.524s\n",
            "\n",
            "OK\n"
          ]
        },
        {
          "output_type": "stream",
          "name": "stdout",
          "text": [
            "Test Error: \n",
            " Accuracy: 88.3%, Avg loss: 0.683499 \n",
            "\n",
            "Test Accuracy after Epoch 10: 88.30%\n",
            "Test Loss after Epoch 10: 0.6835\n",
            "Student Score: 35/15\n"
          ]
        }
      ],
      "source": [
        "import unittest\n",
        "import cv2\n",
        "import numpy as np\n",
        "\n",
        "class TestImageFilters(unittest.TestCase):\n",
        "\n",
        "    def test_model_improve(self):\n",
        "        acc, loss = improveModel()\n",
        "        self.assertGreaterEqual(acc, 80, \"Model is not accurate\")\n",
        "        global score\n",
        "        score=score+10\n",
        "\n",
        "# Run unit tests\n",
        "if __name__ == \"__main__\":\n",
        "    unittest.main(argv=['first-arg-is-ignored'], exit=False)\n",
        "    print(f\"Student Score: {score}/{max_score}\")"
      ]
    },
    {
      "cell_type": "code",
      "execution_count": null,
      "metadata": {
        "id": "dyN4YekF9I1T",
        "colab": {
          "base_uri": "https://localhost:8080/"
        },
        "outputId": "5b73ceb2-2b24-4c17-cda5-890c1a410c60"
      },
      "outputs": [
        {
          "output_type": "stream",
          "name": "stdout",
          "text": [
            "Test completed! ELON MUSK, your score is 5/15.\n"
          ]
        }
      ],
      "source": [
        "# DO NOT MODIFY  !!!\n",
        "# DO NOT EXECUTE !!!\n",
        "# Save the result to Google Sheets\n",
        "worksheet.append_row([student_name,group_id, task_id, score])\n",
        "\n",
        "print(f\"Test completed! {student_name}, your score is {score}/{max_score}.\")"
      ]
    }
  ],
  "metadata": {
    "accelerator": "GPU",
    "colab": {
      "gpuType": "T4",
      "machine_shape": "hm",
      "provenance": [],
      "include_colab_link": true
    },
    "kernelspec": {
      "display_name": "Python 3",
      "name": "python3"
    },
    "language_info": {
      "name": "python"
    }
  },
  "nbformat": 4,
  "nbformat_minor": 0
}
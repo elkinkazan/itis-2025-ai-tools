{
  "cells": [
    {
      "cell_type": "markdown",
      "metadata": {
        "id": "view-in-github",
        "colab_type": "text"
      },
      "source": [
        "<a href=\"https://colab.research.google.com/github/elkinkazan/itis-2025-ai-tools/blob/main/tasks/Task1_PyTorch_Iliasova.ipynb\" target=\"_parent\"><img src=\"https://colab.research.google.com/assets/colab-badge.svg\" alt=\"Open In Colab\"/></a>"
      ]
    },
    {
      "cell_type": "code",
      "execution_count": null,
      "metadata": {
        "colab": {
          "base_uri": "https://localhost:8080/"
        },
        "id": "464jOV188Eu1",
        "outputId": "dccbe029-abbd-4125-a93b-31bdc93e89be"
      },
      "outputs": [
        {
          "output_type": "stream",
          "name": "stdout",
          "text": [
            "Requirement already satisfied: gspread in /usr/local/lib/python3.11/dist-packages (6.2.0)\n",
            "Requirement already satisfied: pandas in /usr/local/lib/python3.11/dist-packages (2.2.3)\n",
            "Requirement already satisfied: google-auth in /usr/local/lib/python3.11/dist-packages (2.38.0)\n",
            "Requirement already satisfied: google-auth-oauthlib>=0.4.1 in /usr/local/lib/python3.11/dist-packages (from gspread) (1.2.1)\n",
            "Requirement already satisfied: numpy>=1.23.2 in /usr/local/lib/python3.11/dist-packages (from pandas) (2.0.2)\n",
            "Requirement already satisfied: python-dateutil>=2.8.2 in /usr/local/lib/python3.11/dist-packages (from pandas) (2.8.2)\n",
            "Requirement already satisfied: pytz>=2020.1 in /usr/local/lib/python3.11/dist-packages (from pandas) (2025.2)\n",
            "Requirement already satisfied: tzdata>=2022.7 in /usr/local/lib/python3.11/dist-packages (from pandas) (2025.2)\n",
            "Requirement already satisfied: cachetools<6.0,>=2.0.0 in /usr/local/lib/python3.11/dist-packages (from google-auth) (5.5.2)\n",
            "Requirement already satisfied: pyasn1-modules>=0.2.1 in /usr/local/lib/python3.11/dist-packages (from google-auth) (0.4.2)\n",
            "Requirement already satisfied: rsa<5,>=3.1.4 in /usr/local/lib/python3.11/dist-packages (from google-auth) (4.9)\n",
            "Requirement already satisfied: requests-oauthlib>=0.7.0 in /usr/local/lib/python3.11/dist-packages (from google-auth-oauthlib>=0.4.1->gspread) (2.0.0)\n",
            "Requirement already satisfied: pyasn1<0.7.0,>=0.6.1 in /usr/local/lib/python3.11/dist-packages (from pyasn1-modules>=0.2.1->google-auth) (0.6.1)\n",
            "Requirement already satisfied: six>=1.5 in /usr/local/lib/python3.11/dist-packages (from python-dateutil>=2.8.2->pandas) (1.17.0)\n",
            "Requirement already satisfied: oauthlib>=3.0.0 in /usr/local/lib/python3.11/dist-packages (from requests-oauthlib>=0.7.0->google-auth-oauthlib>=0.4.1->gspread) (3.2.2)\n",
            "Requirement already satisfied: requests>=2.0.0 in /usr/local/lib/python3.11/dist-packages (from requests-oauthlib>=0.7.0->google-auth-oauthlib>=0.4.1->gspread) (2.32.3)\n",
            "Requirement already satisfied: charset-normalizer<4,>=2 in /usr/local/lib/python3.11/dist-packages (from requests>=2.0.0->requests-oauthlib>=0.7.0->google-auth-oauthlib>=0.4.1->gspread) (3.4.1)\n",
            "Requirement already satisfied: idna<4,>=2.5 in /usr/local/lib/python3.11/dist-packages (from requests>=2.0.0->requests-oauthlib>=0.7.0->google-auth-oauthlib>=0.4.1->gspread) (3.10)\n",
            "Requirement already satisfied: urllib3<3,>=1.21.1 in /usr/local/lib/python3.11/dist-packages (from requests>=2.0.0->requests-oauthlib>=0.7.0->google-auth-oauthlib>=0.4.1->gspread) (2.3.0)\n",
            "Requirement already satisfied: certifi>=2017.4.17 in /usr/local/lib/python3.11/dist-packages (from requests>=2.0.0->requests-oauthlib>=0.7.0->google-auth-oauthlib>=0.4.1->gspread) (2025.1.31)\n"
          ]
        }
      ],
      "source": [
        "# DO NOT MODIFY  !!!\n",
        "# DO NOT EXECUTE !!!\n",
        "!pip install --upgrade gspread pandas google-auth\n",
        "import pandas as pd\n",
        "import gspread\n",
        "from google.colab import auth\n",
        "from google.auth import default\n",
        "from IPython.display import display\n",
        "import random\n",
        "# Authenticate and create the PyDrive client.\n",
        "auth.authenticate_user()\n",
        "creds, _ = default()\n",
        "gc = gspread.authorize(creds)\n",
        "\n"
      ]
    },
    {
      "cell_type": "code",
      "execution_count": 1,
      "metadata": {
        "id": "CILcf5ys8XZ-"
      },
      "outputs": [],
      "source": [
        "# FILL THIS\n",
        "student_name = \"ELVIRA ILIASOVA\"\n",
        "group_id = \"11-451\"\n"
      ]
    },
    {
      "cell_type": "code",
      "execution_count": null,
      "metadata": {
        "id": "deJzxEGB9cqv"
      },
      "outputs": [],
      "source": [
        "# DO NOT MODIFY  !!!\n",
        "# DO NOT EXECUTE !!!\n",
        "SPREADSHEET_URL = \"https://docs.google.com/spreadsheets/d/1Kfxj2eDFl7xQnXw7Fpb9bwghc65o8xf--VpNxrdWHaY/edit?gid=0#gid=0\"\n",
        "sh = gc.open_by_url(SPREADSHEET_URL)\n",
        "worksheet = sh.sheet1\n",
        "\n",
        "# Ensure header row exists\n",
        "if not worksheet.get_all_values():\n",
        "    worksheet.append_row([\"Student Name\", \"Group\",\"TaskID\", \"Score\"])\n"
      ]
    },
    {
      "cell_type": "code",
      "execution_count": 2,
      "metadata": {
        "id": "Q71764Rh9Q50"
      },
      "outputs": [],
      "source": [
        "# MAIN NOTEBOOK GOES HERE\n",
        "task_id = \"Task1_PyTorch\"\n",
        "score = 0\n",
        "max_score = 15"
      ]
    },
    {
      "cell_type": "code",
      "execution_count": 3,
      "metadata": {
        "id": "asV6UtR3fgdU"
      },
      "outputs": [],
      "source": [
        "import torch\n",
        "from torch import nn\n",
        "from torch.utils.data import DataLoader\n",
        "from torchvision import datasets\n",
        "from torchvision.transforms import ToTensor"
      ]
    },
    {
      "cell_type": "code",
      "execution_count": 4,
      "metadata": {
        "id": "eGHD6QQMgD30",
        "colab": {
          "base_uri": "https://localhost:8080/"
        },
        "outputId": "58ec7c7f-6c60-4e3b-eac4-1e7eac13c35e"
      },
      "outputs": [
        {
          "output_type": "stream",
          "name": "stderr",
          "text": [
            "100%|██████████| 26.4M/26.4M [00:02<00:00, 10.5MB/s]\n",
            "100%|██████████| 29.5k/29.5k [00:00<00:00, 167kB/s]\n",
            "100%|██████████| 4.42M/4.42M [00:01<00:00, 3.10MB/s]\n",
            "100%|██████████| 5.15k/5.15k [00:00<00:00, 10.9MB/s]\n"
          ]
        }
      ],
      "source": [
        "# Download training data from open datasets.\n",
        "training_data = datasets.FashionMNIST(\n",
        "    root=\"data\",\n",
        "    train=True,\n",
        "    download=True,\n",
        "    transform=ToTensor(),\n",
        ")\n",
        "\n",
        "# Download test data from open datasets.\n",
        "test_data = datasets.FashionMNIST(\n",
        "    root=\"data\",\n",
        "    train=False,\n",
        "    download=True,\n",
        "    transform=ToTensor(),\n",
        ")\n"
      ]
    },
    {
      "cell_type": "code",
      "execution_count": 5,
      "metadata": {
        "colab": {
          "base_uri": "https://localhost:8080/"
        },
        "id": "y70pAAt5gKxQ",
        "outputId": "dc20dadc-ca29-43a2-e9f7-d200e353ecf4"
      },
      "outputs": [
        {
          "output_type": "stream",
          "name": "stdout",
          "text": [
            "Shape of X [N, C, H, W]: torch.Size([64, 1, 28, 28])\n",
            "Shape of y: torch.Size([64]) torch.int64\n"
          ]
        }
      ],
      "source": [
        "batch_size = 64\n",
        "\n",
        "# Create data loaders.\n",
        "train_dataloader = DataLoader(training_data, batch_size=batch_size)\n",
        "test_dataloader = DataLoader(test_data, batch_size=batch_size)\n",
        "\n",
        "for X, y in test_dataloader:\n",
        "    print(f\"Shape of X [N, C, H, W]: {X.shape}\")\n",
        "    print(f\"Shape of y: {y.shape} {y.dtype}\")\n",
        "    break"
      ]
    },
    {
      "cell_type": "markdown",
      "metadata": {
        "id": "7GWlIYRhgPSR"
      },
      "source": [
        "# Modelling"
      ]
    },
    {
      "cell_type": "code",
      "execution_count": 6,
      "metadata": {
        "colab": {
          "base_uri": "https://localhost:8080/"
        },
        "id": "bdT5HW0mgOp7",
        "outputId": "74a9f866-c273-4088-95b9-0de61109b5f1"
      },
      "outputs": [
        {
          "output_type": "stream",
          "name": "stdout",
          "text": [
            "Using cuda device\n",
            "NeuralNetwork(\n",
            "  (flatten): Flatten(start_dim=1, end_dim=-1)\n",
            "  (linear_relu_stack): Sequential(\n",
            "    (0): Linear(in_features=784, out_features=512, bias=True)\n",
            "    (1): ReLU()\n",
            "    (2): Linear(in_features=512, out_features=512, bias=True)\n",
            "    (3): ReLU()\n",
            "    (4): Linear(in_features=512, out_features=10, bias=True)\n",
            "  )\n",
            ")\n"
          ]
        }
      ],
      "source": [
        "# mps for Mac\n",
        "global device\n",
        "device = \"cuda\"\n",
        "print(f\"Using {device} device\")\n",
        "\n",
        "# Define model\n",
        "class NeuralNetwork(nn.Module):\n",
        "    def __init__(self):\n",
        "        super().__init__()\n",
        "        self.flatten = nn.Flatten()\n",
        "        self.linear_relu_stack = nn.Sequential(\n",
        "            nn.Linear(28*28, 512),\n",
        "            nn.ReLU(),\n",
        "            nn.Linear(512, 512),\n",
        "            nn.ReLU(),\n",
        "            nn.Linear(512, 10)\n",
        "        )\n",
        "\n",
        "    def forward(self, x):\n",
        "        x = self.flatten(x)\n",
        "        logits = self.linear_relu_stack(x)\n",
        "        return logits\n",
        "\n",
        "model = NeuralNetwork().to(device)\n",
        "print(model)"
      ]
    },
    {
      "cell_type": "markdown",
      "metadata": {
        "id": "aObCPexZgbPt"
      },
      "source": [
        "To train a model, we need a loss function and an optimizer."
      ]
    },
    {
      "cell_type": "code",
      "execution_count": 7,
      "metadata": {
        "id": "nMKZ3siPge4b"
      },
      "outputs": [],
      "source": [
        "loss_fn = nn.CrossEntropyLoss()\n",
        "optimizer = torch.optim.SGD(model.parameters(), lr=1e-3)"
      ]
    },
    {
      "cell_type": "markdown",
      "metadata": {
        "id": "SYbCAlVdghIC"
      },
      "source": [
        "In a single training loop, the model makes predictions on the training dataset (fed to it in batches), and backpropagates the prediction error to adjust the model’s parameters."
      ]
    },
    {
      "cell_type": "code",
      "execution_count": 8,
      "metadata": {
        "id": "jfd9Fn8Bghmg"
      },
      "outputs": [],
      "source": [
        "def train(dataloader, model, loss_fn, optimizer):\n",
        "    size = len(dataloader.dataset)\n",
        "    model.train()\n",
        "    for batch, (X, y) in enumerate(dataloader):\n",
        "        X, y = X.to(device), y.to(device)\n",
        "\n",
        "        # Compute prediction error\n",
        "        pred = model(X)\n",
        "        loss = loss_fn(pred, y)\n",
        "\n",
        "        # Backpropagation\n",
        "        optimizer.zero_grad()\n",
        "        loss.backward()\n",
        "        optimizer.step()\n",
        "\n",
        "        if batch % 100 == 0:\n",
        "            loss, current = loss.item(), (batch + 1) * len(X)\n",
        "            print(f\"loss: {loss:>7f}  [{current:>5d}/{size:>5d}]\")"
      ]
    },
    {
      "cell_type": "code",
      "execution_count": 9,
      "metadata": {
        "id": "qGEj-cMtgppi"
      },
      "outputs": [],
      "source": [
        "def test(dataloader, model, loss_fn):\n",
        "    size = len(dataloader.dataset)\n",
        "    num_batches = len(dataloader)\n",
        "    model.eval()\n",
        "    test_loss, correct = 0, 0\n",
        "    with torch.no_grad():\n",
        "        for X, y in dataloader:\n",
        "            X, y = X.to(device), y.to(device)\n",
        "            pred = model(X)\n",
        "            test_loss += loss_fn(pred, y).item()\n",
        "            correct += (pred.argmax(1) == y).type(torch.float).sum().item()\n",
        "    test_loss /= num_batches\n",
        "    correct /= size\n",
        "\n",
        "    print(f\"Test Error: \\n Accuracy: {(100*correct):>0.1f}%, Avg loss: {test_loss:>8f} \\n\")\n",
        "    return  100*correct, test_loss"
      ]
    },
    {
      "cell_type": "code",
      "execution_count": 10,
      "metadata": {
        "colab": {
          "base_uri": "https://localhost:8080/"
        },
        "id": "l-GsVkiTgr59",
        "outputId": "15785f20-0080-4e59-d0a0-e16a8c669dcb"
      },
      "outputs": [
        {
          "output_type": "stream",
          "name": "stdout",
          "text": [
            "Epoch 1\n",
            "-------------------------------\n",
            "loss: 2.310881  [   64/60000]\n",
            "loss: 2.294919  [ 6464/60000]\n",
            "loss: 2.278117  [12864/60000]\n",
            "loss: 2.273933  [19264/60000]\n",
            "loss: 2.251389  [25664/60000]\n",
            "loss: 2.232425  [32064/60000]\n",
            "loss: 2.232980  [38464/60000]\n",
            "loss: 2.205950  [44864/60000]\n",
            "loss: 2.200221  [51264/60000]\n",
            "loss: 2.164249  [57664/60000]\n",
            "Test Error: \n",
            " Accuracy: 43.3%, Avg loss: 2.158630 \n",
            "\n",
            "Epoch 2\n",
            "-------------------------------\n",
            "loss: 2.169852  [   64/60000]\n",
            "loss: 2.155838  [ 6464/60000]\n",
            "loss: 2.100337  [12864/60000]\n",
            "loss: 2.122242  [19264/60000]\n",
            "loss: 2.065565  [25664/60000]\n",
            "loss: 2.016723  [32064/60000]\n",
            "loss: 2.039900  [38464/60000]\n",
            "loss: 1.966455  [44864/60000]\n",
            "loss: 1.967462  [51264/60000]\n",
            "loss: 1.897004  [57664/60000]\n",
            "Test Error: \n",
            " Accuracy: 57.1%, Avg loss: 1.893588 \n",
            "\n",
            "Epoch 3\n",
            "-------------------------------\n",
            "loss: 1.921637  [   64/60000]\n",
            "loss: 1.889003  [ 6464/60000]\n",
            "loss: 1.774709  [12864/60000]\n",
            "loss: 1.823767  [19264/60000]\n",
            "loss: 1.712031  [25664/60000]\n",
            "loss: 1.666987  [32064/60000]\n",
            "loss: 1.681548  [38464/60000]\n",
            "loss: 1.587100  [44864/60000]\n",
            "loss: 1.609637  [51264/60000]\n",
            "loss: 1.502170  [57664/60000]\n",
            "Test Error: \n",
            " Accuracy: 62.4%, Avg loss: 1.522075 \n",
            "\n",
            "Epoch 4\n",
            "-------------------------------\n",
            "loss: 1.584154  [   64/60000]\n",
            "loss: 1.548014  [ 6464/60000]\n",
            "loss: 1.399945  [12864/60000]\n",
            "loss: 1.475163  [19264/60000]\n",
            "loss: 1.360788  [25664/60000]\n",
            "loss: 1.358556  [32064/60000]\n",
            "loss: 1.364772  [38464/60000]\n",
            "loss: 1.296568  [44864/60000]\n",
            "loss: 1.330968  [51264/60000]\n",
            "loss: 1.227437  [57664/60000]\n",
            "Test Error: \n",
            " Accuracy: 63.2%, Avg loss: 1.254655 \n",
            "\n",
            "Epoch 5\n",
            "-------------------------------\n",
            "loss: 1.330582  [   64/60000]\n",
            "loss: 1.310923  [ 6464/60000]\n",
            "loss: 1.145499  [12864/60000]\n",
            "loss: 1.250879  [19264/60000]\n",
            "loss: 1.132682  [25664/60000]\n",
            "loss: 1.162159  [32064/60000]\n",
            "loss: 1.175461  [38464/60000]\n",
            "loss: 1.118659  [44864/60000]\n",
            "loss: 1.157057  [51264/60000]\n",
            "loss: 1.071897  [57664/60000]\n",
            "Test Error: \n",
            " Accuracy: 64.6%, Avg loss: 1.090482 \n",
            "\n",
            "Epoch 6\n",
            "-------------------------------\n",
            "loss: 1.160290  [   64/60000]\n",
            "loss: 1.162991  [ 6464/60000]\n",
            "loss: 0.979255  [12864/60000]\n",
            "loss: 1.112907  [19264/60000]\n",
            "loss: 0.994848  [25664/60000]\n",
            "loss: 1.030594  [32064/60000]\n",
            "loss: 1.060463  [38464/60000]\n",
            "loss: 1.005810  [44864/60000]\n",
            "loss: 1.043033  [51264/60000]\n",
            "loss: 0.976078  [57664/60000]\n",
            "Test Error: \n",
            " Accuracy: 65.8%, Avg loss: 0.985002 \n",
            "\n",
            "Epoch 7\n",
            "-------------------------------\n",
            "loss: 1.040975  [   64/60000]\n",
            "loss: 1.067808  [ 6464/60000]\n",
            "loss: 0.865876  [12864/60000]\n",
            "loss: 1.021525  [19264/60000]\n",
            "loss: 0.909332  [25664/60000]\n",
            "loss: 0.937778  [32064/60000]\n",
            "loss: 0.985934  [38464/60000]\n",
            "loss: 0.931859  [44864/60000]\n",
            "loss: 0.963059  [51264/60000]\n",
            "loss: 0.912373  [57664/60000]\n",
            "Test Error: \n",
            " Accuracy: 67.2%, Avg loss: 0.912822 \n",
            "\n",
            "Epoch 8\n",
            "-------------------------------\n",
            "loss: 0.952554  [   64/60000]\n",
            "loss: 1.001626  [ 6464/60000]\n",
            "loss: 0.784562  [12864/60000]\n",
            "loss: 0.956259  [19264/60000]\n",
            "loss: 0.852557  [25664/60000]\n",
            "loss: 0.869442  [32064/60000]\n",
            "loss: 0.933211  [38464/60000]\n",
            "loss: 0.881931  [44864/60000]\n",
            "loss: 0.904810  [51264/60000]\n",
            "loss: 0.866337  [57664/60000]\n",
            "Test Error: \n",
            " Accuracy: 68.4%, Avg loss: 0.860481 \n",
            "\n",
            "Epoch 9\n",
            "-------------------------------\n",
            "loss: 0.884376  [   64/60000]\n",
            "loss: 0.951825  [ 6464/60000]\n",
            "loss: 0.723847  [12864/60000]\n",
            "loss: 0.906941  [19264/60000]\n",
            "loss: 0.812216  [25664/60000]\n",
            "loss: 0.817377  [32064/60000]\n",
            "loss: 0.892998  [38464/60000]\n",
            "loss: 0.846888  [44864/60000]\n",
            "loss: 0.861003  [51264/60000]\n",
            "loss: 0.830894  [57664/60000]\n",
            "Test Error: \n",
            " Accuracy: 69.8%, Avg loss: 0.820657 \n",
            "\n",
            "Epoch 10\n",
            "-------------------------------\n",
            "loss: 0.830079  [   64/60000]\n",
            "loss: 0.911783  [ 6464/60000]\n",
            "loss: 0.676856  [12864/60000]\n",
            "loss: 0.868523  [19264/60000]\n",
            "loss: 0.781667  [25664/60000]\n",
            "loss: 0.777038  [32064/60000]\n",
            "loss: 0.860282  [38464/60000]\n",
            "loss: 0.820837  [44864/60000]\n",
            "loss: 0.827150  [51264/60000]\n",
            "loss: 0.802355  [57664/60000]\n",
            "Test Error: \n",
            " Accuracy: 70.9%, Avg loss: 0.789071 \n",
            "\n",
            "Done!\n",
            "Saved PyTorch Model State to model.pth\n"
          ]
        }
      ],
      "source": [
        "epochs = 10\n",
        "for t in range(epochs):\n",
        "    print(f\"Epoch {t+1}\\n-------------------------------\")\n",
        "    train(train_dataloader, model, loss_fn, optimizer)\n",
        "    test(test_dataloader, model, loss_fn)\n",
        "print(\"Done!\")\n",
        "torch.save(model.state_dict(), \"model.pth\")\n",
        "print(\"Saved PyTorch Model State to model.pth\")"
      ]
    },
    {
      "cell_type": "markdown",
      "metadata": {
        "id": "DtwLdQB_gxmw"
      },
      "source": [
        "# Task 1\n",
        "Build graphic for the learning process."
      ]
    },
    {
      "cell_type": "markdown",
      "metadata": {
        "id": "uqni5LlXhD7B"
      },
      "source": [
        "1. Load/Save models"
      ]
    },
    {
      "cell_type": "code",
      "execution_count": 29,
      "metadata": {
        "id": "T2W555JshEsU"
      },
      "outputs": [],
      "source": [
        "def createModel():\n",
        "    model = NeuralNetwork().to(device)\n",
        "    model.load_state_dict(torch.load(\"model.pth\", map_location=device))  # загружаем обученные веса\n",
        "    model.eval()\n",
        "    return model"
      ]
    },
    {
      "cell_type": "code",
      "execution_count": 30,
      "metadata": {
        "id": "TzPeyAvyhLsN"
      },
      "outputs": [],
      "source": [
        "def check_classes(model, test_data, device):\n",
        "    classes = [\n",
        "        \"T-shirt/top\", \"Trouser\", \"Pullover\", \"Dress\", \"Coat\",\n",
        "        \"Sandal\", \"Shirt\", \"Sneaker\", \"Bag\", \"Ankle boot\",\n",
        "    ]\n",
        "\n",
        "    model.eval()\n",
        "    image, label = test_data[0]                     # Загружаем первый пример\n",
        "    image = image.unsqueeze(0).to(device)           # Добавляем batch и переносим на device\n",
        "\n",
        "    with torch.no_grad():\n",
        "        output = model(image)                       # Предсказание\n",
        "        predicted_class = output.argmax(1).item()   # Индекс наибольшего логита\n",
        "\n",
        "    predicted = classes[predicted_class]\n",
        "    actual = classes[label]\n",
        "\n",
        "    return predicted, actual"
      ]
    },
    {
      "cell_type": "code",
      "execution_count": 32,
      "metadata": {
        "colab": {
          "base_uri": "https://localhost:8080/"
        },
        "id": "-h5sZ7xxZwoX",
        "outputId": "3d706e20-90a7-46c1-c974-66096ae09f67"
      },
      "outputs": [
        {
          "output_type": "stream",
          "name": "stderr",
          "text": [
            ".\n",
            "----------------------------------------------------------------------\n",
            "Ran 1 test in 0.011s\n",
            "\n",
            "OK\n"
          ]
        },
        {
          "output_type": "stream",
          "name": "stdout",
          "text": [
            "Student Score: 20/15\n"
          ]
        }
      ],
      "source": [
        "import unittest\n",
        "import cv2\n",
        "import numpy as np\n",
        "\n",
        "class TestImageFilters(unittest.TestCase):\n",
        "\n",
        "    def test_model_creation(self):\n",
        "        # Загрузка изображения\n",
        "        model = createModel()\n",
        "        predicted, actual = check_classes(model, test_data, device)\n",
        "        self.assertEqual(predicted, actual, \"Prediction wrong\")\n",
        "        global score\n",
        "        score=score+5\n",
        "\n",
        "# Run unit tests\n",
        "if __name__ == \"__main__\":\n",
        "    unittest.main(argv=['first-arg-is-ignored'], exit=False)\n",
        "    print(f\"Student Score: {score}/{max_score}\")"
      ]
    },
    {
      "cell_type": "code",
      "execution_count": 24,
      "metadata": {
        "colab": {
          "base_uri": "https://localhost:8080/"
        },
        "id": "QGzYB4hH8v_z",
        "outputId": "3bbe8b8b-0612-4b57-ea88-4aa6fe86c97f"
      },
      "outputs": [
        {
          "output_type": "stream",
          "name": "stdout",
          "text": [
            "Predicted: \"Ankle boot\", Actual: \"Ankle boot\"\n"
          ]
        }
      ],
      "source": [
        "model = createModel()\n",
        "predicted, actual = check_classes(model, test_data, device)\n",
        "print(f'Predicted: \"{predicted}\", Actual: \"{actual}\"')"
      ]
    },
    {
      "cell_type": "markdown",
      "metadata": {
        "id": "kQD5KIm5blAF"
      },
      "source": [
        "# Task 2. Improve training"
      ]
    },
    {
      "cell_type": "code",
      "execution_count": 33,
      "metadata": {
        "id": "gamvSRTcboH0"
      },
      "outputs": [],
      "source": [
        "import torch.optim as optim\n",
        "\n",
        "# Improve Model Function\n",
        "def improveModel():\n",
        "    epochs = 10\n",
        "    global device\n",
        "\n",
        "    optimizer = optim.Adam(model.parameters(), lr=0.001)\n",
        "\n",
        "    for t in range(epochs):\n",
        "        print(f\"Epoch {t+1}\\n-------------------------------\")\n",
        "        train(train_dataloader, model, loss_fn, optimizer)\n",
        "\n",
        "        acc, loss = test(test_dataloader, model, loss_fn)\n",
        "\n",
        "        print(f\"Test Accuracy after Epoch {t+1}: {acc:.2f}%\")\n",
        "        print(f\"Test Loss after Epoch {t+1}: {loss:.4f}\")\n",
        "\n",
        "    return acc, loss"
      ]
    },
    {
      "cell_type": "code",
      "execution_count": 34,
      "metadata": {
        "colab": {
          "base_uri": "https://localhost:8080/"
        },
        "id": "pZr5tBhkciK7",
        "outputId": "35bc0ddb-c32f-45dc-8719-7666c7997bb0"
      },
      "outputs": [
        {
          "output_type": "stream",
          "name": "stdout",
          "text": [
            "Epoch 1\n",
            "-------------------------------\n",
            "loss: 0.125967  [   64/60000]\n",
            "loss: 0.232315  [ 6464/60000]\n",
            "loss: 0.146674  [12864/60000]\n",
            "loss: 0.148039  [19264/60000]\n",
            "loss: 0.248617  [25664/60000]\n",
            "loss: 0.222687  [32064/60000]\n",
            "loss: 0.182378  [38464/60000]\n",
            "loss: 0.195509  [44864/60000]\n",
            "loss: 0.160267  [51264/60000]\n",
            "loss: 0.186026  [57664/60000]\n",
            "Test Error: \n",
            " Accuracy: 87.6%, Avg loss: 0.390789 \n",
            "\n",
            "Test Accuracy after Epoch 1: 87.60%\n",
            "Test Loss after Epoch 1: 0.3908\n",
            "Epoch 2\n",
            "-------------------------------\n",
            "loss: 0.084426  [   64/60000]\n",
            "loss: 0.165749  [ 6464/60000]\n",
            "loss: 0.142527  [12864/60000]\n",
            "loss: 0.138278  [19264/60000]\n",
            "loss: 0.206158  [25664/60000]\n",
            "loss: 0.263598  [32064/60000]\n",
            "loss: 0.159582  [38464/60000]\n",
            "loss: 0.202880  [44864/60000]\n",
            "loss: 0.139035  [51264/60000]\n",
            "loss: 0.190578  [57664/60000]\n",
            "Test Error: \n",
            " Accuracy: 87.5%, Avg loss: 0.414339 \n",
            "\n",
            "Test Accuracy after Epoch 2: 87.46%\n",
            "Test Loss after Epoch 2: 0.4143\n",
            "Epoch 3\n",
            "-------------------------------\n",
            "loss: 0.093359  [   64/60000]\n",
            "loss: 0.179762  [ 6464/60000]\n",
            "loss: 0.184676  [12864/60000]\n",
            "loss: 0.175830  [19264/60000]\n",
            "loss: 0.344083  [25664/60000]\n",
            "loss: 0.230815  [32064/60000]\n",
            "loss: 0.144708  [38464/60000]\n",
            "loss: 0.235613  [44864/60000]\n",
            "loss: 0.186656  [51264/60000]\n",
            "loss: 0.187823  [57664/60000]\n",
            "Test Error: \n",
            " Accuracy: 87.5%, Avg loss: 0.427561 \n",
            "\n",
            "Test Accuracy after Epoch 3: 87.45%\n",
            "Test Loss after Epoch 3: 0.4276\n",
            "Epoch 4\n",
            "-------------------------------\n",
            "loss: 0.092878  [   64/60000]\n",
            "loss: 0.170528  [ 6464/60000]\n",
            "loss: 0.149819  [12864/60000]\n",
            "loss: 0.132223  [19264/60000]\n",
            "loss: 0.351295  [25664/60000]\n",
            "loss: 0.223989  [32064/60000]\n",
            "loss: 0.145962  [38464/60000]\n",
            "loss: 0.163551  [44864/60000]\n",
            "loss: 0.152263  [51264/60000]\n",
            "loss: 0.161975  [57664/60000]\n",
            "Test Error: \n",
            " Accuracy: 87.9%, Avg loss: 0.429234 \n",
            "\n",
            "Test Accuracy after Epoch 4: 87.94%\n",
            "Test Loss after Epoch 4: 0.4292\n",
            "Epoch 5\n",
            "-------------------------------\n",
            "loss: 0.085795  [   64/60000]\n",
            "loss: 0.144598  [ 6464/60000]\n",
            "loss: 0.125156  [12864/60000]\n",
            "loss: 0.140476  [19264/60000]\n",
            "loss: 0.205801  [25664/60000]\n",
            "loss: 0.217373  [32064/60000]\n",
            "loss: 0.140515  [38464/60000]\n",
            "loss: 0.142021  [44864/60000]\n",
            "loss: 0.193719  [51264/60000]\n",
            "loss: 0.182964  [57664/60000]\n",
            "Test Error: \n",
            " Accuracy: 88.2%, Avg loss: 0.398587 \n",
            "\n",
            "Test Accuracy after Epoch 5: 88.21%\n",
            "Test Loss after Epoch 5: 0.3986\n",
            "Epoch 6\n",
            "-------------------------------\n",
            "loss: 0.072473  [   64/60000]\n",
            "loss: 0.134731  [ 6464/60000]\n",
            "loss: 0.144004  [12864/60000]\n",
            "loss: 0.124056  [19264/60000]\n",
            "loss: 0.182122  [25664/60000]\n",
            "loss: 0.184288  [32064/60000]\n",
            "loss: 0.133457  [38464/60000]\n",
            "loss: 0.199446  [44864/60000]\n",
            "loss: 0.161494  [51264/60000]\n",
            "loss: 0.171486  [57664/60000]\n",
            "Test Error: \n",
            " Accuracy: 88.4%, Avg loss: 0.399805 \n",
            "\n",
            "Test Accuracy after Epoch 6: 88.41%\n",
            "Test Loss after Epoch 6: 0.3998\n",
            "Epoch 7\n",
            "-------------------------------\n",
            "loss: 0.113397  [   64/60000]\n",
            "loss: 0.081641  [ 6464/60000]\n",
            "loss: 0.118744  [12864/60000]\n",
            "loss: 0.139019  [19264/60000]\n",
            "loss: 0.266238  [25664/60000]\n",
            "loss: 0.188789  [32064/60000]\n",
            "loss: 0.122821  [38464/60000]\n",
            "loss: 0.195470  [44864/60000]\n",
            "loss: 0.160630  [51264/60000]\n",
            "loss: 0.117150  [57664/60000]\n",
            "Test Error: \n",
            " Accuracy: 88.1%, Avg loss: 0.441103 \n",
            "\n",
            "Test Accuracy after Epoch 7: 88.14%\n",
            "Test Loss after Epoch 7: 0.4411\n",
            "Epoch 8\n",
            "-------------------------------\n",
            "loss: 0.142461  [   64/60000]\n",
            "loss: 0.221486  [ 6464/60000]\n",
            "loss: 0.146589  [12864/60000]\n",
            "loss: 0.109023  [19264/60000]\n",
            "loss: 0.147387  [25664/60000]\n",
            "loss: 0.198862  [32064/60000]\n",
            "loss: 0.104765  [38464/60000]\n",
            "loss: 0.185638  [44864/60000]\n",
            "loss: 0.159728  [51264/60000]\n",
            "loss: 0.153839  [57664/60000]\n",
            "Test Error: \n",
            " Accuracy: 88.1%, Avg loss: 0.436844 \n",
            "\n",
            "Test Accuracy after Epoch 8: 88.10%\n",
            "Test Loss after Epoch 8: 0.4368\n",
            "Epoch 9\n",
            "-------------------------------\n",
            "loss: 0.127160  [   64/60000]\n",
            "loss: 0.098568  [ 6464/60000]\n",
            "loss: 0.074851  [12864/60000]\n",
            "loss: 0.140846  [19264/60000]\n",
            "loss: 0.168790  [25664/60000]\n",
            "loss: 0.254413  [32064/60000]\n",
            "loss: 0.111678  [38464/60000]\n",
            "loss: 0.143712  [44864/60000]\n",
            "loss: 0.201326  [51264/60000]\n",
            "loss: 0.157024  [57664/60000]\n",
            "Test Error: \n",
            " Accuracy: 88.1%, Avg loss: 0.459043 \n",
            "\n",
            "Test Accuracy after Epoch 9: 88.06%\n",
            "Test Loss after Epoch 9: 0.4590\n",
            "Epoch 10\n",
            "-------------------------------\n",
            "loss: 0.084363  [   64/60000]\n",
            "loss: 0.096770  [ 6464/60000]\n",
            "loss: 0.115459  [12864/60000]\n",
            "loss: 0.156607  [19264/60000]\n",
            "loss: 0.131651  [25664/60000]\n",
            "loss: 0.177339  [32064/60000]\n",
            "loss: 0.106133  [38464/60000]\n",
            "loss: 0.213438  [44864/60000]\n",
            "loss: 0.170670  [51264/60000]\n",
            "loss: 0.193303  [57664/60000]\n"
          ]
        },
        {
          "output_type": "stream",
          "name": "stderr",
          "text": [
            ".\n",
            "----------------------------------------------------------------------\n",
            "Ran 1 test in 81.289s\n",
            "\n",
            "OK\n"
          ]
        },
        {
          "output_type": "stream",
          "name": "stdout",
          "text": [
            "Test Error: \n",
            " Accuracy: 88.1%, Avg loss: 0.481224 \n",
            "\n",
            "Test Accuracy after Epoch 10: 88.15%\n",
            "Test Loss after Epoch 10: 0.4812\n",
            "Student Score: 30/15\n"
          ]
        }
      ],
      "source": [
        "import unittest\n",
        "import cv2\n",
        "import numpy as np\n",
        "\n",
        "class TestImageFilters(unittest.TestCase):\n",
        "\n",
        "    def test_model_improve(self):\n",
        "        acc, loss = improveModel()\n",
        "        self.assertGreaterEqual(acc, 80, \"Model is not accurate\")\n",
        "        global score\n",
        "        score=score+10\n",
        "\n",
        "# Run unit tests\n",
        "if __name__ == \"__main__\":\n",
        "    unittest.main(argv=['first-arg-is-ignored'], exit=False)\n",
        "    print(f\"Student Score: {score}/{max_score}\")"
      ]
    },
    {
      "cell_type": "code",
      "execution_count": null,
      "metadata": {
        "id": "dyN4YekF9I1T",
        "colab": {
          "base_uri": "https://localhost:8080/"
        },
        "outputId": "5b73ceb2-2b24-4c17-cda5-890c1a410c60"
      },
      "outputs": [
        {
          "output_type": "stream",
          "name": "stdout",
          "text": [
            "Test completed! ELON MUSK, your score is 5/15.\n"
          ]
        }
      ],
      "source": [
        "# DO NOT MODIFY  !!!\n",
        "# DO NOT EXECUTE !!!\n",
        "# Save the result to Google Sheets\n",
        "worksheet.append_row([student_name,group_id, task_id, score])\n",
        "\n",
        "print(f\"Test completed! {student_name}, your score is {score}/{max_score}.\")"
      ]
    }
  ],
  "metadata": {
    "accelerator": "GPU",
    "colab": {
      "gpuType": "T4",
      "machine_shape": "hm",
      "provenance": [],
      "include_colab_link": true
    },
    "kernelspec": {
      "display_name": "Python 3",
      "name": "python3"
    },
    "language_info": {
      "name": "python"
    }
  },
  "nbformat": 4,
  "nbformat_minor": 0
}
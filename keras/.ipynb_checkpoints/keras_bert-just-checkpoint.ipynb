{
 "cells": [
  {
   "cell_type": "markdown",
   "id": "36d7fb4f",
   "metadata": {
    "colab_type": "text",
    "id": "view-in-github"
   },
   "source": [
    "<a href=\"https://colab.research.google.com/github/alexander-toschev/ai-tools/blob/main/keras/keras_bert.ipynb\" target=\"_parent\"><img src=\"https://colab.research.google.com/assets/colab-badge.svg\" alt=\"Open In Colab\"/></a>"
   ]
  },
  {
   "cell_type": "markdown",
   "id": "f0ce80d7",
   "metadata": {
    "id": "f0ce80d7"
   },
   "source": [
    "# 🧠 Keras NLP Showcase\n",
    "Демонстрация основных возможностей Keras для обработки естественного языка (NLP)."
   ]
  },
  {
   "cell_type": "code",
   "execution_count": 1,
   "id": "6b7fdebd",
   "metadata": {
    "colab": {
     "base_uri": "https://localhost:8080/"
    },
    "id": "6b7fdebd",
    "outputId": "9aeffc82-cc66-4684-da8f-bc2daac33e8d"
   },
   "outputs": [
    {
     "name": "stdout",
     "output_type": "stream",
     "text": [
      "Requirement already satisfied: matplotlib in /Users/alex/miniforge3/envs/macml/lib/python3.9/site-packages (3.9.4)\n",
      "Requirement already satisfied: contourpy>=1.0.1 in /Users/alex/miniforge3/envs/macml/lib/python3.9/site-packages (from matplotlib) (1.3.0)\n",
      "Requirement already satisfied: cycler>=0.10 in /Users/alex/miniforge3/envs/macml/lib/python3.9/site-packages (from matplotlib) (0.12.1)\n",
      "Requirement already satisfied: fonttools>=4.22.0 in /Users/alex/miniforge3/envs/macml/lib/python3.9/site-packages (from matplotlib) (4.57.0)\n",
      "Requirement already satisfied: kiwisolver>=1.3.1 in /Users/alex/miniforge3/envs/macml/lib/python3.9/site-packages (from matplotlib) (1.4.7)\n",
      "Requirement already satisfied: numpy>=1.23 in /Users/alex/miniforge3/envs/macml/lib/python3.9/site-packages (from matplotlib) (1.24.3)\n",
      "Requirement already satisfied: packaging>=20.0 in /Users/alex/miniforge3/envs/macml/lib/python3.9/site-packages (from matplotlib) (24.2)\n",
      "Requirement already satisfied: pillow>=8 in /Users/alex/miniforge3/envs/macml/lib/python3.9/site-packages (from matplotlib) (11.1.0)\n",
      "Requirement already satisfied: pyparsing>=2.3.1 in /Users/alex/miniforge3/envs/macml/lib/python3.9/site-packages (from matplotlib) (3.2.3)\n",
      "Requirement already satisfied: python-dateutil>=2.7 in /Users/alex/miniforge3/envs/macml/lib/python3.9/site-packages (from matplotlib) (2.9.0.post0)\n",
      "Requirement already satisfied: importlib-resources>=3.2.0 in /Users/alex/miniforge3/envs/macml/lib/python3.9/site-packages (from matplotlib) (6.5.2)\n",
      "Requirement already satisfied: zipp>=3.1.0 in /Users/alex/miniforge3/envs/macml/lib/python3.9/site-packages (from importlib-resources>=3.2.0->matplotlib) (3.21.0)\n",
      "Requirement already satisfied: six>=1.5 in /Users/alex/miniforge3/envs/macml/lib/python3.9/site-packages (from python-dateutil>=2.7->matplotlib) (1.17.0)\n",
      "TensorFlow version: 2.17.1\n",
      "GPU available: [PhysicalDevice(name='/physical_device:GPU:0', device_type='GPU')]\n"
     ]
    }
   ],
   "source": [
    "# 📦 Установка и импорт\n",
    "!pip install matplotlib\n",
    "import tensorflow as tf\n",
    "import numpy as np\n",
    "import matplotlib.pyplot as plt\n",
    "\n",
    "print(\"TensorFlow version:\", tf.__version__)\n",
    "print(\"GPU available:\", tf.config.list_physical_devices('GPU'))\n"
   ]
  },
  {
   "cell_type": "markdown",
   "id": "2cf77345",
   "metadata": {
    "id": "2cf77345"
   },
   "source": [
    "## 🔹 5. Предобученный BERT (TF Hub)"
   ]
  },
  {
   "cell_type": "code",
   "execution_count": 2,
   "id": "N8i1njT0tqmC",
   "metadata": {
    "colab": {
     "base_uri": "https://localhost:8080/"
    },
    "id": "N8i1njT0tqmC",
    "outputId": "04d86dd7-1130-42b8-d273-a16924a56e77"
   },
   "outputs": [
    {
     "name": "stdout",
     "output_type": "stream",
     "text": [
      "GPUs available: [PhysicalDevice(name='/physical_device:GPU:0', device_type='GPU')]\n"
     ]
    }
   ],
   "source": [
    "import tensorflow as tf\n",
    "print(\"GPUs available:\", tf.config.list_physical_devices('GPU'))"
   ]
  },
  {
   "cell_type": "code",
   "execution_count": 3,
   "id": "UitFBheFnq9r",
   "metadata": {
    "id": "UitFBheFnq9r"
   },
   "outputs": [],
   "source": [
    "import os\n",
    "import shutil\n",
    "\n",
    "import tensorflow as tf\n",
    "import tensorflow_hub as hub\n",
    "import tensorflow_text as text\n",
    "from official.nlp import optimization  # to create AdamW optimizer\n",
    "\n",
    "import matplotlib.pyplot as plt\n",
    "\n",
    "tf.get_logger().setLevel('ERROR')"
   ]
  },
  {
   "cell_type": "code",
   "execution_count": 4,
   "id": "830065f4",
   "metadata": {
    "colab": {
     "base_uri": "https://localhost:8080/"
    },
    "id": "830065f4",
    "outputId": "38056fb0-623c-4147-f228-d3fee603d4e1"
   },
   "outputs": [],
   "source": [
    "url = 'https://ai.stanford.edu/~amaas/data/sentiment/aclImdb_v1.tar.gz'\n",
    "\n",
    "dataset = tf.keras.utils.get_file('aclImdb_v1.tar.gz', url,\n",
    "                                  untar=True, cache_dir='.',\n",
    "                                  cache_subdir='')\n",
    "\n",
    "dataset_dir = os.path.join(os.path.dirname(dataset), 'aclImdb')\n",
    "\n",
    "train_dir = os.path.join(dataset_dir, 'train')\n",
    "\n",
    "# remove unused folders to make it easier to load the data\n",
    "#remove_dir = os.path.join(train_dir, 'unsup')\n",
    "#shutil.rmtree(remove_dir)"
   ]
  },
  {
   "cell_type": "code",
   "execution_count": 5,
   "id": "d9ffbd56-8682-41cc-a16e-4c6ab5158b6a",
   "metadata": {},
   "outputs": [
    {
     "name": "stdout",
     "output_type": "stream",
     "text": [
      "Requirement already satisfied: tensorflow-text==2.17.* in /Users/alex/miniforge3/envs/macml/lib/python3.9/site-packages (2.17.0)\n",
      "Requirement already satisfied: tensorflow<2.18,>=2.17.0 in /Users/alex/miniforge3/envs/macml/lib/python3.9/site-packages (from tensorflow-text==2.17.*) (2.17.1)\n",
      "Requirement already satisfied: absl-py>=1.0.0 in /Users/alex/miniforge3/envs/macml/lib/python3.9/site-packages (from tensorflow<2.18,>=2.17.0->tensorflow-text==2.17.*) (1.4.0)\n",
      "Requirement already satisfied: astunparse>=1.6.0 in /Users/alex/miniforge3/envs/macml/lib/python3.9/site-packages (from tensorflow<2.18,>=2.17.0->tensorflow-text==2.17.*) (1.6.3)\n",
      "Requirement already satisfied: flatbuffers>=24.3.25 in /Users/alex/miniforge3/envs/macml/lib/python3.9/site-packages (from tensorflow<2.18,>=2.17.0->tensorflow-text==2.17.*) (25.2.10)\n",
      "Requirement already satisfied: gast!=0.5.0,!=0.5.1,!=0.5.2,>=0.2.1 in /Users/alex/miniforge3/envs/macml/lib/python3.9/site-packages (from tensorflow<2.18,>=2.17.0->tensorflow-text==2.17.*) (0.4.0)\n",
      "Requirement already satisfied: google-pasta>=0.1.1 in /Users/alex/miniforge3/envs/macml/lib/python3.9/site-packages (from tensorflow<2.18,>=2.17.0->tensorflow-text==2.17.*) (0.2.0)\n",
      "Requirement already satisfied: h5py>=3.10.0 in /Users/alex/miniforge3/envs/macml/lib/python3.9/site-packages (from tensorflow<2.18,>=2.17.0->tensorflow-text==2.17.*) (3.13.0)\n",
      "Requirement already satisfied: libclang>=13.0.0 in /Users/alex/miniforge3/envs/macml/lib/python3.9/site-packages (from tensorflow<2.18,>=2.17.0->tensorflow-text==2.17.*) (18.1.1)\n",
      "Requirement already satisfied: ml-dtypes<0.5.0,>=0.3.1 in /Users/alex/miniforge3/envs/macml/lib/python3.9/site-packages (from tensorflow<2.18,>=2.17.0->tensorflow-text==2.17.*) (0.4.1)\n",
      "Requirement already satisfied: opt-einsum>=2.3.2 in /Users/alex/miniforge3/envs/macml/lib/python3.9/site-packages (from tensorflow<2.18,>=2.17.0->tensorflow-text==2.17.*) (3.4.0)\n",
      "Requirement already satisfied: packaging in /Users/alex/miniforge3/envs/macml/lib/python3.9/site-packages (from tensorflow<2.18,>=2.17.0->tensorflow-text==2.17.*) (24.2)\n",
      "Requirement already satisfied: protobuf!=4.21.0,!=4.21.1,!=4.21.2,!=4.21.3,!=4.21.4,!=4.21.5,<5.0.0dev,>=3.20.3 in /Users/alex/miniforge3/envs/macml/lib/python3.9/site-packages (from tensorflow<2.18,>=2.17.0->tensorflow-text==2.17.*) (4.21.12)\n",
      "Requirement already satisfied: requests<3,>=2.21.0 in /Users/alex/miniforge3/envs/macml/lib/python3.9/site-packages (from tensorflow<2.18,>=2.17.0->tensorflow-text==2.17.*) (2.32.3)\n",
      "Requirement already satisfied: setuptools in /Users/alex/miniforge3/envs/macml/lib/python3.9/site-packages (from tensorflow<2.18,>=2.17.0->tensorflow-text==2.17.*) (78.1.0)\n",
      "Requirement already satisfied: six>=1.12.0 in /Users/alex/miniforge3/envs/macml/lib/python3.9/site-packages (from tensorflow<2.18,>=2.17.0->tensorflow-text==2.17.*) (1.17.0)\n",
      "Requirement already satisfied: termcolor>=1.1.0 in /Users/alex/miniforge3/envs/macml/lib/python3.9/site-packages (from tensorflow<2.18,>=2.17.0->tensorflow-text==2.17.*) (3.0.1)\n",
      "Requirement already satisfied: typing-extensions>=3.6.6 in /Users/alex/miniforge3/envs/macml/lib/python3.9/site-packages (from tensorflow<2.18,>=2.17.0->tensorflow-text==2.17.*) (4.5.0)\n",
      "Requirement already satisfied: wrapt>=1.11.0 in /Users/alex/miniforge3/envs/macml/lib/python3.9/site-packages (from tensorflow<2.18,>=2.17.0->tensorflow-text==2.17.*) (1.14.1)\n",
      "Requirement already satisfied: grpcio<2.0,>=1.24.3 in /Users/alex/miniforge3/envs/macml/lib/python3.9/site-packages (from tensorflow<2.18,>=2.17.0->tensorflow-text==2.17.*) (1.54.3)\n",
      "Requirement already satisfied: tensorboard<2.18,>=2.17 in /Users/alex/miniforge3/envs/macml/lib/python3.9/site-packages (from tensorflow<2.18,>=2.17.0->tensorflow-text==2.17.*) (2.17.1)\n",
      "Requirement already satisfied: keras>=3.2.0 in /Users/alex/miniforge3/envs/macml/lib/python3.9/site-packages (from tensorflow<2.18,>=2.17.0->tensorflow-text==2.17.*) (3.9.2)\n",
      "Requirement already satisfied: tensorflow-io-gcs-filesystem>=0.23.1 in /Users/alex/miniforge3/envs/macml/lib/python3.9/site-packages (from tensorflow<2.18,>=2.17.0->tensorflow-text==2.17.*) (0.37.1)\n",
      "Requirement already satisfied: numpy<2.0.0,>=1.23.5 in /Users/alex/miniforge3/envs/macml/lib/python3.9/site-packages (from tensorflow<2.18,>=2.17.0->tensorflow-text==2.17.*) (1.24.3)\n",
      "Requirement already satisfied: rich in /Users/alex/miniforge3/envs/macml/lib/python3.9/site-packages (from keras>=3.2.0->tensorflow<2.18,>=2.17.0->tensorflow-text==2.17.*) (14.0.0)\n",
      "Requirement already satisfied: namex in /Users/alex/miniforge3/envs/macml/lib/python3.9/site-packages (from keras>=3.2.0->tensorflow<2.18,>=2.17.0->tensorflow-text==2.17.*) (0.0.8)\n",
      "Requirement already satisfied: optree in /Users/alex/miniforge3/envs/macml/lib/python3.9/site-packages (from keras>=3.2.0->tensorflow<2.18,>=2.17.0->tensorflow-text==2.17.*) (0.15.0)\n",
      "Requirement already satisfied: charset_normalizer<4,>=2 in /Users/alex/miniforge3/envs/macml/lib/python3.9/site-packages (from requests<3,>=2.21.0->tensorflow<2.18,>=2.17.0->tensorflow-text==2.17.*) (3.4.1)\n",
      "Requirement already satisfied: idna<4,>=2.5 in /Users/alex/miniforge3/envs/macml/lib/python3.9/site-packages (from requests<3,>=2.21.0->tensorflow<2.18,>=2.17.0->tensorflow-text==2.17.*) (3.10)\n",
      "Requirement already satisfied: urllib3<3,>=1.21.1 in /Users/alex/miniforge3/envs/macml/lib/python3.9/site-packages (from requests<3,>=2.21.0->tensorflow<2.18,>=2.17.0->tensorflow-text==2.17.*) (2.3.0)\n",
      "Requirement already satisfied: certifi>=2017.4.17 in /Users/alex/miniforge3/envs/macml/lib/python3.9/site-packages (from requests<3,>=2.21.0->tensorflow<2.18,>=2.17.0->tensorflow-text==2.17.*) (2025.1.31)\n",
      "Requirement already satisfied: markdown>=2.6.8 in /Users/alex/miniforge3/envs/macml/lib/python3.9/site-packages (from tensorboard<2.18,>=2.17->tensorflow<2.18,>=2.17.0->tensorflow-text==2.17.*) (3.6)\n",
      "Requirement already satisfied: tensorboard-data-server<0.8.0,>=0.7.0 in /Users/alex/miniforge3/envs/macml/lib/python3.9/site-packages (from tensorboard<2.18,>=2.17->tensorflow<2.18,>=2.17.0->tensorflow-text==2.17.*) (0.7.0)\n",
      "Requirement already satisfied: werkzeug>=1.0.1 in /Users/alex/miniforge3/envs/macml/lib/python3.9/site-packages (from tensorboard<2.18,>=2.17->tensorflow<2.18,>=2.17.0->tensorflow-text==2.17.*) (3.1.3)\n",
      "Requirement already satisfied: importlib-metadata>=4.4 in /Users/alex/miniforge3/envs/macml/lib/python3.9/site-packages (from markdown>=2.6.8->tensorboard<2.18,>=2.17->tensorflow<2.18,>=2.17.0->tensorflow-text==2.17.*) (8.6.1)\n",
      "Requirement already satisfied: MarkupSafe>=2.1.1 in /Users/alex/miniforge3/envs/macml/lib/python3.9/site-packages (from werkzeug>=1.0.1->tensorboard<2.18,>=2.17->tensorflow<2.18,>=2.17.0->tensorflow-text==2.17.*) (3.0.2)\n",
      "Requirement already satisfied: markdown-it-py>=2.2.0 in /Users/alex/miniforge3/envs/macml/lib/python3.9/site-packages (from rich->keras>=3.2.0->tensorflow<2.18,>=2.17.0->tensorflow-text==2.17.*) (3.0.0)\n",
      "Requirement already satisfied: pygments<3.0.0,>=2.13.0 in /Users/alex/miniforge3/envs/macml/lib/python3.9/site-packages (from rich->keras>=3.2.0->tensorflow<2.18,>=2.17.0->tensorflow-text==2.17.*) (2.19.1)\n",
      "Requirement already satisfied: zipp>=3.20 in /Users/alex/miniforge3/envs/macml/lib/python3.9/site-packages (from importlib-metadata>=4.4->markdown>=2.6.8->tensorboard<2.18,>=2.17->tensorflow<2.18,>=2.17.0->tensorflow-text==2.17.*) (3.21.0)\n",
      "Requirement already satisfied: mdurl~=0.1 in /Users/alex/miniforge3/envs/macml/lib/python3.9/site-packages (from markdown-it-py>=2.2.0->rich->keras>=3.2.0->tensorflow<2.18,>=2.17.0->tensorflow-text==2.17.*) (0.1.2)\n"
     ]
    }
   ],
   "source": [
    "# A dependency of the preprocessing for BERT inputs\n",
    "!pip install  \"tensorflow-text==2.17.*\""
   ]
  },
  {
   "cell_type": "code",
   "execution_count": 6,
   "id": "6b31c27d-80e1-40a9-bcec-d0e8cf9cdf85",
   "metadata": {},
   "outputs": [
    {
     "name": "stdout",
     "output_type": "stream",
     "text": [
      "Requirement already satisfied: tf-models-official==2.17.* in /Users/alex/miniforge3/envs/macml/lib/python3.9/site-packages (2.17.0)\n",
      "Requirement already satisfied: Cython in /Users/alex/miniforge3/envs/macml/lib/python3.9/site-packages (from tf-models-official==2.17.*) (3.0.12)\n",
      "Requirement already satisfied: Pillow in /Users/alex/miniforge3/envs/macml/lib/python3.9/site-packages (from tf-models-official==2.17.*) (11.1.0)\n",
      "Requirement already satisfied: gin-config in /Users/alex/miniforge3/envs/macml/lib/python3.9/site-packages (from tf-models-official==2.17.*) (0.5.0)\n",
      "Requirement already satisfied: google-api-python-client>=1.6.7 in /Users/alex/miniforge3/envs/macml/lib/python3.9/site-packages (from tf-models-official==2.17.*) (2.166.0)\n",
      "Requirement already satisfied: immutabledict in /Users/alex/miniforge3/envs/macml/lib/python3.9/site-packages (from tf-models-official==2.17.*) (4.2.1)\n",
      "Requirement already satisfied: kaggle>=1.3.9 in /Users/alex/miniforge3/envs/macml/lib/python3.9/site-packages (from tf-models-official==2.17.*) (1.7.4.2)\n",
      "Requirement already satisfied: matplotlib in /Users/alex/miniforge3/envs/macml/lib/python3.9/site-packages (from tf-models-official==2.17.*) (3.9.4)\n",
      "Requirement already satisfied: numpy>=1.20 in /Users/alex/miniforge3/envs/macml/lib/python3.9/site-packages (from tf-models-official==2.17.*) (1.24.3)\n",
      "Requirement already satisfied: oauth2client in /Users/alex/miniforge3/envs/macml/lib/python3.9/site-packages (from tf-models-official==2.17.*) (4.1.3)\n",
      "Requirement already satisfied: opencv-python-headless in /Users/alex/miniforge3/envs/macml/lib/python3.9/site-packages (from tf-models-official==2.17.*) (4.11.0.86)\n",
      "Requirement already satisfied: pandas>=0.22.0 in /Users/alex/miniforge3/envs/macml/lib/python3.9/site-packages (from tf-models-official==2.17.*) (2.2.3)\n",
      "Requirement already satisfied: psutil>=5.4.3 in /Users/alex/miniforge3/envs/macml/lib/python3.9/site-packages (from tf-models-official==2.17.*) (7.0.0)\n",
      "Requirement already satisfied: py-cpuinfo>=3.3.0 in /Users/alex/miniforge3/envs/macml/lib/python3.9/site-packages (from tf-models-official==2.17.*) (9.0.0)\n",
      "Requirement already satisfied: pycocotools in /Users/alex/miniforge3/envs/macml/lib/python3.9/site-packages (from tf-models-official==2.17.*) (2.0.8)\n",
      "Requirement already satisfied: pyyaml>=6.0.0 in /Users/alex/miniforge3/envs/macml/lib/python3.9/site-packages (from tf-models-official==2.17.*) (6.0.2)\n",
      "Requirement already satisfied: sacrebleu in /Users/alex/miniforge3/envs/macml/lib/python3.9/site-packages (from tf-models-official==2.17.*) (2.5.1)\n",
      "Requirement already satisfied: scipy>=0.19.1 in /Users/alex/miniforge3/envs/macml/lib/python3.9/site-packages (from tf-models-official==2.17.*) (1.13.1)\n",
      "Requirement already satisfied: sentencepiece in /Users/alex/miniforge3/envs/macml/lib/python3.9/site-packages (from tf-models-official==2.17.*) (0.2.0)\n",
      "Requirement already satisfied: seqeval in /Users/alex/miniforge3/envs/macml/lib/python3.9/site-packages (from tf-models-official==2.17.*) (1.2.2)\n",
      "Requirement already satisfied: six in /Users/alex/miniforge3/envs/macml/lib/python3.9/site-packages (from tf-models-official==2.17.*) (1.17.0)\n",
      "Requirement already satisfied: tensorflow-datasets in /Users/alex/miniforge3/envs/macml/lib/python3.9/site-packages (from tf-models-official==2.17.*) (4.9.3)\n",
      "Requirement already satisfied: tensorflow-hub>=0.6.0 in /Users/alex/miniforge3/envs/macml/lib/python3.9/site-packages (from tf-models-official==2.17.*) (0.16.1)\n",
      "Requirement already satisfied: tensorflow-model-optimization>=0.4.1 in /Users/alex/miniforge3/envs/macml/lib/python3.9/site-packages (from tf-models-official==2.17.*) (0.8.0)\n",
      "Requirement already satisfied: tensorflow-text~=2.17.0 in /Users/alex/miniforge3/envs/macml/lib/python3.9/site-packages (from tf-models-official==2.17.*) (2.17.0)\n",
      "Requirement already satisfied: tensorflow~=2.17.0 in /Users/alex/miniforge3/envs/macml/lib/python3.9/site-packages (from tf-models-official==2.17.*) (2.17.1)\n",
      "Requirement already satisfied: tf-keras>=2.16.0 in /Users/alex/miniforge3/envs/macml/lib/python3.9/site-packages (from tf-models-official==2.17.*) (2.17.0)\n",
      "Requirement already satisfied: tf-slim>=1.1.0 in /Users/alex/miniforge3/envs/macml/lib/python3.9/site-packages (from tf-models-official==2.17.*) (1.1.0)\n",
      "Requirement already satisfied: httplib2<1.0.0,>=0.19.0 in /Users/alex/miniforge3/envs/macml/lib/python3.9/site-packages (from google-api-python-client>=1.6.7->tf-models-official==2.17.*) (0.22.0)\n",
      "Requirement already satisfied: google-auth!=2.24.0,!=2.25.0,<3.0.0,>=1.32.0 in /Users/alex/miniforge3/envs/macml/lib/python3.9/site-packages (from google-api-python-client>=1.6.7->tf-models-official==2.17.*) (2.38.0)\n",
      "Requirement already satisfied: google-auth-httplib2<1.0.0,>=0.2.0 in /Users/alex/miniforge3/envs/macml/lib/python3.9/site-packages (from google-api-python-client>=1.6.7->tf-models-official==2.17.*) (0.2.0)\n",
      "Requirement already satisfied: google-api-core!=2.0.*,!=2.1.*,!=2.2.*,!=2.3.0,<3.0.0,>=1.31.5 in /Users/alex/miniforge3/envs/macml/lib/python3.9/site-packages (from google-api-python-client>=1.6.7->tf-models-official==2.17.*) (2.24.2)\n",
      "Requirement already satisfied: uritemplate<5,>=3.0.1 in /Users/alex/miniforge3/envs/macml/lib/python3.9/site-packages (from google-api-python-client>=1.6.7->tf-models-official==2.17.*) (4.1.1)\n",
      "Requirement already satisfied: bleach in /Users/alex/miniforge3/envs/macml/lib/python3.9/site-packages (from kaggle>=1.3.9->tf-models-official==2.17.*) (6.2.0)\n",
      "Requirement already satisfied: certifi>=14.05.14 in /Users/alex/miniforge3/envs/macml/lib/python3.9/site-packages (from kaggle>=1.3.9->tf-models-official==2.17.*) (2025.1.31)\n",
      "Requirement already satisfied: charset-normalizer in /Users/alex/miniforge3/envs/macml/lib/python3.9/site-packages (from kaggle>=1.3.9->tf-models-official==2.17.*) (3.4.1)\n",
      "Requirement already satisfied: idna in /Users/alex/miniforge3/envs/macml/lib/python3.9/site-packages (from kaggle>=1.3.9->tf-models-official==2.17.*) (3.10)\n",
      "Requirement already satisfied: protobuf in /Users/alex/miniforge3/envs/macml/lib/python3.9/site-packages (from kaggle>=1.3.9->tf-models-official==2.17.*) (4.21.12)\n",
      "Requirement already satisfied: python-dateutil>=2.5.3 in /Users/alex/miniforge3/envs/macml/lib/python3.9/site-packages (from kaggle>=1.3.9->tf-models-official==2.17.*) (2.9.0.post0)\n",
      "Requirement already satisfied: python-slugify in /Users/alex/miniforge3/envs/macml/lib/python3.9/site-packages (from kaggle>=1.3.9->tf-models-official==2.17.*) (8.0.4)\n",
      "Requirement already satisfied: requests in /Users/alex/miniforge3/envs/macml/lib/python3.9/site-packages (from kaggle>=1.3.9->tf-models-official==2.17.*) (2.32.3)\n",
      "Requirement already satisfied: setuptools>=21.0.0 in /Users/alex/miniforge3/envs/macml/lib/python3.9/site-packages (from kaggle>=1.3.9->tf-models-official==2.17.*) (78.1.0)\n",
      "Requirement already satisfied: text-unidecode in /Users/alex/miniforge3/envs/macml/lib/python3.9/site-packages (from kaggle>=1.3.9->tf-models-official==2.17.*) (1.3)\n",
      "Requirement already satisfied: tqdm in /Users/alex/miniforge3/envs/macml/lib/python3.9/site-packages (from kaggle>=1.3.9->tf-models-official==2.17.*) (4.67.1)\n",
      "Requirement already satisfied: urllib3>=1.15.1 in /Users/alex/miniforge3/envs/macml/lib/python3.9/site-packages (from kaggle>=1.3.9->tf-models-official==2.17.*) (2.3.0)\n",
      "Requirement already satisfied: webencodings in /Users/alex/miniforge3/envs/macml/lib/python3.9/site-packages (from kaggle>=1.3.9->tf-models-official==2.17.*) (0.5.1)\n",
      "Requirement already satisfied: pytz>=2020.1 in /Users/alex/miniforge3/envs/macml/lib/python3.9/site-packages (from pandas>=0.22.0->tf-models-official==2.17.*) (2025.2)\n",
      "Requirement already satisfied: tzdata>=2022.7 in /Users/alex/miniforge3/envs/macml/lib/python3.9/site-packages (from pandas>=0.22.0->tf-models-official==2.17.*) (2025.2)\n",
      "Requirement already satisfied: absl-py>=1.0.0 in /Users/alex/miniforge3/envs/macml/lib/python3.9/site-packages (from tensorflow~=2.17.0->tf-models-official==2.17.*) (1.4.0)\n",
      "Requirement already satisfied: astunparse>=1.6.0 in /Users/alex/miniforge3/envs/macml/lib/python3.9/site-packages (from tensorflow~=2.17.0->tf-models-official==2.17.*) (1.6.3)\n",
      "Requirement already satisfied: flatbuffers>=24.3.25 in /Users/alex/miniforge3/envs/macml/lib/python3.9/site-packages (from tensorflow~=2.17.0->tf-models-official==2.17.*) (25.2.10)\n",
      "Requirement already satisfied: gast!=0.5.0,!=0.5.1,!=0.5.2,>=0.2.1 in /Users/alex/miniforge3/envs/macml/lib/python3.9/site-packages (from tensorflow~=2.17.0->tf-models-official==2.17.*) (0.4.0)\n",
      "Requirement already satisfied: google-pasta>=0.1.1 in /Users/alex/miniforge3/envs/macml/lib/python3.9/site-packages (from tensorflow~=2.17.0->tf-models-official==2.17.*) (0.2.0)\n",
      "Requirement already satisfied: h5py>=3.10.0 in /Users/alex/miniforge3/envs/macml/lib/python3.9/site-packages (from tensorflow~=2.17.0->tf-models-official==2.17.*) (3.13.0)\n",
      "Requirement already satisfied: libclang>=13.0.0 in /Users/alex/miniforge3/envs/macml/lib/python3.9/site-packages (from tensorflow~=2.17.0->tf-models-official==2.17.*) (18.1.1)\n",
      "Requirement already satisfied: ml-dtypes<0.5.0,>=0.3.1 in /Users/alex/miniforge3/envs/macml/lib/python3.9/site-packages (from tensorflow~=2.17.0->tf-models-official==2.17.*) (0.4.1)\n",
      "Requirement already satisfied: opt-einsum>=2.3.2 in /Users/alex/miniforge3/envs/macml/lib/python3.9/site-packages (from tensorflow~=2.17.0->tf-models-official==2.17.*) (3.4.0)\n",
      "Requirement already satisfied: packaging in /Users/alex/miniforge3/envs/macml/lib/python3.9/site-packages (from tensorflow~=2.17.0->tf-models-official==2.17.*) (24.2)\n",
      "Requirement already satisfied: termcolor>=1.1.0 in /Users/alex/miniforge3/envs/macml/lib/python3.9/site-packages (from tensorflow~=2.17.0->tf-models-official==2.17.*) (3.0.1)\n",
      "Requirement already satisfied: typing-extensions>=3.6.6 in /Users/alex/miniforge3/envs/macml/lib/python3.9/site-packages (from tensorflow~=2.17.0->tf-models-official==2.17.*) (4.5.0)\n",
      "Requirement already satisfied: wrapt>=1.11.0 in /Users/alex/miniforge3/envs/macml/lib/python3.9/site-packages (from tensorflow~=2.17.0->tf-models-official==2.17.*) (1.14.1)\n",
      "Requirement already satisfied: grpcio<2.0,>=1.24.3 in /Users/alex/miniforge3/envs/macml/lib/python3.9/site-packages (from tensorflow~=2.17.0->tf-models-official==2.17.*) (1.54.3)\n",
      "Requirement already satisfied: tensorboard<2.18,>=2.17 in /Users/alex/miniforge3/envs/macml/lib/python3.9/site-packages (from tensorflow~=2.17.0->tf-models-official==2.17.*) (2.17.1)\n",
      "Requirement already satisfied: keras>=3.2.0 in /Users/alex/miniforge3/envs/macml/lib/python3.9/site-packages (from tensorflow~=2.17.0->tf-models-official==2.17.*) (3.9.2)\n",
      "Requirement already satisfied: tensorflow-io-gcs-filesystem>=0.23.1 in /Users/alex/miniforge3/envs/macml/lib/python3.9/site-packages (from tensorflow~=2.17.0->tf-models-official==2.17.*) (0.37.1)\n",
      "Requirement already satisfied: dm-tree~=0.1.1 in /Users/alex/miniforge3/envs/macml/lib/python3.9/site-packages (from tensorflow-model-optimization>=0.4.1->tf-models-official==2.17.*) (0.1.8)\n",
      "Requirement already satisfied: contourpy>=1.0.1 in /Users/alex/miniforge3/envs/macml/lib/python3.9/site-packages (from matplotlib->tf-models-official==2.17.*) (1.3.0)\n",
      "Requirement already satisfied: cycler>=0.10 in /Users/alex/miniforge3/envs/macml/lib/python3.9/site-packages (from matplotlib->tf-models-official==2.17.*) (0.12.1)\n",
      "Requirement already satisfied: fonttools>=4.22.0 in /Users/alex/miniforge3/envs/macml/lib/python3.9/site-packages (from matplotlib->tf-models-official==2.17.*) (4.57.0)\n",
      "Requirement already satisfied: kiwisolver>=1.3.1 in /Users/alex/miniforge3/envs/macml/lib/python3.9/site-packages (from matplotlib->tf-models-official==2.17.*) (1.4.7)\n",
      "Requirement already satisfied: pyparsing>=2.3.1 in /Users/alex/miniforge3/envs/macml/lib/python3.9/site-packages (from matplotlib->tf-models-official==2.17.*) (3.2.3)\n",
      "Requirement already satisfied: importlib-resources>=3.2.0 in /Users/alex/miniforge3/envs/macml/lib/python3.9/site-packages (from matplotlib->tf-models-official==2.17.*) (6.5.2)\n",
      "Requirement already satisfied: pyasn1>=0.1.7 in /Users/alex/miniforge3/envs/macml/lib/python3.9/site-packages (from oauth2client->tf-models-official==2.17.*) (0.6.1)\n",
      "Requirement already satisfied: pyasn1-modules>=0.0.5 in /Users/alex/miniforge3/envs/macml/lib/python3.9/site-packages (from oauth2client->tf-models-official==2.17.*) (0.4.2)\n",
      "Requirement already satisfied: rsa>=3.1.4 in /Users/alex/miniforge3/envs/macml/lib/python3.9/site-packages (from oauth2client->tf-models-official==2.17.*) (4.9)\n",
      "Requirement already satisfied: portalocker in /Users/alex/miniforge3/envs/macml/lib/python3.9/site-packages (from sacrebleu->tf-models-official==2.17.*) (3.1.1)\n",
      "Requirement already satisfied: regex in /Users/alex/miniforge3/envs/macml/lib/python3.9/site-packages (from sacrebleu->tf-models-official==2.17.*) (2024.11.6)\n",
      "Requirement already satisfied: tabulate>=0.8.9 in /Users/alex/miniforge3/envs/macml/lib/python3.9/site-packages (from sacrebleu->tf-models-official==2.17.*) (0.9.0)\n",
      "Requirement already satisfied: colorama in /Users/alex/miniforge3/envs/macml/lib/python3.9/site-packages (from sacrebleu->tf-models-official==2.17.*) (0.4.6)\n",
      "Requirement already satisfied: lxml in /Users/alex/miniforge3/envs/macml/lib/python3.9/site-packages (from sacrebleu->tf-models-official==2.17.*) (5.3.2)\n",
      "Requirement already satisfied: scikit-learn>=0.21.3 in /Users/alex/miniforge3/envs/macml/lib/python3.9/site-packages (from seqeval->tf-models-official==2.17.*) (1.6.1)\n",
      "Requirement already satisfied: array-record in /Users/alex/miniforge3/envs/macml/lib/python3.9/site-packages (from tensorflow-datasets->tf-models-official==2.17.*) (0.4.1)\n",
      "Requirement already satisfied: click in /Users/alex/miniforge3/envs/macml/lib/python3.9/site-packages (from tensorflow-datasets->tf-models-official==2.17.*) (8.1.8)\n",
      "Requirement already satisfied: etils>=0.9.0 in /Users/alex/miniforge3/envs/macml/lib/python3.9/site-packages (from etils[enp,epath,etree]>=0.9.0->tensorflow-datasets->tf-models-official==2.17.*) (1.5.2)\n",
      "Requirement already satisfied: promise in /Users/alex/miniforge3/envs/macml/lib/python3.9/site-packages (from tensorflow-datasets->tf-models-official==2.17.*) (2.3)\n",
      "Requirement already satisfied: tensorflow-metadata in /Users/alex/miniforge3/envs/macml/lib/python3.9/site-packages (from tensorflow-datasets->tf-models-official==2.17.*) (1.17.0)\n",
      "Requirement already satisfied: toml in /Users/alex/miniforge3/envs/macml/lib/python3.9/site-packages (from tensorflow-datasets->tf-models-official==2.17.*) (0.10.2)\n",
      "Requirement already satisfied: fsspec in /Users/alex/miniforge3/envs/macml/lib/python3.9/site-packages (from etils[enp,epath,etree]>=0.9.0->tensorflow-datasets->tf-models-official==2.17.*) (2025.3.2)\n",
      "Requirement already satisfied: zipp in /Users/alex/miniforge3/envs/macml/lib/python3.9/site-packages (from etils[enp,epath,etree]>=0.9.0->tensorflow-datasets->tf-models-official==2.17.*) (3.21.0)\n",
      "Requirement already satisfied: googleapis-common-protos<2.0.0,>=1.56.2 in /Users/alex/miniforge3/envs/macml/lib/python3.9/site-packages (from google-api-core!=2.0.*,!=2.1.*,!=2.2.*,!=2.3.0,<3.0.0,>=1.31.5->google-api-python-client>=1.6.7->tf-models-official==2.17.*) (1.69.2)\n",
      "Requirement already satisfied: proto-plus<2.0.0,>=1.22.3 in /Users/alex/miniforge3/envs/macml/lib/python3.9/site-packages (from google-api-core!=2.0.*,!=2.1.*,!=2.2.*,!=2.3.0,<3.0.0,>=1.31.5->google-api-python-client>=1.6.7->tf-models-official==2.17.*) (1.26.1)\n",
      "Requirement already satisfied: cachetools<6.0,>=2.0.0 in /Users/alex/miniforge3/envs/macml/lib/python3.9/site-packages (from google-auth!=2.24.0,!=2.25.0,<3.0.0,>=1.32.0->google-api-python-client>=1.6.7->tf-models-official==2.17.*) (5.5.2)\n",
      "Requirement already satisfied: rich in /Users/alex/miniforge3/envs/macml/lib/python3.9/site-packages (from keras>=3.2.0->tensorflow~=2.17.0->tf-models-official==2.17.*) (14.0.0)\n",
      "Requirement already satisfied: namex in /Users/alex/miniforge3/envs/macml/lib/python3.9/site-packages (from keras>=3.2.0->tensorflow~=2.17.0->tf-models-official==2.17.*) (0.0.8)\n",
      "Requirement already satisfied: optree in /Users/alex/miniforge3/envs/macml/lib/python3.9/site-packages (from keras>=3.2.0->tensorflow~=2.17.0->tf-models-official==2.17.*) (0.15.0)\n",
      "Requirement already satisfied: joblib>=1.2.0 in /Users/alex/miniforge3/envs/macml/lib/python3.9/site-packages (from scikit-learn>=0.21.3->seqeval->tf-models-official==2.17.*) (1.4.2)\n",
      "Requirement already satisfied: threadpoolctl>=3.1.0 in /Users/alex/miniforge3/envs/macml/lib/python3.9/site-packages (from scikit-learn>=0.21.3->seqeval->tf-models-official==2.17.*) (3.6.0)\n",
      "Requirement already satisfied: markdown>=2.6.8 in /Users/alex/miniforge3/envs/macml/lib/python3.9/site-packages (from tensorboard<2.18,>=2.17->tensorflow~=2.17.0->tf-models-official==2.17.*) (3.6)\n",
      "Requirement already satisfied: tensorboard-data-server<0.8.0,>=0.7.0 in /Users/alex/miniforge3/envs/macml/lib/python3.9/site-packages (from tensorboard<2.18,>=2.17->tensorflow~=2.17.0->tf-models-official==2.17.*) (0.7.0)\n",
      "Requirement already satisfied: werkzeug>=1.0.1 in /Users/alex/miniforge3/envs/macml/lib/python3.9/site-packages (from tensorboard<2.18,>=2.17->tensorflow~=2.17.0->tf-models-official==2.17.*) (3.1.3)\n",
      "Requirement already satisfied: importlib-metadata>=4.4 in /Users/alex/miniforge3/envs/macml/lib/python3.9/site-packages (from markdown>=2.6.8->tensorboard<2.18,>=2.17->tensorflow~=2.17.0->tf-models-official==2.17.*) (8.6.1)\n",
      "Requirement already satisfied: MarkupSafe>=2.1.1 in /Users/alex/miniforge3/envs/macml/lib/python3.9/site-packages (from werkzeug>=1.0.1->tensorboard<2.18,>=2.17->tensorflow~=2.17.0->tf-models-official==2.17.*) (3.0.2)\n",
      "Requirement already satisfied: markdown-it-py>=2.2.0 in /Users/alex/miniforge3/envs/macml/lib/python3.9/site-packages (from rich->keras>=3.2.0->tensorflow~=2.17.0->tf-models-official==2.17.*) (3.0.0)\n",
      "Requirement already satisfied: pygments<3.0.0,>=2.13.0 in /Users/alex/miniforge3/envs/macml/lib/python3.9/site-packages (from rich->keras>=3.2.0->tensorflow~=2.17.0->tf-models-official==2.17.*) (2.19.1)\n",
      "Requirement already satisfied: mdurl~=0.1 in /Users/alex/miniforge3/envs/macml/lib/python3.9/site-packages (from markdown-it-py>=2.2.0->rich->keras>=3.2.0->tensorflow~=2.17.0->tf-models-official==2.17.*) (0.1.2)\n"
     ]
    }
   ],
   "source": [
    "!pip install \"tf-models-official==2.17.*\""
   ]
  },
  {
   "cell_type": "code",
   "execution_count": 7,
   "id": "5d_PXKVqop16",
   "metadata": {
    "colab": {
     "base_uri": "https://localhost:8080/"
    },
    "id": "5d_PXKVqop16",
    "outputId": "e306aa1e-708a-41a3-ef6b-c0e1fd5f8a32"
   },
   "outputs": [
    {
     "name": "stdout",
     "output_type": "stream",
     "text": [
      "Found 75000 files belonging to 3 classes.\n",
      "Using 60000 files for training.\n"
     ]
    },
    {
     "name": "stderr",
     "output_type": "stream",
     "text": [
      "2025-04-07 22:14:11.904369: I metal_plugin/src/device/metal_device.cc:1154] Metal device set to: Apple M1 Max\n",
      "2025-04-07 22:14:11.904566: I metal_plugin/src/device/metal_device.cc:296] systemMemory: 32.00 GB\n",
      "2025-04-07 22:14:11.904572: I metal_plugin/src/device/metal_device.cc:313] maxCacheSize: 10.67 GB\n",
      "2025-04-07 22:14:11.904607: I tensorflow/core/common_runtime/pluggable_device/pluggable_device_factory.cc:305] Could not identify NUMA node of platform GPU ID 0, defaulting to 0. Your kernel may not have been built with NUMA support.\n",
      "2025-04-07 22:14:11.904639: I tensorflow/core/common_runtime/pluggable_device/pluggable_device_factory.cc:271] Created TensorFlow device (/job:localhost/replica:0/task:0/device:GPU:0 with 0 MB memory) -> physical PluggableDevice (device: 0, name: METAL, pci bus id: <undefined>)\n"
     ]
    },
    {
     "name": "stdout",
     "output_type": "stream",
     "text": [
      "Found 75000 files belonging to 3 classes.\n",
      "Using 15000 files for validation.\n",
      "Found 25000 files belonging to 2 classes.\n"
     ]
    }
   ],
   "source": [
    "AUTOTUNE = tf.data.AUTOTUNE\n",
    "batch_size = 32\n",
    "seed = 42\n",
    "\n",
    "raw_train_ds = tf.keras.utils.text_dataset_from_directory(\n",
    "    'aclImdb/train',\n",
    "    batch_size=batch_size,\n",
    "    validation_split=0.2,\n",
    "    subset='training',\n",
    "    seed=seed)\n",
    "\n",
    "class_names = raw_train_ds.class_names\n",
    "train_ds = raw_train_ds.cache().prefetch(buffer_size=AUTOTUNE)\n",
    "\n",
    "val_ds = tf.keras.utils.text_dataset_from_directory(\n",
    "    'aclImdb/train',\n",
    "    batch_size=batch_size,\n",
    "    validation_split=0.2,\n",
    "    subset='validation',\n",
    "    seed=seed)\n",
    "\n",
    "val_ds = val_ds.cache().prefetch(buffer_size=AUTOTUNE)\n",
    "\n",
    "test_ds = tf.keras.utils.text_dataset_from_directory(\n",
    "    'aclImdb/test',\n",
    "    batch_size=batch_size)\n",
    "\n",
    "test_ds = test_ds.cache().prefetch(buffer_size=AUTOTUNE)"
   ]
  },
  {
   "cell_type": "code",
   "execution_count": 8,
   "id": "_HbBiH6PpB6A",
   "metadata": {
    "colab": {
     "base_uri": "https://localhost:8080/"
    },
    "id": "_HbBiH6PpB6A",
    "outputId": "5c2c2426-54e6-4734-fef9-ddedf9370133"
   },
   "outputs": [
    {
     "name": "stdout",
     "output_type": "stream",
     "text": [
      "BERT model selected           : https://tfhub.dev/tensorflow/small_bert/bert_en_uncased_L-4_H-512_A-8/1\n",
      "Preprocess model auto-selected: https://tfhub.dev/tensorflow/bert_en_uncased_preprocess/3\n"
     ]
    }
   ],
   "source": [
    "bert_model_name = 'small_bert/bert_en_uncased_L-4_H-512_A-8'\n",
    "\n",
    "map_name_to_handle = {\n",
    "    'bert_en_uncased_L-12_H-768_A-12':\n",
    "        'https://tfhub.dev/tensorflow/bert_en_uncased_L-12_H-768_A-12/3',\n",
    "    'bert_en_cased_L-12_H-768_A-12':\n",
    "        'https://tfhub.dev/tensorflow/bert_en_cased_L-12_H-768_A-12/3',\n",
    "    'bert_multi_cased_L-12_H-768_A-12':\n",
    "        'https://tfhub.dev/tensorflow/bert_multi_cased_L-12_H-768_A-12/3',\n",
    "    'small_bert/bert_en_uncased_L-2_H-128_A-2':\n",
    "        'https://tfhub.dev/tensorflow/small_bert/bert_en_uncased_L-2_H-128_A-2/1',\n",
    "    'small_bert/bert_en_uncased_L-2_H-256_A-4':\n",
    "        'https://tfhub.dev/tensorflow/small_bert/bert_en_uncased_L-2_H-256_A-4/1',\n",
    "    'small_bert/bert_en_uncased_L-2_H-512_A-8':\n",
    "        'https://tfhub.dev/tensorflow/small_bert/bert_en_uncased_L-2_H-512_A-8/1',\n",
    "    'small_bert/bert_en_uncased_L-2_H-768_A-12':\n",
    "        'https://tfhub.dev/tensorflow/small_bert/bert_en_uncased_L-2_H-768_A-12/1',\n",
    "    'small_bert/bert_en_uncased_L-4_H-128_A-2':\n",
    "        'https://tfhub.dev/tensorflow/small_bert/bert_en_uncased_L-4_H-128_A-2/1',\n",
    "    'small_bert/bert_en_uncased_L-4_H-256_A-4':\n",
    "        'https://tfhub.dev/tensorflow/small_bert/bert_en_uncased_L-4_H-256_A-4/1',\n",
    "    'small_bert/bert_en_uncased_L-4_H-512_A-8':\n",
    "        'https://tfhub.dev/tensorflow/small_bert/bert_en_uncased_L-4_H-512_A-8/1',\n",
    "    'small_bert/bert_en_uncased_L-4_H-768_A-12':\n",
    "        'https://tfhub.dev/tensorflow/small_bert/bert_en_uncased_L-4_H-768_A-12/1',\n",
    "    'small_bert/bert_en_uncased_L-6_H-128_A-2':\n",
    "        'https://tfhub.dev/tensorflow/small_bert/bert_en_uncased_L-6_H-128_A-2/1',\n",
    "    'small_bert/bert_en_uncased_L-6_H-256_A-4':\n",
    "        'https://tfhub.dev/tensorflow/small_bert/bert_en_uncased_L-6_H-256_A-4/1',\n",
    "    'small_bert/bert_en_uncased_L-6_H-512_A-8':\n",
    "        'https://tfhub.dev/tensorflow/small_bert/bert_en_uncased_L-6_H-512_A-8/1',\n",
    "    'small_bert/bert_en_uncased_L-6_H-768_A-12':\n",
    "        'https://tfhub.dev/tensorflow/small_bert/bert_en_uncased_L-6_H-768_A-12/1',\n",
    "    'small_bert/bert_en_uncased_L-8_H-128_A-2':\n",
    "        'https://tfhub.dev/tensorflow/small_bert/bert_en_uncased_L-8_H-128_A-2/1',\n",
    "    'small_bert/bert_en_uncased_L-8_H-256_A-4':\n",
    "        'https://tfhub.dev/tensorflow/small_bert/bert_en_uncased_L-8_H-256_A-4/1',\n",
    "    'small_bert/bert_en_uncased_L-8_H-512_A-8':\n",
    "        'https://tfhub.dev/tensorflow/small_bert/bert_en_uncased_L-8_H-512_A-8/1',\n",
    "    'small_bert/bert_en_uncased_L-8_H-768_A-12':\n",
    "        'https://tfhub.dev/tensorflow/small_bert/bert_en_uncased_L-8_H-768_A-12/1',\n",
    "    'small_bert/bert_en_uncased_L-10_H-128_A-2':\n",
    "        'https://tfhub.dev/tensorflow/small_bert/bert_en_uncased_L-10_H-128_A-2/1',\n",
    "    'small_bert/bert_en_uncased_L-10_H-256_A-4':\n",
    "        'https://tfhub.dev/tensorflow/small_bert/bert_en_uncased_L-10_H-256_A-4/1',\n",
    "    'small_bert/bert_en_uncased_L-10_H-512_A-8':\n",
    "        'https://tfhub.dev/tensorflow/small_bert/bert_en_uncased_L-10_H-512_A-8/1',\n",
    "    'small_bert/bert_en_uncased_L-10_H-768_A-12':\n",
    "        'https://tfhub.dev/tensorflow/small_bert/bert_en_uncased_L-10_H-768_A-12/1',\n",
    "    'small_bert/bert_en_uncased_L-12_H-128_A-2':\n",
    "        'https://tfhub.dev/tensorflow/small_bert/bert_en_uncased_L-12_H-128_A-2/1',\n",
    "    'small_bert/bert_en_uncased_L-12_H-256_A-4':\n",
    "        'https://tfhub.dev/tensorflow/small_bert/bert_en_uncased_L-12_H-256_A-4/1',\n",
    "    'small_bert/bert_en_uncased_L-12_H-512_A-8':\n",
    "        'https://tfhub.dev/tensorflow/small_bert/bert_en_uncased_L-12_H-512_A-8/1',\n",
    "    'small_bert/bert_en_uncased_L-12_H-768_A-12':\n",
    "        'https://tfhub.dev/tensorflow/small_bert/bert_en_uncased_L-12_H-768_A-12/1',\n",
    "    'albert_en_base':\n",
    "        'https://tfhub.dev/tensorflow/albert_en_base/2',\n",
    "    'electra_small':\n",
    "        'https://tfhub.dev/google/electra_small/2',\n",
    "    'electra_base':\n",
    "        'https://tfhub.dev/google/electra_base/2',\n",
    "    'experts_pubmed':\n",
    "        'https://tfhub.dev/google/experts/bert/pubmed/2',\n",
    "    'experts_wiki_books':\n",
    "        'https://tfhub.dev/google/experts/bert/wiki_books/2',\n",
    "    'talking-heads_base':\n",
    "        'https://tfhub.dev/tensorflow/talkheads_ggelu_bert_en_base/1',\n",
    "}\n",
    "\n",
    "map_model_to_preprocess = {\n",
    "    'bert_en_uncased_L-12_H-768_A-12':\n",
    "        'https://tfhub.dev/tensorflow/bert_en_uncased_preprocess/3',\n",
    "    'bert_en_cased_L-12_H-768_A-12':\n",
    "        'https://tfhub.dev/tensorflow/bert_en_cased_preprocess/3',\n",
    "    'small_bert/bert_en_uncased_L-2_H-128_A-2':\n",
    "        'https://tfhub.dev/tensorflow/bert_en_uncased_preprocess/3',\n",
    "    'small_bert/bert_en_uncased_L-2_H-256_A-4':\n",
    "        'https://tfhub.dev/tensorflow/bert_en_uncased_preprocess/3',\n",
    "    'small_bert/bert_en_uncased_L-2_H-512_A-8':\n",
    "        'https://tfhub.dev/tensorflow/bert_en_uncased_preprocess/3',\n",
    "    'small_bert/bert_en_uncased_L-2_H-768_A-12':\n",
    "        'https://tfhub.dev/tensorflow/bert_en_uncased_preprocess/3',\n",
    "    'small_bert/bert_en_uncased_L-4_H-128_A-2':\n",
    "        'https://tfhub.dev/tensorflow/bert_en_uncased_preprocess/3',\n",
    "    'small_bert/bert_en_uncased_L-4_H-256_A-4':\n",
    "        'https://tfhub.dev/tensorflow/bert_en_uncased_preprocess/3',\n",
    "    'small_bert/bert_en_uncased_L-4_H-512_A-8':\n",
    "        'https://tfhub.dev/tensorflow/bert_en_uncased_preprocess/3',\n",
    "    'small_bert/bert_en_uncased_L-4_H-768_A-12':\n",
    "        'https://tfhub.dev/tensorflow/bert_en_uncased_preprocess/3',\n",
    "    'small_bert/bert_en_uncased_L-6_H-128_A-2':\n",
    "        'https://tfhub.dev/tensorflow/bert_en_uncased_preprocess/3',\n",
    "    'small_bert/bert_en_uncased_L-6_H-256_A-4':\n",
    "        'https://tfhub.dev/tensorflow/bert_en_uncased_preprocess/3',\n",
    "    'small_bert/bert_en_uncased_L-6_H-512_A-8':\n",
    "        'https://tfhub.dev/tensorflow/bert_en_uncased_preprocess/3',\n",
    "    'small_bert/bert_en_uncased_L-6_H-768_A-12':\n",
    "        'https://tfhub.dev/tensorflow/bert_en_uncased_preprocess/3',\n",
    "    'small_bert/bert_en_uncased_L-8_H-128_A-2':\n",
    "        'https://tfhub.dev/tensorflow/bert_en_uncased_preprocess/3',\n",
    "    'small_bert/bert_en_uncased_L-8_H-256_A-4':\n",
    "        'https://tfhub.dev/tensorflow/bert_en_uncased_preprocess/3',\n",
    "    'small_bert/bert_en_uncased_L-8_H-512_A-8':\n",
    "        'https://tfhub.dev/tensorflow/bert_en_uncased_preprocess/3',\n",
    "    'small_bert/bert_en_uncased_L-8_H-768_A-12':\n",
    "        'https://tfhub.dev/tensorflow/bert_en_uncased_preprocess/3',\n",
    "    'small_bert/bert_en_uncased_L-10_H-128_A-2':\n",
    "        'https://tfhub.dev/tensorflow/bert_en_uncased_preprocess/3',\n",
    "    'small_bert/bert_en_uncased_L-10_H-256_A-4':\n",
    "        'https://tfhub.dev/tensorflow/bert_en_uncased_preprocess/3',\n",
    "    'small_bert/bert_en_uncased_L-10_H-512_A-8':\n",
    "        'https://tfhub.dev/tensorflow/bert_en_uncased_preprocess/3',\n",
    "    'small_bert/bert_en_uncased_L-10_H-768_A-12':\n",
    "        'https://tfhub.dev/tensorflow/bert_en_uncased_preprocess/3',\n",
    "    'small_bert/bert_en_uncased_L-12_H-128_A-2':\n",
    "        'https://tfhub.dev/tensorflow/bert_en_uncased_preprocess/3',\n",
    "    'small_bert/bert_en_uncased_L-12_H-256_A-4':\n",
    "        'https://tfhub.dev/tensorflow/bert_en_uncased_preprocess/3',\n",
    "    'small_bert/bert_en_uncased_L-12_H-512_A-8':\n",
    "        'https://tfhub.dev/tensorflow/bert_en_uncased_preprocess/3',\n",
    "    'small_bert/bert_en_uncased_L-12_H-768_A-12':\n",
    "        'https://tfhub.dev/tensorflow/bert_en_uncased_preprocess/3',\n",
    "    'bert_multi_cased_L-12_H-768_A-12':\n",
    "        'https://tfhub.dev/tensorflow/bert_multi_cased_preprocess/3',\n",
    "    'albert_en_base':\n",
    "        'https://tfhub.dev/tensorflow/albert_en_preprocess/3',\n",
    "    'electra_small':\n",
    "        'https://tfhub.dev/tensorflow/bert_en_uncased_preprocess/3',\n",
    "    'electra_base':\n",
    "        'https://tfhub.dev/tensorflow/bert_en_uncased_preprocess/3',\n",
    "    'experts_pubmed':\n",
    "        'https://tfhub.dev/tensorflow/bert_en_uncased_preprocess/3',\n",
    "    'experts_wiki_books':\n",
    "        'https://tfhub.dev/tensorflow/bert_en_uncased_preprocess/3',\n",
    "    'talking-heads_base':\n",
    "        'https://tfhub.dev/tensorflow/bert_en_uncased_preprocess/3',\n",
    "}\n",
    "\n",
    "tfhub_handle_encoder = map_name_to_handle[bert_model_name]\n",
    "tfhub_handle_preprocess = map_model_to_preprocess[bert_model_name]\n",
    "\n",
    "print(f'BERT model selected           : {tfhub_handle_encoder}')\n",
    "print(f'Preprocess model auto-selected: {tfhub_handle_preprocess}')"
   ]
  },
  {
   "cell_type": "code",
   "execution_count": 9,
   "id": "q5b4zalapSd5",
   "metadata": {
    "id": "q5b4zalapSd5"
   },
   "outputs": [
    {
     "name": "stderr",
     "output_type": "stream",
     "text": [
      "2025-04-07 22:14:24.370241: I tensorflow/core/grappler/optimizers/custom_graph_optimizer_registry.cc:117] Plugin optimizer for device_type GPU is enabled.\n"
     ]
    }
   ],
   "source": [
    "bert_preprocess_model = hub.KerasLayer(tfhub_handle_preprocess)"
   ]
  },
  {
   "cell_type": "code",
   "execution_count": 10,
   "id": "jNNtWv1rpU9r",
   "metadata": {
    "colab": {
     "base_uri": "https://localhost:8080/"
    },
    "id": "jNNtWv1rpU9r",
    "outputId": "bc1be9fd-441c-45d2-a603-3f6c6837c1c8"
   },
   "outputs": [
    {
     "name": "stdout",
     "output_type": "stream",
     "text": [
      "Keys       : ['input_mask', 'input_type_ids', 'input_word_ids']\n",
      "Shape      : (1, 128)\n",
      "Word Ids   : [ 101 2023 2003 2107 2019 6429 3185  999  102    0    0    0]\n",
      "Input Mask : [1 1 1 1 1 1 1 1 1 0 0 0]\n",
      "Type Ids   : [0 0 0 0 0 0 0 0 0 0 0 0]\n"
     ]
    }
   ],
   "source": [
    "text_test = ['this is such an amazing movie!']\n",
    "text_preprocessed = bert_preprocess_model(text_test)\n",
    "\n",
    "print(f'Keys       : {list(text_preprocessed.keys())}')\n",
    "print(f'Shape      : {text_preprocessed[\"input_word_ids\"].shape}')\n",
    "print(f'Word Ids   : {text_preprocessed[\"input_word_ids\"][0, :12]}')\n",
    "print(f'Input Mask : {text_preprocessed[\"input_mask\"][0, :12]}')\n",
    "print(f'Type Ids   : {text_preprocessed[\"input_type_ids\"][0, :12]}')"
   ]
  },
  {
   "cell_type": "code",
   "execution_count": 11,
   "id": "NHNp-cEApbsL",
   "metadata": {
    "id": "NHNp-cEApbsL"
   },
   "outputs": [],
   "source": [
    "bert_model = hub.KerasLayer(tfhub_handle_encoder)"
   ]
  },
  {
   "cell_type": "code",
   "execution_count": 12,
   "id": "c_ssg8H8pcj-",
   "metadata": {
    "colab": {
     "base_uri": "https://localhost:8080/"
    },
    "id": "c_ssg8H8pcj-",
    "outputId": "865b86dd-770b-4cc3-ab8f-ecda459c8403"
   },
   "outputs": [
    {
     "name": "stdout",
     "output_type": "stream",
     "text": [
      "Loaded BERT: https://tfhub.dev/tensorflow/small_bert/bert_en_uncased_L-4_H-512_A-8/1\n",
      "Pooled Outputs Shape:(1, 512)\n",
      "Pooled Outputs Values:[ 0.7626296   0.9928098  -0.18611903  0.36673817  0.15233694  0.65504456\n",
      "  0.9681155  -0.9486272   0.00216141 -0.9877731   0.06842737 -0.9763059 ]\n",
      "Sequence Outputs Shape:(1, 128, 512)\n",
      "Sequence Outputs Values:[[-0.28946334  0.34321272  0.3323148  ...  0.21300817  0.710208\n",
      "  -0.05771153]\n",
      " [-0.28741974  0.31981015 -0.23018636 ...  0.58454984 -0.2132982\n",
      "   0.7269206 ]\n",
      " [-0.6615707   0.68876815 -0.87432957 ...  0.10877132 -0.26173255\n",
      "   0.478553  ]\n",
      " ...\n",
      " [-0.22561131 -0.28925642 -0.07064404 ...  0.4756599   0.83277166\n",
      "   0.40025353]\n",
      " [-0.29824245 -0.2747312  -0.05450491 ...  0.48849717  1.0955358\n",
      "   0.18163371]\n",
      " [-0.443781    0.00930782  0.07223701 ...  0.17290127  1.1833246\n",
      "   0.07897961]]\n"
     ]
    }
   ],
   "source": [
    "bert_results = bert_model(text_preprocessed)\n",
    "\n",
    "print(f'Loaded BERT: {tfhub_handle_encoder}')\n",
    "print(f'Pooled Outputs Shape:{bert_results[\"pooled_output\"].shape}')\n",
    "print(f'Pooled Outputs Values:{bert_results[\"pooled_output\"][0, :12]}')\n",
    "print(f'Sequence Outputs Shape:{bert_results[\"sequence_output\"].shape}')\n",
    "print(f'Sequence Outputs Values:{bert_results[\"sequence_output\"][0, :12]}')"
   ]
  },
  {
   "cell_type": "code",
   "execution_count": 13,
   "id": "lLwzGi70p2kg",
   "metadata": {
    "id": "lLwzGi70p2kg"
   },
   "outputs": [],
   "source": [
    "def build_classifier_model():\n",
    "  text_input = tf.keras.layers.Input(shape=(), dtype=tf.string, name='text')\n",
    "  preprocessing_layer = hub.KerasLayer(tfhub_handle_preprocess, name='preprocessing')\n",
    "  encoder_inputs = preprocessing_layer(text_input)\n",
    "  encoder = hub.KerasLayer(tfhub_handle_encoder, trainable=True, name='BERT_encoder')\n",
    "  outputs = encoder(encoder_inputs)\n",
    "  net = outputs['pooled_output']\n",
    "  net = tf.keras.layers.Dropout(0.1)(net)\n",
    "  net = tf.keras.layers.Dense(1, activation=None, name='classifier')(net)\n",
    "  return tf.keras.Model(text_input, net)"
   ]
  },
  {
   "cell_type": "code",
   "execution_count": 14,
   "id": "DUS1cUx3p4BD",
   "metadata": {
    "colab": {
     "base_uri": "https://localhost:8080/",
     "height": 460
    },
    "id": "DUS1cUx3p4BD",
    "outputId": "44649e97-0837-4f2f-92b3-226d95079e5d"
   },
   "outputs": [
    {
     "ename": "ValueError",
     "evalue": "Exception encountered when calling layer 'preprocessing' (type KerasLayer).\n\nA KerasTensor is symbolic: it's a placeholder for a shape an a dtype. It doesn't have any actual numerical value. You cannot convert it to a NumPy array.\n\nCall arguments received by layer 'preprocessing' (type KerasLayer):\n  • inputs=<KerasTensor shape=(None,), dtype=string, sparse=False, ragged=False, name=text>\n  • training=None",
     "output_type": "error",
     "traceback": [
      "\u001b[0;31m---------------------------------------------------------------------------\u001b[0m",
      "\u001b[0;31mValueError\u001b[0m                                Traceback (most recent call last)",
      "Cell \u001b[0;32mIn[14], line 1\u001b[0m\n\u001b[0;32m----> 1\u001b[0m classifier_model \u001b[38;5;241m=\u001b[39m \u001b[43mbuild_classifier_model\u001b[49m\u001b[43m(\u001b[49m\u001b[43m)\u001b[49m\n\u001b[1;32m      2\u001b[0m bert_raw_result \u001b[38;5;241m=\u001b[39m classifier_model(tf\u001b[38;5;241m.\u001b[39mconstant(text_test))\n\u001b[1;32m      3\u001b[0m \u001b[38;5;28mprint\u001b[39m(tf\u001b[38;5;241m.\u001b[39msigmoid(bert_raw_result))\n",
      "Cell \u001b[0;32mIn[13], line 4\u001b[0m, in \u001b[0;36mbuild_classifier_model\u001b[0;34m()\u001b[0m\n\u001b[1;32m      2\u001b[0m text_input \u001b[38;5;241m=\u001b[39m tf\u001b[38;5;241m.\u001b[39mkeras\u001b[38;5;241m.\u001b[39mlayers\u001b[38;5;241m.\u001b[39mInput(shape\u001b[38;5;241m=\u001b[39m(), dtype\u001b[38;5;241m=\u001b[39mtf\u001b[38;5;241m.\u001b[39mstring, name\u001b[38;5;241m=\u001b[39m\u001b[38;5;124m'\u001b[39m\u001b[38;5;124mtext\u001b[39m\u001b[38;5;124m'\u001b[39m)\n\u001b[1;32m      3\u001b[0m preprocessing_layer \u001b[38;5;241m=\u001b[39m hub\u001b[38;5;241m.\u001b[39mKerasLayer(tfhub_handle_preprocess, name\u001b[38;5;241m=\u001b[39m\u001b[38;5;124m'\u001b[39m\u001b[38;5;124mpreprocessing\u001b[39m\u001b[38;5;124m'\u001b[39m)\n\u001b[0;32m----> 4\u001b[0m encoder_inputs \u001b[38;5;241m=\u001b[39m \u001b[43mpreprocessing_layer\u001b[49m\u001b[43m(\u001b[49m\u001b[43mtext_input\u001b[49m\u001b[43m)\u001b[49m\n\u001b[1;32m      5\u001b[0m encoder \u001b[38;5;241m=\u001b[39m hub\u001b[38;5;241m.\u001b[39mKerasLayer(tfhub_handle_encoder, trainable\u001b[38;5;241m=\u001b[39m\u001b[38;5;28;01mTrue\u001b[39;00m, name\u001b[38;5;241m=\u001b[39m\u001b[38;5;124m'\u001b[39m\u001b[38;5;124mBERT_encoder\u001b[39m\u001b[38;5;124m'\u001b[39m)\n\u001b[1;32m      6\u001b[0m outputs \u001b[38;5;241m=\u001b[39m encoder(encoder_inputs)\n",
      "File \u001b[0;32m~/miniforge3/envs/macml/lib/python3.9/site-packages/tf_keras/src/utils/traceback_utils.py:70\u001b[0m, in \u001b[0;36mfilter_traceback.<locals>.error_handler\u001b[0;34m(*args, **kwargs)\u001b[0m\n\u001b[1;32m     67\u001b[0m     filtered_tb \u001b[38;5;241m=\u001b[39m _process_traceback_frames(e\u001b[38;5;241m.\u001b[39m__traceback__)\n\u001b[1;32m     68\u001b[0m     \u001b[38;5;66;03m# To get the full stack trace, call:\u001b[39;00m\n\u001b[1;32m     69\u001b[0m     \u001b[38;5;66;03m# `tf.debugging.disable_traceback_filtering()`\u001b[39;00m\n\u001b[0;32m---> 70\u001b[0m     \u001b[38;5;28;01mraise\u001b[39;00m e\u001b[38;5;241m.\u001b[39mwith_traceback(filtered_tb) \u001b[38;5;28;01mfrom\u001b[39;00m\u001b[38;5;250m \u001b[39m\u001b[38;5;28;01mNone\u001b[39;00m\n\u001b[1;32m     71\u001b[0m \u001b[38;5;28;01mfinally\u001b[39;00m:\n\u001b[1;32m     72\u001b[0m     \u001b[38;5;28;01mdel\u001b[39;00m filtered_tb\n",
      "File \u001b[0;32m~/miniforge3/envs/macml/lib/python3.9/site-packages/tensorflow_hub/keras_layer.py:250\u001b[0m, in \u001b[0;36mKerasLayer.call\u001b[0;34m(self, inputs, training)\u001b[0m\n\u001b[1;32m    247\u001b[0m   \u001b[38;5;28;01melse\u001b[39;00m:\n\u001b[1;32m    248\u001b[0m     \u001b[38;5;66;03m# Behave like BatchNormalization. (Dropout is different, b/181839368.)\u001b[39;00m\n\u001b[1;32m    249\u001b[0m     training \u001b[38;5;241m=\u001b[39m \u001b[38;5;28;01mFalse\u001b[39;00m\n\u001b[0;32m--> 250\u001b[0m   result \u001b[38;5;241m=\u001b[39m \u001b[43msmart_cond\u001b[49m\u001b[38;5;241;43m.\u001b[39;49m\u001b[43msmart_cond\u001b[49m\u001b[43m(\u001b[49m\u001b[43mtraining\u001b[49m\u001b[43m,\u001b[49m\n\u001b[1;32m    251\u001b[0m \u001b[43m                                 \u001b[49m\u001b[38;5;28;43;01mlambda\u001b[39;49;00m\u001b[43m:\u001b[49m\u001b[43m \u001b[49m\u001b[43mf\u001b[49m\u001b[43m(\u001b[49m\u001b[43mtraining\u001b[49m\u001b[38;5;241;43m=\u001b[39;49m\u001b[38;5;28;43;01mTrue\u001b[39;49;00m\u001b[43m)\u001b[49m\u001b[43m,\u001b[49m\n\u001b[1;32m    252\u001b[0m \u001b[43m                                 \u001b[49m\u001b[38;5;28;43;01mlambda\u001b[39;49;00m\u001b[43m:\u001b[49m\u001b[43m \u001b[49m\u001b[43mf\u001b[49m\u001b[43m(\u001b[49m\u001b[43mtraining\u001b[49m\u001b[38;5;241;43m=\u001b[39;49m\u001b[38;5;28;43;01mFalse\u001b[39;49;00m\u001b[43m)\u001b[49m\u001b[43m)\u001b[49m\n\u001b[1;32m    254\u001b[0m \u001b[38;5;66;03m# Unwrap dicts returned by signatures.\u001b[39;00m\n\u001b[1;32m    255\u001b[0m \u001b[38;5;28;01mif\u001b[39;00m \u001b[38;5;28mself\u001b[39m\u001b[38;5;241m.\u001b[39m_output_key:\n",
      "File \u001b[0;32m~/miniforge3/envs/macml/lib/python3.9/site-packages/tensorflow_hub/keras_layer.py:252\u001b[0m, in \u001b[0;36mKerasLayer.call.<locals>.<lambda>\u001b[0;34m()\u001b[0m\n\u001b[1;32m    247\u001b[0m   \u001b[38;5;28;01melse\u001b[39;00m:\n\u001b[1;32m    248\u001b[0m     \u001b[38;5;66;03m# Behave like BatchNormalization. (Dropout is different, b/181839368.)\u001b[39;00m\n\u001b[1;32m    249\u001b[0m     training \u001b[38;5;241m=\u001b[39m \u001b[38;5;28;01mFalse\u001b[39;00m\n\u001b[1;32m    250\u001b[0m   result \u001b[38;5;241m=\u001b[39m smart_cond\u001b[38;5;241m.\u001b[39msmart_cond(training,\n\u001b[1;32m    251\u001b[0m                                  \u001b[38;5;28;01mlambda\u001b[39;00m: f(training\u001b[38;5;241m=\u001b[39m\u001b[38;5;28;01mTrue\u001b[39;00m),\n\u001b[0;32m--> 252\u001b[0m                                  \u001b[38;5;28;01mlambda\u001b[39;00m: \u001b[43mf\u001b[49m\u001b[43m(\u001b[49m\u001b[43mtraining\u001b[49m\u001b[38;5;241;43m=\u001b[39;49m\u001b[38;5;28;43;01mFalse\u001b[39;49;00m\u001b[43m)\u001b[49m)\n\u001b[1;32m    254\u001b[0m \u001b[38;5;66;03m# Unwrap dicts returned by signatures.\u001b[39;00m\n\u001b[1;32m    255\u001b[0m \u001b[38;5;28;01mif\u001b[39;00m \u001b[38;5;28mself\u001b[39m\u001b[38;5;241m.\u001b[39m_output_key:\n",
      "File \u001b[0;32m~/miniforge3/envs/macml/lib/python3.9/site-packages/tensorflow/core/function/polymorphism/function_type.py:583\u001b[0m, in \u001b[0;36mcanonicalize_to_monomorphic\u001b[0;34m(args, kwargs, default_values, capture_types, polymorphic_type)\u001b[0m\n\u001b[1;32m    577\u001b[0m       parameters\u001b[38;5;241m.\u001b[39mappend(\n\u001b[1;32m    578\u001b[0m           _make_validated_mono_param(kwarg_name, arg[kwarg_name],\n\u001b[1;32m    579\u001b[0m                                      Parameter\u001b[38;5;241m.\u001b[39mKEYWORD_ONLY, type_context,\n\u001b[1;32m    580\u001b[0m                                      poly_parameter\u001b[38;5;241m.\u001b[39mtype_constraint))\n\u001b[1;32m    581\u001b[0m   \u001b[38;5;28;01melse\u001b[39;00m:\n\u001b[1;32m    582\u001b[0m     parameters\u001b[38;5;241m.\u001b[39mappend(\n\u001b[0;32m--> 583\u001b[0m         \u001b[43m_make_validated_mono_param\u001b[49m\u001b[43m(\u001b[49m\u001b[43mname\u001b[49m\u001b[43m,\u001b[49m\u001b[43m \u001b[49m\u001b[43marg\u001b[49m\u001b[43m,\u001b[49m\u001b[43m \u001b[49m\u001b[43mpoly_parameter\u001b[49m\u001b[38;5;241;43m.\u001b[39;49m\u001b[43mkind\u001b[49m\u001b[43m,\u001b[49m\n\u001b[1;32m    584\u001b[0m \u001b[43m                                   \u001b[49m\u001b[43mtype_context\u001b[49m\u001b[43m,\u001b[49m\n\u001b[1;32m    585\u001b[0m \u001b[43m                                   \u001b[49m\u001b[43mpoly_parameter\u001b[49m\u001b[38;5;241;43m.\u001b[39;49m\u001b[43mtype_constraint\u001b[49m\u001b[43m)\u001b[49m)\n\u001b[1;32m    587\u001b[0m \u001b[38;5;28;01mreturn\u001b[39;00m FunctionType(parameters, capture_types), type_context\n",
      "File \u001b[0;32m~/miniforge3/envs/macml/lib/python3.9/site-packages/tensorflow/core/function/polymorphism/function_type.py:522\u001b[0m, in \u001b[0;36m_make_validated_mono_param\u001b[0;34m(name, value, kind, type_context, poly_type)\u001b[0m\n\u001b[1;32m    518\u001b[0m \u001b[38;5;28;01mdef\u001b[39;00m\u001b[38;5;250m \u001b[39m\u001b[38;5;21m_make_validated_mono_param\u001b[39m(\n\u001b[1;32m    519\u001b[0m     name, value, kind, type_context, poly_type\n\u001b[1;32m    520\u001b[0m ) \u001b[38;5;241m-\u001b[39m\u001b[38;5;241m>\u001b[39m Parameter:\n\u001b[1;32m    521\u001b[0m \u001b[38;5;250m  \u001b[39m\u001b[38;5;124;03m\"\"\"Generates and validates a parameter for Monomorphic FunctionType.\"\"\"\u001b[39;00m\n\u001b[0;32m--> 522\u001b[0m   mono_type \u001b[38;5;241m=\u001b[39m \u001b[43mtrace_type\u001b[49m\u001b[38;5;241;43m.\u001b[39;49m\u001b[43mfrom_value\u001b[49m\u001b[43m(\u001b[49m\u001b[43mvalue\u001b[49m\u001b[43m,\u001b[49m\u001b[43m \u001b[49m\u001b[43mtype_context\u001b[49m\u001b[43m)\u001b[49m\n\u001b[1;32m    524\u001b[0m   \u001b[38;5;28;01mif\u001b[39;00m poly_type \u001b[38;5;129;01mand\u001b[39;00m \u001b[38;5;129;01mnot\u001b[39;00m mono_type\u001b[38;5;241m.\u001b[39mis_subtype_of(poly_type):\n\u001b[1;32m    525\u001b[0m     \u001b[38;5;28;01mraise\u001b[39;00m \u001b[38;5;167;01mTypeError\u001b[39;00m(\u001b[38;5;124mf\u001b[39m\u001b[38;5;124m\"\u001b[39m\u001b[38;5;124mParameter `\u001b[39m\u001b[38;5;132;01m{\u001b[39;00mname\u001b[38;5;132;01m}\u001b[39;00m\u001b[38;5;124m` was expected to be of type \u001b[39m\u001b[38;5;124m\"\u001b[39m\n\u001b[1;32m    526\u001b[0m                     \u001b[38;5;124mf\u001b[39m\u001b[38;5;124m\"\u001b[39m\u001b[38;5;132;01m{\u001b[39;00mpoly_type\u001b[38;5;132;01m}\u001b[39;00m\u001b[38;5;124m but is \u001b[39m\u001b[38;5;132;01m{\u001b[39;00mmono_type\u001b[38;5;132;01m}\u001b[39;00m\u001b[38;5;124m\"\u001b[39m)\n",
      "File \u001b[0;32m~/miniforge3/envs/macml/lib/python3.9/site-packages/tensorflow/core/function/trace_type/trace_type_builder.py:185\u001b[0m, in \u001b[0;36mfrom_value\u001b[0;34m(value, context)\u001b[0m\n\u001b[1;32m    178\u001b[0m   \u001b[38;5;28;01mreturn\u001b[39;00m default_types\u001b[38;5;241m.\u001b[39mAttrs\u001b[38;5;241m.\u001b[39mfrom_type_and_attributes(\n\u001b[1;32m    179\u001b[0m       \u001b[38;5;28mtype\u001b[39m(value),\n\u001b[1;32m    180\u001b[0m       \u001b[38;5;28mtuple\u001b[39m(\n\u001b[1;32m    181\u001b[0m           from_value(\u001b[38;5;28mgetattr\u001b[39m(value, a\u001b[38;5;241m.\u001b[39mname), context)\n\u001b[1;32m    182\u001b[0m           \u001b[38;5;28;01mfor\u001b[39;00m a \u001b[38;5;129;01min\u001b[39;00m value\u001b[38;5;241m.\u001b[39m__attrs_attrs__))\n\u001b[1;32m    184\u001b[0m \u001b[38;5;28;01mif\u001b[39;00m util\u001b[38;5;241m.\u001b[39mis_np_ndarray(value):\n\u001b[0;32m--> 185\u001b[0m   ndarray \u001b[38;5;241m=\u001b[39m \u001b[43mvalue\u001b[49m\u001b[38;5;241;43m.\u001b[39;49m\u001b[43m__array__\u001b[49m\u001b[43m(\u001b[49m\u001b[43m)\u001b[49m\n\u001b[1;32m    186\u001b[0m   \u001b[38;5;28;01mreturn\u001b[39;00m default_types\u001b[38;5;241m.\u001b[39mTENSOR(ndarray\u001b[38;5;241m.\u001b[39mshape, ndarray\u001b[38;5;241m.\u001b[39mdtype)\n\u001b[1;32m    188\u001b[0m \u001b[38;5;28;01mif\u001b[39;00m \u001b[38;5;28misinstance\u001b[39m(value, custom_nest_protocol\u001b[38;5;241m.\u001b[39mCustomNestProtocol):\n",
      "File \u001b[0;32m~/miniforge3/envs/macml/lib/python3.9/site-packages/keras/src/backend/common/keras_tensor.py:126\u001b[0m, in \u001b[0;36mKerasTensor.__array__\u001b[0;34m(self)\u001b[0m\n\u001b[1;32m    125\u001b[0m \u001b[38;5;28;01mdef\u001b[39;00m\u001b[38;5;250m \u001b[39m\u001b[38;5;21m__array__\u001b[39m(\u001b[38;5;28mself\u001b[39m):\n\u001b[0;32m--> 126\u001b[0m     \u001b[38;5;28;01mraise\u001b[39;00m \u001b[38;5;167;01mValueError\u001b[39;00m(\n\u001b[1;32m    127\u001b[0m         \u001b[38;5;124m\"\u001b[39m\u001b[38;5;124mA KerasTensor is symbolic: it\u001b[39m\u001b[38;5;124m'\u001b[39m\u001b[38;5;124ms a placeholder for a shape \u001b[39m\u001b[38;5;124m\"\u001b[39m\n\u001b[1;32m    128\u001b[0m         \u001b[38;5;124m\"\u001b[39m\u001b[38;5;124man a dtype. It doesn\u001b[39m\u001b[38;5;124m'\u001b[39m\u001b[38;5;124mt have any actual numerical value. \u001b[39m\u001b[38;5;124m\"\u001b[39m\n\u001b[1;32m    129\u001b[0m         \u001b[38;5;124m\"\u001b[39m\u001b[38;5;124mYou cannot convert it to a NumPy array.\u001b[39m\u001b[38;5;124m\"\u001b[39m\n\u001b[1;32m    130\u001b[0m     )\n",
      "\u001b[0;31mValueError\u001b[0m: Exception encountered when calling layer 'preprocessing' (type KerasLayer).\n\nA KerasTensor is symbolic: it's a placeholder for a shape an a dtype. It doesn't have any actual numerical value. You cannot convert it to a NumPy array.\n\nCall arguments received by layer 'preprocessing' (type KerasLayer):\n  • inputs=<KerasTensor shape=(None,), dtype=string, sparse=False, ragged=False, name=text>\n  • training=None"
     ]
    }
   ],
   "source": [
    "classifier_model = build_classifier_model()\n",
    "bert_raw_result = classifier_model(tf.constant(text_test))\n",
    "print(tf.sigmoid(bert_raw_result))"
   ]
  },
  {
   "cell_type": "code",
   "execution_count": null,
   "id": "ad2rs5_fr13j",
   "metadata": {
    "id": "ad2rs5_fr13j"
   },
   "outputs": [],
   "source": [
    "loss = tf.keras.losses.BinaryCrossentropy(from_logits=True)\n",
    "metrics = tf.metrics.BinaryAccuracy()"
   ]
  },
  {
   "cell_type": "code",
   "execution_count": null,
   "id": "ZbNEdtAZr4Cd",
   "metadata": {
    "id": "ZbNEdtAZr4Cd"
   },
   "outputs": [],
   "source": [
    "epochs = 5\n",
    "steps_per_epoch = tf.data.experimental.cardinality(train_ds).numpy()\n",
    "num_train_steps = steps_per_epoch * epochs\n",
    "num_warmup_steps = int(0.1*num_train_steps)\n",
    "\n",
    "init_lr = 3e-5\n",
    "optimizer = optimization.create_optimizer(init_lr=init_lr,\n",
    "                                          num_train_steps=num_train_steps,\n",
    "                                          num_warmup_steps=num_warmup_steps,\n",
    "                                          optimizer_type='adamw')"
   ]
  },
  {
   "cell_type": "code",
   "execution_count": null,
   "id": "PttClmVnr7fc",
   "metadata": {
    "id": "PttClmVnr7fc"
   },
   "outputs": [],
   "source": [
    "classifier_model.compile(optimizer=tf.keras.optimizers.AdamW(learning_rate=init_lr), # Use keras.optimizers.AdamW\n",
    "                         loss=loss,\n",
    "                         metrics=metrics)"
   ]
  },
  {
   "cell_type": "code",
   "execution_count": null,
   "id": "xjIZv1sKr_cG",
   "metadata": {
    "id": "xjIZv1sKr_cG"
   },
   "outputs": [],
   "source": [
    "print(f'Training model with {tfhub_handle_encoder}')\n",
    "history = classifier_model.fit(x=train_ds,\n",
    "                               validation_data=val_ds,\n",
    "                               epochs=epochs)"
   ]
  },
  {
   "cell_type": "code",
   "execution_count": null,
   "id": "N1Tm03Sus4Y5",
   "metadata": {
    "id": "N1Tm03Sus4Y5"
   },
   "outputs": [],
   "source": [
    "classifier_model.save(\"bert.keras\")  # HDF5 format"
   ]
  },
  {
   "cell_type": "code",
   "execution_count": 31,
   "id": "FieW982DlXGV",
   "metadata": {
    "colab": {
     "base_uri": "https://localhost:8080/",
     "height": 176
    },
    "id": "FieW982DlXGV",
    "outputId": "7392ed6f-c890-4781-b676-8d412bec0e8a"
   },
   "outputs": [
    {
     "ename": "AttributeError",
     "evalue": "'KerasLayer' object has no attribute 'predict'",
     "output_type": "error",
     "traceback": [
      "\u001b[0;31m---------------------------------------------------------------------------\u001b[0m",
      "\u001b[0;31mAttributeError\u001b[0m                            Traceback (most recent call last)",
      "\u001b[0;32m<ipython-input-31-e20f5451410b>\u001b[0m in \u001b[0;36m<cell line: 0>\u001b[0;34m()\u001b[0m\n\u001b[0;32m----> 1\u001b[0;31m \u001b[0mpred\u001b[0m \u001b[0;34m=\u001b[0m \u001b[0mbert_model\u001b[0m\u001b[0;34m.\u001b[0m\u001b[0mpredict\u001b[0m\u001b[0;34m(\u001b[0m\u001b[0;34m\"The movie was absolutely wonderful.\"\u001b[0m\u001b[0;34m)\u001b[0m\u001b[0;34m\u001b[0m\u001b[0;34m\u001b[0m\u001b[0m\n\u001b[0m\u001b[1;32m      2\u001b[0m \u001b[0mprint\u001b[0m\u001b[0;34m(\u001b[0m\u001b[0mpred\u001b[0m\u001b[0;34m)\u001b[0m\u001b[0;34m\u001b[0m\u001b[0;34m\u001b[0m\u001b[0m\n\u001b[1;32m      3\u001b[0m \u001b[0mprint\u001b[0m\u001b[0;34m(\u001b[0m\u001b[0;34m\"💬 Sentiment:\"\u001b[0m\u001b[0;34m,\u001b[0m \u001b[0;34m\"positive\"\u001b[0m \u001b[0;32mif\u001b[0m \u001b[0mpred\u001b[0m \u001b[0;34m>\u001b[0m \u001b[0;36m0.5\u001b[0m \u001b[0;32melse\u001b[0m \u001b[0;34m\"negative\"\u001b[0m\u001b[0;34m,\u001b[0m \u001b[0;34mf\"({pred:.4f})\"\u001b[0m\u001b[0;34m)\u001b[0m\u001b[0;34m\u001b[0m\u001b[0;34m\u001b[0m\u001b[0m\n",
      "\u001b[0;31mAttributeError\u001b[0m: 'KerasLayer' object has no attribute 'predict'"
     ]
    }
   ],
   "source": [
    "pred = classifier_model.predict([\"The movie was absolutely wonderful.\"])\n",
    "print(pred)\n",
    "print(\"💬 Sentiment:\", \"positive\" if pred[0][0] > 0.5 else \"negative\", f\"({pred[0][0]:.4f})\")"
   ]
  }
 ],
 "metadata": {
  "accelerator": "GPU",
  "colab": {
   "gpuType": "A100",
   "include_colab_link": true,
   "machine_shape": "hm",
   "provenance": []
  },
  "kernelspec": {
   "display_name": "Python 3 (ipykernel)",
   "language": "python",
   "name": "python3"
  },
  "language_info": {
   "codemirror_mode": {
    "name": "ipython",
    "version": 3
   },
   "file_extension": ".py",
   "mimetype": "text/x-python",
   "name": "python",
   "nbconvert_exporter": "python",
   "pygments_lexer": "ipython3",
   "version": "3.9.21"
  }
 },
 "nbformat": 4,
 "nbformat_minor": 5
}
